{
 "cells": [
  {
   "cell_type": "code",
   "execution_count": 1,
   "id": "6c75f9bc-a1ec-4349-9142-f3d8370c606f",
   "metadata": {},
   "outputs": [],
   "source": [
    "def parse(path):\n",
    "  g = gzip.open(path, 'r')\n",
    "  for l in g:\n",
    "    yield json.loads(l)"
   ]
  },
  {
   "cell_type": "code",
   "execution_count": 13,
   "id": "b3df417a-3710-44b7-8eef-2750ae00472e",
   "metadata": {},
   "outputs": [
    {
     "name": "stderr",
     "output_type": "stream",
     "text": [
      "18661975it [02:59, 103963.32it/s]\n"
     ]
    }
   ],
   "source": [
    "import gzip\n",
    "from tqdm import tqdm\n",
    "path_to_file = \"review-New_York_10.json.gz\"\n",
    "\n",
    "# Let's load all data\n",
    "data = []\n",
    "for i, d in tqdm(enumerate(parse(path_to_file))):  \n",
    "    data.append(d)"
   ]
  },
  {
   "cell_type": "code",
   "execution_count": 17,
   "id": "a5074176-29da-4047-87ed-0ba25a3df1db",
   "metadata": {},
   "outputs": [
    {
     "data": {
      "text/html": [
       "<div>\n",
       "<style scoped>\n",
       "    .dataframe tbody tr th:only-of-type {\n",
       "        vertical-align: middle;\n",
       "    }\n",
       "\n",
       "    .dataframe tbody tr th {\n",
       "        vertical-align: top;\n",
       "    }\n",
       "\n",
       "    .dataframe thead th {\n",
       "        text-align: right;\n",
       "    }\n",
       "</style>\n",
       "<table border=\"1\" class=\"dataframe\">\n",
       "  <thead>\n",
       "    <tr style=\"text-align: right;\">\n",
       "      <th></th>\n",
       "      <th>user_id</th>\n",
       "      <th>name</th>\n",
       "      <th>time</th>\n",
       "      <th>rating</th>\n",
       "      <th>text</th>\n",
       "      <th>pics</th>\n",
       "      <th>resp</th>\n",
       "      <th>gmap_id</th>\n",
       "    </tr>\n",
       "  </thead>\n",
       "  <tbody>\n",
       "    <tr>\n",
       "      <th>0</th>\n",
       "      <td>113722104692308235141</td>\n",
       "      <td>Alvin Martinez</td>\n",
       "      <td>1603494795361</td>\n",
       "      <td>5</td>\n",
       "      <td>I'm late to posting this but this store especi...</td>\n",
       "      <td>[{'url': ['https://lh5.googleusercontent.com/p...</td>\n",
       "      <td>None</td>\n",
       "      <td>0x89c25fc9494dce47:0x6d63c807b59a55</td>\n",
       "    </tr>\n",
       "    <tr>\n",
       "      <th>1</th>\n",
       "      <td>107293441492109320298</td>\n",
       "      <td>Johnnie Jackson</td>\n",
       "      <td>1620157037403</td>\n",
       "      <td>1</td>\n",
       "      <td>Very dissatisfied I did not get my phone the p...</td>\n",
       "      <td>None</td>\n",
       "      <td>{'time': 1620268360920, 'text': 'We pride ours...</td>\n",
       "      <td>0x89c25fc9494dce47:0x6d63c807b59a55</td>\n",
       "    </tr>\n",
       "    <tr>\n",
       "      <th>2</th>\n",
       "      <td>100378585801819400296</td>\n",
       "      <td>Manie Blazer</td>\n",
       "      <td>1597431662039</td>\n",
       "      <td>5</td>\n",
       "      <td>Excellent very well done with professional car...</td>\n",
       "      <td>None</td>\n",
       "      <td>None</td>\n",
       "      <td>0x89c25fc9494dce47:0x6d63c807b59a55</td>\n",
       "    </tr>\n",
       "    <tr>\n",
       "      <th>3</th>\n",
       "      <td>114998161153019826512</td>\n",
       "      <td>Fashion Fiinds</td>\n",
       "      <td>1543773862044</td>\n",
       "      <td>5</td>\n",
       "      <td>Basing my review strictly on the service I rec...</td>\n",
       "      <td>None</td>\n",
       "      <td>{'time': 1543855317372, 'text': 'Thanks for th...</td>\n",
       "      <td>0x89c25fc9494dce47:0x6d63c807b59a55</td>\n",
       "    </tr>\n",
       "    <tr>\n",
       "      <th>4</th>\n",
       "      <td>117178185728422297915</td>\n",
       "      <td>Andres Rieloff</td>\n",
       "      <td>1597279097718</td>\n",
       "      <td>1</td>\n",
       "      <td>Bad! Disorganized. I'm being totally honest. I...</td>\n",
       "      <td>None</td>\n",
       "      <td>None</td>\n",
       "      <td>0x89c25fc9494dce47:0x6d63c807b59a55</td>\n",
       "    </tr>\n",
       "  </tbody>\n",
       "</table>\n",
       "</div>"
      ],
      "text/plain": [
       "                 user_id             name           time  rating  \\\n",
       "0  113722104692308235141   Alvin Martinez  1603494795361       5   \n",
       "1  107293441492109320298  Johnnie Jackson  1620157037403       1   \n",
       "2  100378585801819400296     Manie Blazer  1597431662039       5   \n",
       "3  114998161153019826512   Fashion Fiinds  1543773862044       5   \n",
       "4  117178185728422297915   Andres Rieloff  1597279097718       1   \n",
       "\n",
       "                                                text  \\\n",
       "0  I'm late to posting this but this store especi...   \n",
       "1  Very dissatisfied I did not get my phone the p...   \n",
       "2  Excellent very well done with professional car...   \n",
       "3  Basing my review strictly on the service I rec...   \n",
       "4  Bad! Disorganized. I'm being totally honest. I...   \n",
       "\n",
       "                                                pics  \\\n",
       "0  [{'url': ['https://lh5.googleusercontent.com/p...   \n",
       "1                                               None   \n",
       "2                                               None   \n",
       "3                                               None   \n",
       "4                                               None   \n",
       "\n",
       "                                                resp  \\\n",
       "0                                               None   \n",
       "1  {'time': 1620268360920, 'text': 'We pride ours...   \n",
       "2                                               None   \n",
       "3  {'time': 1543855317372, 'text': 'Thanks for th...   \n",
       "4                                               None   \n",
       "\n",
       "                               gmap_id  \n",
       "0  0x89c25fc9494dce47:0x6d63c807b59a55  \n",
       "1  0x89c25fc9494dce47:0x6d63c807b59a55  \n",
       "2  0x89c25fc9494dce47:0x6d63c807b59a55  \n",
       "3  0x89c25fc9494dce47:0x6d63c807b59a55  \n",
       "4  0x89c25fc9494dce47:0x6d63c807b59a55  "
      ]
     },
     "execution_count": 17,
     "metadata": {},
     "output_type": "execute_result"
    }
   ],
   "source": [
    "import pandas as pd\n",
    "# Convert to DataFrame\n",
    "df = pd.DataFrame(data)\n",
    "\n",
    "# Preview the data\n",
    "df.head()"
   ]
  },
  {
   "cell_type": "code",
   "execution_count": 111,
   "id": "e489b9af-9543-4a65-b108-e766a4e3646b",
   "metadata": {},
   "outputs": [
    {
     "data": {
      "text/html": [
       "<div>\n",
       "<style scoped>\n",
       "    .dataframe tbody tr th:only-of-type {\n",
       "        vertical-align: middle;\n",
       "    }\n",
       "\n",
       "    .dataframe tbody tr th {\n",
       "        vertical-align: top;\n",
       "    }\n",
       "\n",
       "    .dataframe thead th {\n",
       "        text-align: right;\n",
       "    }\n",
       "</style>\n",
       "<table border=\"1\" class=\"dataframe\">\n",
       "  <thead>\n",
       "    <tr style=\"text-align: right;\">\n",
       "      <th></th>\n",
       "      <th>user_id</th>\n",
       "      <th>rating</th>\n",
       "      <th>text</th>\n",
       "      <th>gmap_id</th>\n",
       "    </tr>\n",
       "  </thead>\n",
       "  <tbody>\n",
       "    <tr>\n",
       "      <th>2363707</th>\n",
       "      <td>113564694643974223253</td>\n",
       "      <td>5</td>\n",
       "      <td>Great coffee &amp; donuts, plus!</td>\n",
       "      <td>0x89e82fcc44386585:0xf3d3b5ccf2c18501</td>\n",
       "    </tr>\n",
       "    <tr>\n",
       "      <th>8104924</th>\n",
       "      <td>106108700176893194365</td>\n",
       "      <td>5</td>\n",
       "      <td>None</td>\n",
       "      <td>0x89d37403c76a7287:0xad1e1158405e7379</td>\n",
       "    </tr>\n",
       "    <tr>\n",
       "      <th>707678</th>\n",
       "      <td>101647825054077665263</td>\n",
       "      <td>5</td>\n",
       "      <td>None</td>\n",
       "      <td>0x89c258e2cfc41749:0xa890b333fc889a03</td>\n",
       "    </tr>\n",
       "    <tr>\n",
       "      <th>7978961</th>\n",
       "      <td>101701595549116309165</td>\n",
       "      <td>5</td>\n",
       "      <td>None</td>\n",
       "      <td>0x89d3a298b5852479:0x32983d0d7777fdb9</td>\n",
       "    </tr>\n",
       "    <tr>\n",
       "      <th>16684439</th>\n",
       "      <td>102121998027632943441</td>\n",
       "      <td>5</td>\n",
       "      <td>👌👌</td>\n",
       "      <td>0x89c259a8ef657243:0x9185d801317e2d9d</td>\n",
       "    </tr>\n",
       "    <tr>\n",
       "      <th>...</th>\n",
       "      <td>...</td>\n",
       "      <td>...</td>\n",
       "      <td>...</td>\n",
       "      <td>...</td>\n",
       "    </tr>\n",
       "    <tr>\n",
       "      <th>5051667</th>\n",
       "      <td>104181741037321372066</td>\n",
       "      <td>5</td>\n",
       "      <td>Quality, selection and more quality</td>\n",
       "      <td>0x89c25baa0865c299:0x13b7a51a508c3374</td>\n",
       "    </tr>\n",
       "    <tr>\n",
       "      <th>11187824</th>\n",
       "      <td>109148814688929592082</td>\n",
       "      <td>5</td>\n",
       "      <td>None</td>\n",
       "      <td>0x89c2606f68f89b7f:0x609f5178585763c2</td>\n",
       "    </tr>\n",
       "    <tr>\n",
       "      <th>11448741</th>\n",
       "      <td>101727937516316216390</td>\n",
       "      <td>5</td>\n",
       "      <td>Try the grandma's pie and the coconut sweet po...</td>\n",
       "      <td>0x89c292e84262eefb:0x2c8442f1b5613cee</td>\n",
       "    </tr>\n",
       "    <tr>\n",
       "      <th>8487025</th>\n",
       "      <td>109776738927936170487</td>\n",
       "      <td>5</td>\n",
       "      <td>None</td>\n",
       "      <td>0x89c25bade4f8471b:0x41198734904b71f6</td>\n",
       "    </tr>\n",
       "    <tr>\n",
       "      <th>18558406</th>\n",
       "      <td>115130694494995675098</td>\n",
       "      <td>1</td>\n",
       "      <td>Rude</td>\n",
       "      <td>0x89c2f66d3282a545:0x1ccd9839e39cdc2d</td>\n",
       "    </tr>\n",
       "  </tbody>\n",
       "</table>\n",
       "<p>10000 rows × 4 columns</p>\n",
       "</div>"
      ],
      "text/plain": [
       "                        user_id  rating  \\\n",
       "2363707   113564694643974223253       5   \n",
       "8104924   106108700176893194365       5   \n",
       "707678    101647825054077665263       5   \n",
       "7978961   101701595549116309165       5   \n",
       "16684439  102121998027632943441       5   \n",
       "...                         ...     ...   \n",
       "5051667   104181741037321372066       5   \n",
       "11187824  109148814688929592082       5   \n",
       "11448741  101727937516316216390       5   \n",
       "8487025   109776738927936170487       5   \n",
       "18558406  115130694494995675098       1   \n",
       "\n",
       "                                                       text  \\\n",
       "2363707                        Great coffee & donuts, plus!   \n",
       "8104924                                                None   \n",
       "707678                                                 None   \n",
       "7978961                                                None   \n",
       "16684439                                                 👌👌   \n",
       "...                                                     ...   \n",
       "5051667                 Quality, selection and more quality   \n",
       "11187824                                               None   \n",
       "11448741  Try the grandma's pie and the coconut sweet po...   \n",
       "8487025                                                None   \n",
       "18558406                                               Rude   \n",
       "\n",
       "                                        gmap_id  \n",
       "2363707   0x89e82fcc44386585:0xf3d3b5ccf2c18501  \n",
       "8104924   0x89d37403c76a7287:0xad1e1158405e7379  \n",
       "707678    0x89c258e2cfc41749:0xa890b333fc889a03  \n",
       "7978961   0x89d3a298b5852479:0x32983d0d7777fdb9  \n",
       "16684439  0x89c259a8ef657243:0x9185d801317e2d9d  \n",
       "...                                         ...  \n",
       "5051667   0x89c25baa0865c299:0x13b7a51a508c3374  \n",
       "11187824  0x89c2606f68f89b7f:0x609f5178585763c2  \n",
       "11448741  0x89c292e84262eefb:0x2c8442f1b5613cee  \n",
       "8487025   0x89c25bade4f8471b:0x41198734904b71f6  \n",
       "18558406  0x89c2f66d3282a545:0x1ccd9839e39cdc2d  \n",
       "\n",
       "[10000 rows x 4 columns]"
      ]
     },
     "execution_count": 111,
     "metadata": {},
     "output_type": "execute_result"
    }
   ],
   "source": [
    "df_sampled = df.sample(n=10000, random_state=42)\n",
    "df_sampled"
   ]
  },
  {
   "cell_type": "code",
   "execution_count": 113,
   "id": "3c2f5228-a9c0-4923-942d-037f1d42c30c",
   "metadata": {},
   "outputs": [
    {
     "ename": "KeyError",
     "evalue": "\"['name', 'time', 'pics', 'resp'] not found in axis\"",
     "output_type": "error",
     "traceback": [
      "\u001b[1;31m---------------------------------------------------------------------------\u001b[0m",
      "\u001b[1;31mKeyError\u001b[0m                                  Traceback (most recent call last)",
      "Cell \u001b[1;32mIn[113], line 1\u001b[0m\n\u001b[1;32m----> 1\u001b[0m df_sampled\u001b[38;5;241m=\u001b[39mdf_sampled\u001b[38;5;241m.\u001b[39mdrop(columns\u001b[38;5;241m=\u001b[39m[\u001b[38;5;124m'\u001b[39m\u001b[38;5;124mname\u001b[39m\u001b[38;5;124m'\u001b[39m, \u001b[38;5;124m'\u001b[39m\u001b[38;5;124mtime\u001b[39m\u001b[38;5;124m'\u001b[39m, \u001b[38;5;124m'\u001b[39m\u001b[38;5;124mpics\u001b[39m\u001b[38;5;124m'\u001b[39m, \u001b[38;5;124m'\u001b[39m\u001b[38;5;124mresp\u001b[39m\u001b[38;5;124m'\u001b[39m])\n",
      "File \u001b[1;32m~\\anaconda3\\Lib\\site-packages\\pandas\\core\\frame.py:5581\u001b[0m, in \u001b[0;36mDataFrame.drop\u001b[1;34m(self, labels, axis, index, columns, level, inplace, errors)\u001b[0m\n\u001b[0;32m   5433\u001b[0m \u001b[38;5;28;01mdef\u001b[39;00m \u001b[38;5;21mdrop\u001b[39m(\n\u001b[0;32m   5434\u001b[0m     \u001b[38;5;28mself\u001b[39m,\n\u001b[0;32m   5435\u001b[0m     labels: IndexLabel \u001b[38;5;241m|\u001b[39m \u001b[38;5;28;01mNone\u001b[39;00m \u001b[38;5;241m=\u001b[39m \u001b[38;5;28;01mNone\u001b[39;00m,\n\u001b[1;32m   (...)\u001b[0m\n\u001b[0;32m   5442\u001b[0m     errors: IgnoreRaise \u001b[38;5;241m=\u001b[39m \u001b[38;5;124m\"\u001b[39m\u001b[38;5;124mraise\u001b[39m\u001b[38;5;124m\"\u001b[39m,\n\u001b[0;32m   5443\u001b[0m ) \u001b[38;5;241m-\u001b[39m\u001b[38;5;241m>\u001b[39m DataFrame \u001b[38;5;241m|\u001b[39m \u001b[38;5;28;01mNone\u001b[39;00m:\n\u001b[0;32m   5444\u001b[0m \u001b[38;5;250m    \u001b[39m\u001b[38;5;124;03m\"\"\"\u001b[39;00m\n\u001b[0;32m   5445\u001b[0m \u001b[38;5;124;03m    Drop specified labels from rows or columns.\u001b[39;00m\n\u001b[0;32m   5446\u001b[0m \n\u001b[1;32m   (...)\u001b[0m\n\u001b[0;32m   5579\u001b[0m \u001b[38;5;124;03m            weight  1.0     0.8\u001b[39;00m\n\u001b[0;32m   5580\u001b[0m \u001b[38;5;124;03m    \"\"\"\u001b[39;00m\n\u001b[1;32m-> 5581\u001b[0m     \u001b[38;5;28;01mreturn\u001b[39;00m \u001b[38;5;28msuper\u001b[39m()\u001b[38;5;241m.\u001b[39mdrop(\n\u001b[0;32m   5582\u001b[0m         labels\u001b[38;5;241m=\u001b[39mlabels,\n\u001b[0;32m   5583\u001b[0m         axis\u001b[38;5;241m=\u001b[39maxis,\n\u001b[0;32m   5584\u001b[0m         index\u001b[38;5;241m=\u001b[39mindex,\n\u001b[0;32m   5585\u001b[0m         columns\u001b[38;5;241m=\u001b[39mcolumns,\n\u001b[0;32m   5586\u001b[0m         level\u001b[38;5;241m=\u001b[39mlevel,\n\u001b[0;32m   5587\u001b[0m         inplace\u001b[38;5;241m=\u001b[39minplace,\n\u001b[0;32m   5588\u001b[0m         errors\u001b[38;5;241m=\u001b[39merrors,\n\u001b[0;32m   5589\u001b[0m     )\n",
      "File \u001b[1;32m~\\anaconda3\\Lib\\site-packages\\pandas\\core\\generic.py:4788\u001b[0m, in \u001b[0;36mNDFrame.drop\u001b[1;34m(self, labels, axis, index, columns, level, inplace, errors)\u001b[0m\n\u001b[0;32m   4786\u001b[0m \u001b[38;5;28;01mfor\u001b[39;00m axis, labels \u001b[38;5;129;01min\u001b[39;00m axes\u001b[38;5;241m.\u001b[39mitems():\n\u001b[0;32m   4787\u001b[0m     \u001b[38;5;28;01mif\u001b[39;00m labels \u001b[38;5;129;01mis\u001b[39;00m \u001b[38;5;129;01mnot\u001b[39;00m \u001b[38;5;28;01mNone\u001b[39;00m:\n\u001b[1;32m-> 4788\u001b[0m         obj \u001b[38;5;241m=\u001b[39m obj\u001b[38;5;241m.\u001b[39m_drop_axis(labels, axis, level\u001b[38;5;241m=\u001b[39mlevel, errors\u001b[38;5;241m=\u001b[39merrors)\n\u001b[0;32m   4790\u001b[0m \u001b[38;5;28;01mif\u001b[39;00m inplace:\n\u001b[0;32m   4791\u001b[0m     \u001b[38;5;28mself\u001b[39m\u001b[38;5;241m.\u001b[39m_update_inplace(obj)\n",
      "File \u001b[1;32m~\\anaconda3\\Lib\\site-packages\\pandas\\core\\generic.py:4830\u001b[0m, in \u001b[0;36mNDFrame._drop_axis\u001b[1;34m(self, labels, axis, level, errors, only_slice)\u001b[0m\n\u001b[0;32m   4828\u001b[0m         new_axis \u001b[38;5;241m=\u001b[39m axis\u001b[38;5;241m.\u001b[39mdrop(labels, level\u001b[38;5;241m=\u001b[39mlevel, errors\u001b[38;5;241m=\u001b[39merrors)\n\u001b[0;32m   4829\u001b[0m     \u001b[38;5;28;01melse\u001b[39;00m:\n\u001b[1;32m-> 4830\u001b[0m         new_axis \u001b[38;5;241m=\u001b[39m axis\u001b[38;5;241m.\u001b[39mdrop(labels, errors\u001b[38;5;241m=\u001b[39merrors)\n\u001b[0;32m   4831\u001b[0m     indexer \u001b[38;5;241m=\u001b[39m axis\u001b[38;5;241m.\u001b[39mget_indexer(new_axis)\n\u001b[0;32m   4833\u001b[0m \u001b[38;5;66;03m# Case for non-unique axis\u001b[39;00m\n\u001b[0;32m   4834\u001b[0m \u001b[38;5;28;01melse\u001b[39;00m:\n",
      "File \u001b[1;32m~\\anaconda3\\Lib\\site-packages\\pandas\\core\\indexes\\base.py:7070\u001b[0m, in \u001b[0;36mIndex.drop\u001b[1;34m(self, labels, errors)\u001b[0m\n\u001b[0;32m   7068\u001b[0m \u001b[38;5;28;01mif\u001b[39;00m mask\u001b[38;5;241m.\u001b[39many():\n\u001b[0;32m   7069\u001b[0m     \u001b[38;5;28;01mif\u001b[39;00m errors \u001b[38;5;241m!=\u001b[39m \u001b[38;5;124m\"\u001b[39m\u001b[38;5;124mignore\u001b[39m\u001b[38;5;124m\"\u001b[39m:\n\u001b[1;32m-> 7070\u001b[0m         \u001b[38;5;28;01mraise\u001b[39;00m \u001b[38;5;167;01mKeyError\u001b[39;00m(\u001b[38;5;124mf\u001b[39m\u001b[38;5;124m\"\u001b[39m\u001b[38;5;132;01m{\u001b[39;00mlabels[mask]\u001b[38;5;241m.\u001b[39mtolist()\u001b[38;5;132;01m}\u001b[39;00m\u001b[38;5;124m not found in axis\u001b[39m\u001b[38;5;124m\"\u001b[39m)\n\u001b[0;32m   7071\u001b[0m     indexer \u001b[38;5;241m=\u001b[39m indexer[\u001b[38;5;241m~\u001b[39mmask]\n\u001b[0;32m   7072\u001b[0m \u001b[38;5;28;01mreturn\u001b[39;00m \u001b[38;5;28mself\u001b[39m\u001b[38;5;241m.\u001b[39mdelete(indexer)\n",
      "\u001b[1;31mKeyError\u001b[0m: \"['name', 'time', 'pics', 'resp'] not found in axis\""
     ]
    }
   ],
   "source": [
    "df_sampled=df_sampled.drop(columns=['name', 'time', 'pics', 'resp'])"
   ]
  },
  {
   "cell_type": "code",
   "execution_count": 115,
   "id": "3042b427-c00f-4418-bae6-07c88218896d",
   "metadata": {},
   "outputs": [],
   "source": [
    "import re\n",
    "\n",
    "def clean_translation(review):\n",
    "    if '(translated by google)' in review:\n",
    "        # Case 1: There's an Original part\n",
    "        translated_match = re.search(\n",
    "            r'\\(translated by google\\)\\s*(.*?)\\s*(?:\\(original|\\Z)', \n",
    "            review, \n",
    "            re.DOTALL | re.IGNORECASE\n",
    "        )\n",
    "        if translated_match:\n",
    "            return translated_match.group(1).strip().replace('\\n', '')\n",
    "        else:\n",
    "            # Case 2: No Original part, just remove the label\n",
    "            return review.replace('(translated by google)', '').strip().replace('\\n', '')\n",
    "    else:\n",
    "        return review.replace('\\n', '')\n"
   ]
  },
  {
   "cell_type": "code",
   "execution_count": 117,
   "id": "f4150ffe-03d8-4aa8-989f-30325443f98c",
   "metadata": {},
   "outputs": [],
   "source": [
    "def remove_emojis(text):\n",
    "    emoji_pattern = re.compile(\n",
    "        \"[\" \n",
    "        u\"\\U0001F600-\\U0001F64F\"\n",
    "        u\"\\U0001F300-\\U0001F5FF\"\n",
    "        u\"\\U0001F680-\\U0001F6FF\"\n",
    "        u\"\\U0001F1E0-\\U0001F1FF\"\n",
    "        \"]+\", flags=re.UNICODE)\n",
    "    return emoji_pattern.sub(r'', text)"
   ]
  },
  {
   "cell_type": "code",
   "execution_count": 207,
   "id": "0064b89e-73b1-4a53-82b4-e1683994b39d",
   "metadata": {},
   "outputs": [
    {
     "name": "stderr",
     "output_type": "stream",
     "text": [
      "[nltk_data] Downloading package stopwords to\n",
      "[nltk_data]     C:\\Users\\madel\\AppData\\Roaming\\nltk_data...\n",
      "[nltk_data]   Package stopwords is already up-to-date!\n"
     ]
    }
   ],
   "source": [
    "# remove stopwords\n",
    "import nltk\n",
    "from nltk.corpus import stopwords\n",
    "nltk.download('stopwords')\n",
    "\n",
    "stop_words = set(stopwords.words('english'))\n",
    "custom_stopwords = {\"he\", \"she\", \"we\", \"me\", \"was\", \"were\", \"they\", \"the\", \"that\", \"to\"}  # add if needed\n",
    "positive_words = [\"good\", \"great\", \"excellent\", \"love\", \"amazing\", \"happy\"]\n",
    "negative_words = [\"bad\", \"terrible\", \"worst\", \"hate\", \"disappointing\", \"awful\"]\n",
    "\n",
    "def remove_stopwords(text):\n",
    "    tokens = text.lower().split()\n",
    "    filtered_tokens = [word for word in tokens if word not in stop_words and word not in custom_stopwords and word not in positive_words and word not in negative_words]\n",
    "    return \" \".join(filtered_tokens)\n"
   ]
  },
  {
   "cell_type": "code",
   "execution_count": 209,
   "id": "bcd44fa4-67bf-438d-a353-3b79bbf63b86",
   "metadata": {},
   "outputs": [
    {
     "data": {
      "text/html": [
       "<div>\n",
       "<style scoped>\n",
       "    .dataframe tbody tr th:only-of-type {\n",
       "        vertical-align: middle;\n",
       "    }\n",
       "\n",
       "    .dataframe tbody tr th {\n",
       "        vertical-align: top;\n",
       "    }\n",
       "\n",
       "    .dataframe thead th {\n",
       "        text-align: right;\n",
       "    }\n",
       "</style>\n",
       "<table border=\"1\" class=\"dataframe\">\n",
       "  <thead>\n",
       "    <tr style=\"text-align: right;\">\n",
       "      <th></th>\n",
       "      <th>user_id</th>\n",
       "      <th>rating</th>\n",
       "      <th>text</th>\n",
       "      <th>gmap_id</th>\n",
       "      <th>clean_review</th>\n",
       "    </tr>\n",
       "  </thead>\n",
       "  <tbody>\n",
       "    <tr>\n",
       "      <th>2363707</th>\n",
       "      <td>113564694643974223253</td>\n",
       "      <td>5</td>\n",
       "      <td>Great coffee &amp; donuts, plus!</td>\n",
       "      <td>0x89e82fcc44386585:0xf3d3b5ccf2c18501</td>\n",
       "      <td>coffee &amp; donuts, plus!</td>\n",
       "    </tr>\n",
       "    <tr>\n",
       "      <th>16684439</th>\n",
       "      <td>102121998027632943441</td>\n",
       "      <td>5</td>\n",
       "      <td>👌👌</td>\n",
       "      <td>0x89c259a8ef657243:0x9185d801317e2d9d</td>\n",
       "      <td></td>\n",
       "    </tr>\n",
       "    <tr>\n",
       "      <th>7929264</th>\n",
       "      <td>101324914199828592760</td>\n",
       "      <td>5</td>\n",
       "      <td>Great coffee shop, better espresso (and espres...</td>\n",
       "      <td>0x89c2598b100f9865:0x6b41d5e7852d0cbd</td>\n",
       "      <td>coffee shop, better espresso (and espresso bev...</td>\n",
       "    </tr>\n",
       "    <tr>\n",
       "      <th>7853476</th>\n",
       "      <td>115689816368267601373</td>\n",
       "      <td>5</td>\n",
       "      <td>Fast check out</td>\n",
       "      <td>0x89c265da70342425:0x10448a1401930e6e</td>\n",
       "      <td>fast check</td>\n",
       "    </tr>\n",
       "    <tr>\n",
       "      <th>3278029</th>\n",
       "      <td>109205283840018891624</td>\n",
       "      <td>4</td>\n",
       "      <td>Updating and processing forward in Shopping Care.</td>\n",
       "      <td>0x89c26758d471c9d7:0x3ad64ce64657c5f5</td>\n",
       "      <td>updating processing forward shopping care.</td>\n",
       "    </tr>\n",
       "    <tr>\n",
       "      <th>...</th>\n",
       "      <td>...</td>\n",
       "      <td>...</td>\n",
       "      <td>...</td>\n",
       "      <td>...</td>\n",
       "      <td>...</td>\n",
       "    </tr>\n",
       "    <tr>\n",
       "      <th>1995219</th>\n",
       "      <td>111478413726922858485</td>\n",
       "      <td>4</td>\n",
       "      <td>Good customer service</td>\n",
       "      <td>0x89c2dd4ef0038e4b:0xacf447643a82e5df</td>\n",
       "      <td>customer service</td>\n",
       "    </tr>\n",
       "    <tr>\n",
       "      <th>16203560</th>\n",
       "      <td>117071832739994162170</td>\n",
       "      <td>5</td>\n",
       "      <td>(Translated by Google) Bialiilcious\\n\\n(Origin...</td>\n",
       "      <td>0x89c259762e26a813:0xf37426d261b7d2db</td>\n",
       "      <td>bialiilcious</td>\n",
       "    </tr>\n",
       "    <tr>\n",
       "      <th>5051667</th>\n",
       "      <td>104181741037321372066</td>\n",
       "      <td>5</td>\n",
       "      <td>Quality, selection and more quality</td>\n",
       "      <td>0x89c25baa0865c299:0x13b7a51a508c3374</td>\n",
       "      <td>quality, selection quality</td>\n",
       "    </tr>\n",
       "    <tr>\n",
       "      <th>11448741</th>\n",
       "      <td>101727937516316216390</td>\n",
       "      <td>5</td>\n",
       "      <td>Try the grandma's pie and the coconut sweet po...</td>\n",
       "      <td>0x89c292e84262eefb:0x2c8442f1b5613cee</td>\n",
       "      <td>try grandma's pie coconut sweet potato fries.....</td>\n",
       "    </tr>\n",
       "    <tr>\n",
       "      <th>18558406</th>\n",
       "      <td>115130694494995675098</td>\n",
       "      <td>1</td>\n",
       "      <td>Rude</td>\n",
       "      <td>0x89c2f66d3282a545:0x1ccd9839e39cdc2d</td>\n",
       "      <td>rude</td>\n",
       "    </tr>\n",
       "  </tbody>\n",
       "</table>\n",
       "<p>5316 rows × 5 columns</p>\n",
       "</div>"
      ],
      "text/plain": [
       "                        user_id  rating  \\\n",
       "2363707   113564694643974223253       5   \n",
       "16684439  102121998027632943441       5   \n",
       "7929264   101324914199828592760       5   \n",
       "7853476   115689816368267601373       5   \n",
       "3278029   109205283840018891624       4   \n",
       "...                         ...     ...   \n",
       "1995219   111478413726922858485       4   \n",
       "16203560  117071832739994162170       5   \n",
       "5051667   104181741037321372066       5   \n",
       "11448741  101727937516316216390       5   \n",
       "18558406  115130694494995675098       1   \n",
       "\n",
       "                                                       text  \\\n",
       "2363707                        Great coffee & donuts, plus!   \n",
       "16684439                                                 👌👌   \n",
       "7929264   Great coffee shop, better espresso (and espres...   \n",
       "7853476                                      Fast check out   \n",
       "3278029   Updating and processing forward in Shopping Care.   \n",
       "...                                                     ...   \n",
       "1995219                               Good customer service   \n",
       "16203560  (Translated by Google) Bialiilcious\\n\\n(Origin...   \n",
       "5051667                 Quality, selection and more quality   \n",
       "11448741  Try the grandma's pie and the coconut sweet po...   \n",
       "18558406                                               Rude   \n",
       "\n",
       "                                        gmap_id  \\\n",
       "2363707   0x89e82fcc44386585:0xf3d3b5ccf2c18501   \n",
       "16684439  0x89c259a8ef657243:0x9185d801317e2d9d   \n",
       "7929264   0x89c2598b100f9865:0x6b41d5e7852d0cbd   \n",
       "7853476   0x89c265da70342425:0x10448a1401930e6e   \n",
       "3278029   0x89c26758d471c9d7:0x3ad64ce64657c5f5   \n",
       "...                                         ...   \n",
       "1995219   0x89c2dd4ef0038e4b:0xacf447643a82e5df   \n",
       "16203560  0x89c259762e26a813:0xf37426d261b7d2db   \n",
       "5051667   0x89c25baa0865c299:0x13b7a51a508c3374   \n",
       "11448741  0x89c292e84262eefb:0x2c8442f1b5613cee   \n",
       "18558406  0x89c2f66d3282a545:0x1ccd9839e39cdc2d   \n",
       "\n",
       "                                               clean_review  \n",
       "2363707                              coffee & donuts, plus!  \n",
       "16684439                                                     \n",
       "7929264   coffee shop, better espresso (and espresso bev...  \n",
       "7853476                                          fast check  \n",
       "3278029          updating processing forward shopping care.  \n",
       "...                                                     ...  \n",
       "1995219                                    customer service  \n",
       "16203560                                       bialiilcious  \n",
       "5051667                          quality, selection quality  \n",
       "11448741  try grandma's pie coconut sweet potato fries.....  \n",
       "18558406                                               rude  \n",
       "\n",
       "[5316 rows x 5 columns]"
      ]
     },
     "execution_count": 209,
     "metadata": {},
     "output_type": "execute_result"
    }
   ],
   "source": [
    "df_cleaned = df_sampled.dropna()\n",
    "df_cleaned.drop_duplicates(inplace=True)\n",
    "df_cleaned.reset_index()\n",
    "df_cleaned['clean_review'] = df_cleaned['text'].str.lower()\n",
    "df_cleaned['clean_review']=df_cleaned['clean_review'].replace('\\n', ' ')\n",
    "df_cleaned['clean_review']=df_cleaned['clean_review'].apply(clean_translation)\n",
    "df_cleaned['clean_review']=df_cleaned['clean_review'].apply(remove_emojis)\n",
    "df_cleaned['clean_review']=df_cleaned['clean_review'].apply(remove_stopwords)\n",
    "df_cleaned"
   ]
  },
  {
   "cell_type": "code",
   "execution_count": 211,
   "id": "31c5fda1-865a-4a1e-8db6-9286bd1edb8b",
   "metadata": {},
   "outputs": [
    {
     "data": {
      "image/png": "[encoded data removed]",
      "text/plain": [
       "<Figure size 800x400 with 1 Axes>"
      ]
     },
     "metadata": {},
     "output_type": "display_data"
    }
   ],
   "source": [
    "# EDA\n",
    "import matplotlib.pyplot as plt\n",
    "import seaborn as sns\n",
    "\n",
    "# Distribution of ratings\n",
    "plt.figure(figsize=(8,4))\n",
    "sns.countplot(data=df_cleaned, x='rating', order=sorted(df_cleaned['rating'].unique()))\n",
    "plt.title(\"Distribution of Star Ratings\")\n",
    "plt.show()"
   ]
  },
  {
   "cell_type": "code",
   "execution_count": 83,
   "id": "513492b8-274e-49c3-a4be-4353703c7784",
   "metadata": {},
   "outputs": [
    {
     "name": "stdout",
     "output_type": "stream",
     "text": [
      "Collecting bertopic\n",
      "  Downloading bertopic-0.16.4-py3-none-any.whl.metadata (23 kB)\n",
      "Collecting hdbscan>=0.8.29 (from bertopic)\n",
      "  Downloading hdbscan-0.8.40-cp312-cp312-win_amd64.whl.metadata (15 kB)\n",
      "Requirement already satisfied: numpy>=1.20.0 in c:\\users\\madel\\anaconda3\\lib\\site-packages (from bertopic) (1.26.4)\n",
      "Requirement already satisfied: pandas>=1.1.5 in c:\\users\\madel\\anaconda3\\lib\\site-packages (from bertopic) (2.2.2)\n",
      "Requirement already satisfied: plotly>=4.7.0 in c:\\users\\madel\\anaconda3\\lib\\site-packages (from bertopic) (5.22.0)\n",
      "Requirement already satisfied: scikit-learn>=0.22.2.post1 in c:\\users\\madel\\anaconda3\\lib\\site-packages (from bertopic) (1.4.2)\n",
      "Collecting sentence-transformers>=0.4.1 (from bertopic)\n",
      "  Downloading sentence_transformers-3.4.1-py3-none-any.whl.metadata (10 kB)\n",
      "Requirement already satisfied: tqdm>=4.41.1 in c:\\users\\madel\\anaconda3\\lib\\site-packages (from bertopic) (4.66.4)\n",
      "Collecting umap-learn>=0.5.0 (from bertopic)\n",
      "  Downloading umap_learn-0.5.7-py3-none-any.whl.metadata (21 kB)\n",
      "Requirement already satisfied: scipy>=1.0 in c:\\users\\madel\\anaconda3\\lib\\site-packages (from hdbscan>=0.8.29->bertopic) (1.13.1)\n",
      "Requirement already satisfied: joblib>=1.0 in c:\\users\\madel\\anaconda3\\lib\\site-packages (from hdbscan>=0.8.29->bertopic) (1.4.2)\n",
      "Requirement already satisfied: python-dateutil>=2.8.2 in c:\\users\\madel\\anaconda3\\lib\\site-packages (from pandas>=1.1.5->bertopic) (2.9.0.post0)\n",
      "Requirement already satisfied: pytz>=2020.1 in c:\\users\\madel\\anaconda3\\lib\\site-packages (from pandas>=1.1.5->bertopic) (2024.1)\n",
      "Requirement already satisfied: tzdata>=2022.7 in c:\\users\\madel\\anaconda3\\lib\\site-packages (from pandas>=1.1.5->bertopic) (2023.3)\n",
      "Requirement already satisfied: tenacity>=6.2.0 in c:\\users\\madel\\anaconda3\\lib\\site-packages (from plotly>=4.7.0->bertopic) (8.2.2)\n",
      "Requirement already satisfied: packaging in c:\\users\\madel\\anaconda3\\lib\\site-packages (from plotly>=4.7.0->bertopic) (23.2)\n",
      "Requirement already satisfied: threadpoolctl>=2.0.0 in c:\\users\\madel\\anaconda3\\lib\\site-packages (from scikit-learn>=0.22.2.post1->bertopic) (2.2.0)\n",
      "Collecting transformers<5.0.0,>=4.41.0 (from sentence-transformers>=0.4.1->bertopic)\n",
      "  Downloading transformers-4.49.0-py3-none-any.whl.metadata (44 kB)\n",
      "     ---------------------------------------- 0.0/44.0 kB ? eta -:--:--\n",
      "     ---------------------------------------- 44.0/44.0 kB 2.1 MB/s eta 0:00:00\n",
      "Requirement already satisfied: torch>=1.11.0 in c:\\users\\madel\\anaconda3\\lib\\site-packages (from sentence-transformers>=0.4.1->bertopic) (2.5.1)\n",
      "Collecting huggingface-hub>=0.20.0 (from sentence-transformers>=0.4.1->bertopic)\n",
      "  Downloading huggingface_hub-0.29.3-py3-none-any.whl.metadata (13 kB)\n",
      "Requirement already satisfied: Pillow in c:\\users\\madel\\anaconda3\\lib\\site-packages (from sentence-transformers>=0.4.1->bertopic) (10.3.0)\n",
      "Requirement already satisfied: colorama in c:\\users\\madel\\anaconda3\\lib\\site-packages (from tqdm>=4.41.1->bertopic) (0.4.6)\n",
      "Requirement already satisfied: numba>=0.51.2 in c:\\users\\madel\\anaconda3\\lib\\site-packages (from umap-learn>=0.5.0->bertopic) (0.59.1)\n",
      "Collecting pynndescent>=0.5 (from umap-learn>=0.5.0->bertopic)\n",
      "  Downloading pynndescent-0.5.13-py3-none-any.whl.metadata (6.8 kB)\n",
      "Requirement already satisfied: filelock in c:\\users\\madel\\anaconda3\\lib\\site-packages (from huggingface-hub>=0.20.0->sentence-transformers>=0.4.1->bertopic) (3.13.1)\n",
      "Requirement already satisfied: fsspec>=2023.5.0 in c:\\users\\madel\\anaconda3\\lib\\site-packages (from huggingface-hub>=0.20.0->sentence-transformers>=0.4.1->bertopic) (2024.3.1)\n",
      "Requirement already satisfied: pyyaml>=5.1 in c:\\users\\madel\\anaconda3\\lib\\site-packages (from huggingface-hub>=0.20.0->sentence-transformers>=0.4.1->bertopic) (6.0.1)\n",
      "Requirement already satisfied: requests in c:\\users\\madel\\anaconda3\\lib\\site-packages (from huggingface-hub>=0.20.0->sentence-transformers>=0.4.1->bertopic) (2.32.2)\n",
      "Requirement already satisfied: typing-extensions>=3.7.4.3 in c:\\users\\madel\\anaconda3\\lib\\site-packages (from huggingface-hub>=0.20.0->sentence-transformers>=0.4.1->bertopic) (4.11.0)\n",
      "Requirement already satisfied: llvmlite<0.43,>=0.42.0dev0 in c:\\users\\madel\\anaconda3\\lib\\site-packages (from numba>=0.51.2->umap-learn>=0.5.0->bertopic) (0.42.0)\n",
      "Requirement already satisfied: six>=1.5 in c:\\users\\madel\\anaconda3\\lib\\site-packages (from python-dateutil>=2.8.2->pandas>=1.1.5->bertopic) (1.16.0)\n",
      "Requirement already satisfied: networkx in c:\\users\\madel\\anaconda3\\lib\\site-packages (from torch>=1.11.0->sentence-transformers>=0.4.1->bertopic) (3.2.1)\n",
      "Requirement already satisfied: jinja2 in c:\\users\\madel\\anaconda3\\lib\\site-packages (from torch>=1.11.0->sentence-transformers>=0.4.1->bertopic) (3.1.4)\n",
      "Requirement already satisfied: setuptools in c:\\users\\madel\\anaconda3\\lib\\site-packages (from torch>=1.11.0->sentence-transformers>=0.4.1->bertopic) (69.5.1)\n",
      "Requirement already satisfied: sympy==1.13.1 in c:\\users\\madel\\anaconda3\\lib\\site-packages (from torch>=1.11.0->sentence-transformers>=0.4.1->bertopic) (1.13.1)\n",
      "Requirement already satisfied: mpmath<1.4,>=1.1.0 in c:\\users\\madel\\anaconda3\\lib\\site-packages (from sympy==1.13.1->torch>=1.11.0->sentence-transformers>=0.4.1->bertopic) (1.3.0)\n",
      "Requirement already satisfied: regex!=2019.12.17 in c:\\users\\madel\\anaconda3\\lib\\site-packages (from transformers<5.0.0,>=4.41.0->sentence-transformers>=0.4.1->bertopic) (2023.10.3)\n",
      "Collecting tokenizers<0.22,>=0.21 (from transformers<5.0.0,>=4.41.0->sentence-transformers>=0.4.1->bertopic)\n",
      "  Downloading tokenizers-0.21.1-cp39-abi3-win_amd64.whl.metadata (6.9 kB)\n",
      "Collecting safetensors>=0.4.1 (from transformers<5.0.0,>=4.41.0->sentence-transformers>=0.4.1->bertopic)\n",
      "  Downloading safetensors-0.5.3-cp38-abi3-win_amd64.whl.metadata (3.9 kB)\n",
      "Requirement already satisfied: MarkupSafe>=2.0 in c:\\users\\madel\\anaconda3\\lib\\site-packages (from jinja2->torch>=1.11.0->sentence-transformers>=0.4.1->bertopic) (2.1.3)\n",
      "Requirement already satisfied: charset-normalizer<4,>=2 in c:\\users\\madel\\anaconda3\\lib\\site-packages (from requests->huggingface-hub>=0.20.0->sentence-transformers>=0.4.1->bertopic) (2.0.4)\n",
      "Requirement already satisfied: idna<4,>=2.5 in c:\\users\\madel\\anaconda3\\lib\\site-packages (from requests->huggingface-hub>=0.20.0->sentence-transformers>=0.4.1->bertopic) (3.7)\n",
      "Requirement already satisfied: urllib3<3,>=1.21.1 in c:\\users\\madel\\anaconda3\\lib\\site-packages (from requests->huggingface-hub>=0.20.0->sentence-transformers>=0.4.1->bertopic) (2.2.2)\n",
      "Requirement already satisfied: certifi>=2017.4.17 in c:\\users\\madel\\anaconda3\\lib\\site-packages (from requests->huggingface-hub>=0.20.0->sentence-transformers>=0.4.1->bertopic) (2024.8.30)\n",
      "Downloading bertopic-0.16.4-py3-none-any.whl (143 kB)\n",
      "   ---------------------------------------- 0.0/143.7 kB ? eta -:--:--\n",
      "   ----------- ---------------------------- 41.0/143.7 kB ? eta -:--:--\n",
      "   ----------- ---------------------------- 41.0/143.7 kB ? eta -:--:--\n",
      "   ---------------------- ---------------- 81.9/143.7 kB 573.4 kB/s eta 0:00:01\n",
      "   -------------------------------------- 143.7/143.7 kB 850.1 kB/s eta 0:00:00\n",
      "Downloading hdbscan-0.8.40-cp312-cp312-win_amd64.whl (726 kB)\n",
      "   ---------------------------------------- 0.0/726.2 kB ? eta -:--:--\n",
      "   ---------------------- ---------------- 419.8/726.2 kB 13.2 MB/s eta 0:00:01\n",
      "   --------------------------------- ------ 614.4/726.2 kB 7.7 MB/s eta 0:00:01\n",
      "   ---------------------------------------- 726.2/726.2 kB 7.6 MB/s eta 0:00:00\n",
      "Downloading sentence_transformers-3.4.1-py3-none-any.whl (275 kB)\n",
      "   ---------------------------------------- 0.0/275.9 kB ? eta -:--:--\n",
      "   --------------------------------------- 275.9/275.9 kB 17.7 MB/s eta 0:00:00\n",
      "Downloading umap_learn-0.5.7-py3-none-any.whl (88 kB)\n",
      "   ---------------------------------------- 0.0/88.8 kB ? eta -:--:--\n",
      "   ---------------------------------------- 88.8/88.8 kB ? eta 0:00:00\n",
      "Downloading huggingface_hub-0.29.3-py3-none-any.whl (468 kB)\n",
      "   ---------------------------------------- 0.0/469.0 kB ? eta -:--:--\n",
      "   ------------------------------------- - 450.6/469.0 kB 14.2 MB/s eta 0:00:01\n",
      "   ---------------------------------------- 469.0/469.0 kB 7.4 MB/s eta 0:00:00\n",
      "Downloading pynndescent-0.5.13-py3-none-any.whl (56 kB)\n",
      "   ---------------------------------------- 0.0/56.9 kB ? eta -:--:--\n",
      "   ---------------------------------------- 56.9/56.9 kB 2.9 MB/s eta 0:00:00\n",
      "Downloading transformers-4.49.0-py3-none-any.whl (10.0 MB)\n",
      "   ---------------------------------------- 0.0/10.0 MB ? eta -:--:--\n",
      "   - -------------------------------------- 0.4/10.0 MB 9.2 MB/s eta 0:00:02\n",
      "   -- ------------------------------------- 0.7/10.0 MB 9.5 MB/s eta 0:00:01\n",
      "   ---- ----------------------------------- 1.1/10.0 MB 8.5 MB/s eta 0:00:02\n",
      "   ------ --------------------------------- 1.6/10.0 MB 9.0 MB/s eta 0:00:01\n",
      "   -------- ------------------------------- 2.1/10.0 MB 9.4 MB/s eta 0:00:01\n",
      "   --------- ------------------------------ 2.4/10.0 MB 8.9 MB/s eta 0:00:01\n",
      "   ------------ --------------------------- 3.0/10.0 MB 9.7 MB/s eta 0:00:01\n",
      "   -------------- ------------------------- 3.6/10.0 MB 10.0 MB/s eta 0:00:01\n",
      "   ---------------- ----------------------- 4.0/10.0 MB 9.9 MB/s eta 0:00:01\n",
      "   ------------------ --------------------- 4.5/10.0 MB 10.0 MB/s eta 0:00:01\n",
      "   ------------------- -------------------- 4.9/10.0 MB 9.8 MB/s eta 0:00:01\n",
      "   --------------------- ------------------ 5.3/10.0 MB 9.5 MB/s eta 0:00:01\n",
      "   ---------------------- ----------------- 5.6/10.0 MB 9.4 MB/s eta 0:00:01\n",
      "   ----------------------- ---------------- 5.8/10.0 MB 9.1 MB/s eta 0:00:01\n",
      "   ----------------------- ---------------- 5.9/10.0 MB 8.8 MB/s eta 0:00:01\n",
      "   ----------------------- ---------------- 5.9/10.0 MB 8.8 MB/s eta 0:00:01\n",
      "   ------------------------ --------------- 6.0/10.0 MB 7.7 MB/s eta 0:00:01\n",
      "   ------------------------ --------------- 6.0/10.0 MB 7.7 MB/s eta 0:00:01\n",
      "   ------------------------ --------------- 6.0/10.0 MB 7.7 MB/s eta 0:00:01\n",
      "   ------------------------ --------------- 6.2/10.0 MB 6.6 MB/s eta 0:00:01\n",
      "   ------------------------ --------------- 6.2/10.0 MB 6.5 MB/s eta 0:00:01\n",
      "   ------------------------- -------------- 6.3/10.0 MB 6.1 MB/s eta 0:00:01\n",
      "   ---------------------------- ----------- 7.1/10.0 MB 6.5 MB/s eta 0:00:01\n",
      "   ------------------------------ --------- 7.6/10.0 MB 6.6 MB/s eta 0:00:01\n",
      "   -------------------------------- ------- 8.2/10.0 MB 6.9 MB/s eta 0:00:01\n",
      "   ---------------------------------- ----- 8.7/10.0 MB 7.0 MB/s eta 0:00:01\n",
      "   ------------------------------------ --- 9.0/10.0 MB 6.9 MB/s eta 0:00:01\n",
      "   -------------------------------------- - 9.6/10.0 MB 7.1 MB/s eta 0:00:01\n",
      "   ---------------------------------------  10.0/10.0 MB 7.2 MB/s eta 0:00:01\n",
      "   ---------------------------------------- 10.0/10.0 MB 7.0 MB/s eta 0:00:00\n",
      "Downloading safetensors-0.5.3-cp38-abi3-win_amd64.whl (308 kB)\n",
      "   ---------------------------------------- 0.0/308.9 kB ? eta -:--:--\n",
      "   --------------------------------------- 308.9/308.9 kB 18.7 MB/s eta 0:00:00\n",
      "Downloading tokenizers-0.21.1-cp39-abi3-win_amd64.whl (2.4 MB)\n",
      "   ---------------------------------------- 0.0/2.4 MB ? eta -:--:--\n",
      "   -------- ------------------------------- 0.5/2.4 MB 32.6 MB/s eta 0:00:01\n",
      "   -------- ------------------------------- 0.5/2.4 MB 32.6 MB/s eta 0:00:01\n",
      "   ------------------------- -------------- 1.6/2.4 MB 12.5 MB/s eta 0:00:01\n",
      "   ------------------------------- -------- 1.9/2.4 MB 11.0 MB/s eta 0:00:01\n",
      "   ---------------------------------------  2.4/2.4 MB 10.9 MB/s eta 0:00:01\n",
      "   ---------------------------------------- 2.4/2.4 MB 9.7 MB/s eta 0:00:00\n",
      "Installing collected packages: safetensors, huggingface-hub, tokenizers, pynndescent, hdbscan, umap-learn, transformers, sentence-transformers, bertopic\n",
      "Successfully installed bertopic-0.16.4 hdbscan-0.8.40 huggingface-hub-0.29.3 pynndescent-0.5.13 safetensors-0.5.3 sentence-transformers-3.4.1 tokenizers-0.21.1 transformers-4.49.0 umap-learn-0.5.7\n",
      "Requirement already satisfied: umap-learn in c:\\users\\madel\\anaconda3\\lib\\site-packages (0.5.7)\n",
      "Requirement already satisfied: numpy>=1.17 in c:\\users\\madel\\anaconda3\\lib\\site-packages (from umap-learn) (1.26.4)\n",
      "Requirement already satisfied: scipy>=1.3.1 in c:\\users\\madel\\anaconda3\\lib\\site-packages (from umap-learn) (1.13.1)\n",
      "Requirement already satisfied: scikit-learn>=0.22 in c:\\users\\madel\\anaconda3\\lib\\site-packages (from umap-learn) (1.4.2)\n",
      "Requirement already satisfied: numba>=0.51.2 in c:\\users\\madel\\anaconda3\\lib\\site-packages (from umap-learn) (0.59.1)\n",
      "Requirement already satisfied: pynndescent>=0.5 in c:\\users\\madel\\anaconda3\\lib\\site-packages (from umap-learn) (0.5.13)\n",
      "Requirement already satisfied: tqdm in c:\\users\\madel\\anaconda3\\lib\\site-packages (from umap-learn) (4.66.4)\n",
      "Requirement already satisfied: llvmlite<0.43,>=0.42.0dev0 in c:\\users\\madel\\anaconda3\\lib\\site-packages (from numba>=0.51.2->umap-learn) (0.42.0)\n",
      "Requirement already satisfied: joblib>=0.11 in c:\\users\\madel\\anaconda3\\lib\\site-packages (from pynndescent>=0.5->umap-learn) (1.4.2)\n",
      "Requirement already satisfied: threadpoolctl>=2.0.0 in c:\\users\\madel\\anaconda3\\lib\\site-packages (from scikit-learn>=0.22->umap-learn) (2.2.0)\n",
      "Requirement already satisfied: colorama in c:\\users\\madel\\anaconda3\\lib\\site-packages (from tqdm->umap-learn) (0.4.6)\n"
     ]
    }
   ],
   "source": [
    "# theme extraction (topic modelling)\n",
    "!pip install bertopic\n",
    "!pip install umap-learn"
   ]
  },
  {
   "cell_type": "code",
   "execution_count": 259,
   "id": "7aab3d17-4aba-4177-83de-2477d38b0d85",
   "metadata": {},
   "outputs": [
    {
     "name": "stderr",
     "output_type": "stream",
     "text": [
      "2025-03-13 16:17:52,892 - BERTopic - Embedding - Transforming documents to embeddings.\n"
     ]
    },
    {
     "data": {
      "application/vnd.jupyter.widget-view+json": {
       "model_id": "4fb5d2199d214acbbbce3a02850cbe54",
       "version_major": 2,
       "version_minor": 0
      },
      "text/plain": [
       "Batches:   0%|          | 0/167 [00:00<?, ?it/s]"
      ]
     },
     "metadata": {},
     "output_type": "display_data"
    },
    {
     "name": "stderr",
     "output_type": "stream",
     "text": [
      "2025-03-13 16:18:13,031 - BERTopic - Embedding - Completed ✓\n",
      "2025-03-13 16:18:13,031 - BERTopic - Dimensionality - Fitting the dimensionality reduction algorithm\n",
      "2025-03-13 16:18:15,615 - BERTopic - Dimensionality - Completed ✓\n",
      "2025-03-13 16:18:15,615 - BERTopic - Cluster - Start clustering the reduced embeddings\n",
      "2025-03-13 16:18:16,026 - BERTopic - Cluster - Completed ✓\n",
      "2025-03-13 16:18:16,028 - BERTopic - Representation - Extracting topics from clusters using representation models.\n",
      "2025-03-13 16:18:16,209 - BERTopic - Representation - Completed ✓\n",
      "2025-03-13 16:18:16,212 - BERTopic - Topic reduction - Reducing number of topics\n",
      "2025-03-13 16:18:16,334 - BERTopic - Topic reduction - Reduced number of topics from 98 to 30\n"
     ]
    }
   ],
   "source": [
    "from bertopic import BERTopic\n",
    "\n",
    "# Extract the reviews for modeling\n",
    "docs = df_cleaned['clean_review'].tolist()\n",
    "\n",
    "# Create BERTopic model\n",
    "topic_model = BERTopic(language=\"english\", verbose=True, nr_topics=30)\n",
    "\n",
    "# Extract topics and probabilities\n",
    "topics, probs = topic_model.fit_transform(docs)\n",
    "\n",
    "# Add topics back to DataFrame\n",
    "df_cleaned['topic'] = topics"
   ]
  },
  {
   "cell_type": "code",
   "execution_count": 261,
   "id": "27c10b40-4fad-49ac-bc6e-e9b12848238d",
   "metadata": {},
   "outputs": [
    {
     "data": {
      "application/vnd.plotly.v1+json": {
       "config": {
        "plotlyServerURL": "https://plot.ly"
       },
       "data": [
        {
         "marker": {
          "color": "#D55E00"
         },
         "orientation": "h",
         "type": "bar",
         "x": [
          0.018476615558038294,
          0.02167828315227405,
          0.022360478268870422,
          0.028467076203126385,
          0.05131229911721995
         ],
         "xaxis": "x",
         "y": [
          "staff  ",
          "delicious  ",
          "pizza  ",
          "service  ",
          "food  "
         ],
         "yaxis": "y"
        },
        {
         "marker": {
          "color": "#0072B2"
         },
         "orientation": "h",
         "type": "bar",
         "x": [
          0.03934013309402292,
          0.04688436988945883,
          0.059802590222245905,
          0.08124776294321776,
          0.15146918610487534
         ],
         "xaxis": "x2",
         "y": [
          "spot  ",
          "experience  ",
          "beautiful  ",
          "nice  ",
          "place  "
         ],
         "yaxis": "y2"
        },
        {
         "marker": {
          "color": "#CC79A7"
         },
         "orientation": "h",
         "type": "bar",
         "x": [
          0.032413313921156275,
          0.033847379042525716,
          0.033849642253435036,
          0.04309395644240361,
          0.07335121307633904
         ],
         "xaxis": "x3",
         "y": [
          "stores  ",
          "clean  ",
          "shop  ",
          "mall  ",
          "store  "
         ],
         "yaxis": "y3"
        },
        {
         "marker": {
          "color": "#E69F00"
         },
         "orientation": "h",
         "type": "bar",
         "x": [
          0.023452937917629285,
          0.02424337098725576,
          0.031065829736344246,
          0.04498752814486738,
          0.06688641113607209
         ],
         "xaxis": "x4",
         "y": [
          "truck  ",
          "vehicle  ",
          "customer  ",
          "car  ",
          "service  "
         ],
         "yaxis": "y4"
        },
        {
         "marker": {
          "color": "#56B4E9"
         },
         "orientation": "h",
         "type": "bar",
         "x": [
          0.13897153531474446,
          0.14240683560882206,
          0.19347744046158855,
          0.2509388143939565,
          0.5955804936080111
         ],
         "xaxis": "x5",
         "y": [
          "good  ",
          "awesome  ",
          "okay  ",
          "nice  ",
          "ok  "
         ],
         "yaxis": "y5"
        },
        {
         "marker": {
          "color": "#009E73"
         },
         "orientation": "h",
         "type": "bar",
         "x": [
          0.042479046928011,
          0.042816945168347005,
          0.06709778285415305,
          0.06798997298313887,
          0.06987520593876792
         ],
         "xaxis": "x6",
         "y": [
          "wine  ",
          "selection  ",
          "beer  ",
          "drinks  ",
          "bar  "
         ],
         "yaxis": "y6"
        },
        {
         "marker": {
          "color": "#F0E442"
         },
         "orientation": "h",
         "type": "bar",
         "x": [
          0.07417087961796967,
          0.0760136143558448,
          0.09599741689368345,
          0.10085734880101498,
          0.16015807270188262
         ],
         "xaxis": "x7",
         "y": [
          "need  ",
          "find  ",
          "always  ",
          "everything  ",
          "clean  "
         ],
         "yaxis": "y7"
        },
        {
         "marker": {
          "color": "#D55E00"
         },
         "orientation": "h",
         "type": "bar",
         "x": [
          0.04770465976121104,
          0.05078035470121738,
          0.05357417399779577,
          0.062107847915232606,
          0.11118340470111905
         ],
         "xaxis": "x8",
         "y": [
          "trail  ",
          "parking  ",
          "walk  ",
          "trails  ",
          "park  "
         ],
         "yaxis": "y8"
        },
        {
         "marker": {
          "color": "#0072B2"
         },
         "orientation": "h",
         "type": "bar",
         "x": [
          0.08587660470354065,
          0.08957723815013294,
          0.1008449781492572,
          0.11721572119290222,
          0.17838761950504584
         ],
         "xaxis": "x9",
         "y": [
          "price  ",
          "sales  ",
          "sale  ",
          "expensive  ",
          "prices  "
         ],
         "yaxis": "y9"
        },
        {
         "marker": {
          "color": "#CC79A7"
         },
         "orientation": "h",
         "type": "bar",
         "x": [
          0.03581117949805636,
          0.06746816873730949,
          0.07042185118696358,
          0.07778004748811213,
          0.08232501747507735
         ],
         "xaxis": "x10",
         "y": [
          "stage  ",
          "movie  ",
          "seats  ",
          "venue  ",
          "theater  "
         ],
         "yaxis": "y10"
        }
       ],
       "layout": {
        "annotations": [
         {
          "font": {
           "size": 16
          },
          "showarrow": false,
          "text": "Topic 0",
          "x": 0.0875,
          "xanchor": "center",
          "xref": "paper",
          "y": 1,
          "yanchor": "bottom",
          "yref": "paper"
         },
         {
          "font": {
           "size": 16
          },
          "showarrow": false,
          "text": "Topic 1",
          "x": 0.36250000000000004,
          "xanchor": "center",
          "xref": "paper",
          "y": 1,
          "yanchor": "bottom",
          "yref": "paper"
         },
         {
          "font": {
           "size": 16
          },
          "showarrow": false,
          "text": "Topic 2",
          "x": 0.6375000000000001,
          "xanchor": "center",
          "xref": "paper",
          "y": 1,
          "yanchor": "bottom",
          "yref": "paper"
         },
         {
          "font": {
           "size": 16
          },
          "showarrow": false,
          "text": "Topic 3",
          "x": 0.9125,
          "xanchor": "center",
          "xref": "paper",
          "y": 1,
          "yanchor": "bottom",
          "yref": "paper"
         },
         {
          "font": {
           "size": 16
          },
          "showarrow": false,
          "text": "Topic 4",
          "x": 0.0875,
          "xanchor": "center",
          "xref": "paper",
          "y": 0.6222222222222222,
          "yanchor": "bottom",
          "yref": "paper"
         },
         {
          "font": {
           "size": 16
          },
          "showarrow": false,
          "text": "Topic 5",
          "x": 0.36250000000000004,
          "xanchor": "center",
          "xref": "paper",
          "y": 0.6222222222222222,
          "yanchor": "bottom",
          "yref": "paper"
         },
         {
          "font": {
           "size": 16
          },
          "showarrow": false,
          "text": "Topic 6",
          "x": 0.6375000000000001,
          "xanchor": "center",
          "xref": "paper",
          "y": 0.6222222222222222,
          "yanchor": "bottom",
          "yref": "paper"
         },
         {
          "font": {
           "size": 16
          },
          "showarrow": false,
          "text": "Topic 7",
          "x": 0.9125,
          "xanchor": "center",
          "xref": "paper",
          "y": 0.6222222222222222,
          "yanchor": "bottom",
          "yref": "paper"
         },
         {
          "font": {
           "size": 16
          },
          "showarrow": false,
          "text": "Topic 8",
          "x": 0.0875,
          "xanchor": "center",
          "xref": "paper",
          "y": 0.24444444444444446,
          "yanchor": "bottom",
          "yref": "paper"
         },
         {
          "font": {
           "size": 16
          },
          "showarrow": false,
          "text": "Topic 9",
          "x": 0.36250000000000004,
          "xanchor": "center",
          "xref": "paper",
          "y": 0.24444444444444446,
          "yanchor": "bottom",
          "yref": "paper"
         }
        ],
        "height": 750,
        "hoverlabel": {
         "bgcolor": "white",
         "font": {
          "family": "Rockwell",
          "size": 16
         }
        },
        "showlegend": false,
        "template": {
         "data": {
          "bar": [
           {
            "error_x": {
             "color": "#2a3f5f"
            },
            "error_y": {
             "color": "#2a3f5f"
            },
            "marker": {
             "line": {
              "color": "white",
              "width": 0.5
             },
             "pattern": {
              "fillmode": "overlay",
              "size": 10,
              "solidity": 0.2
             }
            },
            "type": "bar"
           }
          ],
          "barpolar": [
           {
            "marker": {
             "line": {
              "color": "white",
              "width": 0.5
             },
             "pattern": {
              "fillmode": "overlay",
              "size": 10,
              "solidity": 0.2
             }
            },
            "type": "barpolar"
           }
          ],
          "carpet": [
           {
            "aaxis": {
             "endlinecolor": "#2a3f5f",
             "gridcolor": "#C8D4E3",
             "linecolor": "#C8D4E3",
             "minorgridcolor": "#C8D4E3",
             "startlinecolor": "#2a3f5f"
            },
            "baxis": {
             "endlinecolor": "#2a3f5f",
             "gridcolor": "#C8D4E3",
             "linecolor": "#C8D4E3",
             "minorgridcolor": "#C8D4E3",
             "startlinecolor": "#2a3f5f"
            },
            "type": "carpet"
           }
          ],
          "choropleth": [
           {
            "colorbar": {
             "outlinewidth": 0,
             "ticks": ""
            },
            "type": "choropleth"
           }
          ],
          "contour": [
           {
            "colorbar": {
             "outlinewidth": 0,
             "ticks": ""
            },
            "colorscale": [
             [
              0,
              "#0d0887"
             ],
             [
              0.1111111111111111,
              "#46039f"
             ],
             [
              0.2222222222222222,
              "#7201a8"
             ],
             [
              0.3333333333333333,
              "#9c179e"
             ],
             [
              0.4444444444444444,
              "#bd3786"
             ],
             [
              0.5555555555555556,
              "#d8576b"
             ],
             [
              0.6666666666666666,
              "#ed7953"
             ],
             [
              0.7777777777777778,
              "#fb9f3a"
             ],
             [
              0.8888888888888888,
              "#fdca26"
             ],
             [
              1,
              "#f0f921"
             ]
            ],
            "type": "contour"
           }
          ],
          "contourcarpet": [
           {
            "colorbar": {
             "outlinewidth": 0,
             "ticks": ""
            },
            "type": "contourcarpet"
           }
          ],
          "heatmap": [
           {
            "colorbar": {
             "outlinewidth": 0,
             "ticks": ""
            },
            "colorscale": [
             [
              0,
              "#0d0887"
             ],
             [
              0.1111111111111111,
              "#46039f"
             ],
             [
              0.2222222222222222,
              "#7201a8"
             ],
             [
              0.3333333333333333,
              "#9c179e"
             ],
             [
              0.4444444444444444,
              "#bd3786"
             ],
             [
              0.5555555555555556,
              "#d8576b"
             ],
             [
              0.6666666666666666,
              "#ed7953"
             ],
             [
              0.7777777777777778,
              "#fb9f3a"
             ],
             [
              0.8888888888888888,
              "#fdca26"
             ],
             [
              1,
              "#f0f921"
             ]
            ],
            "type": "heatmap"
           }
          ],
          "heatmapgl": [
           {
            "colorbar": {
             "outlinewidth": 0,
             "ticks": ""
            },
            "colorscale": [
             [
              0,
              "#0d0887"
             ],
             [
              0.1111111111111111,
              "#46039f"
             ],
             [
              0.2222222222222222,
              "#7201a8"
             ],
             [
              0.3333333333333333,
              "#9c179e"
             ],
             [
              0.4444444444444444,
              "#bd3786"
             ],
             [
              0.5555555555555556,
              "#d8576b"
             ],
             [
              0.6666666666666666,
              "#ed7953"
             ],
             [
              0.7777777777777778,
              "#fb9f3a"
             ],
             [
              0.8888888888888888,
              "#fdca26"
             ],
             [
              1,
              "#f0f921"
             ]
            ],
            "type": "heatmapgl"
           }
          ],
          "histogram": [
           {
            "marker": {
             "pattern": {
              "fillmode": "overlay",
              "size": 10,
              "solidity": 0.2
             }
            },
            "type": "histogram"
           }
          ],
          "histogram2d": [
           {
            "colorbar": {
             "outlinewidth": 0,
             "ticks": ""
            },
            "colorscale": [
             [
              0,
              "#0d0887"
             ],
             [
              0.1111111111111111,
              "#46039f"
             ],
             [
              0.2222222222222222,
              "#7201a8"
             ],
             [
              0.3333333333333333,
              "#9c179e"
             ],
             [
              0.4444444444444444,
              "#bd3786"
             ],
             [
              0.5555555555555556,
              "#d8576b"
             ],
             [
              0.6666666666666666,
              "#ed7953"
             ],
             [
              0.7777777777777778,
              "#fb9f3a"
             ],
             [
              0.8888888888888888,
              "#fdca26"
             ],
             [
              1,
              "#f0f921"
             ]
            ],
            "type": "histogram2d"
           }
          ],
          "histogram2dcontour": [
           {
            "colorbar": {
             "outlinewidth": 0,
             "ticks": ""
            },
            "colorscale": [
             [
              0,
              "#0d0887"
             ],
             [
              0.1111111111111111,
              "#46039f"
             ],
             [
              0.2222222222222222,
              "#7201a8"
             ],
             [
              0.3333333333333333,
              "#9c179e"
             ],
             [
              0.4444444444444444,
              "#bd3786"
             ],
             [
              0.5555555555555556,
              "#d8576b"
             ],
             [
              0.6666666666666666,
              "#ed7953"
             ],
             [
              0.7777777777777778,
              "#fb9f3a"
             ],
             [
              0.8888888888888888,
              "#fdca26"
             ],
             [
              1,
              "#f0f921"
             ]
            ],
            "type": "histogram2dcontour"
           }
          ],
          "mesh3d": [
           {
            "colorbar": {
             "outlinewidth": 0,
             "ticks": ""
            },
            "type": "mesh3d"
           }
          ],
          "parcoords": [
           {
            "line": {
             "colorbar": {
              "outlinewidth": 0,
              "ticks": ""
             }
            },
            "type": "parcoords"
           }
          ],
          "pie": [
           {
            "automargin": true,
            "type": "pie"
           }
          ],
          "scatter": [
           {
            "fillpattern": {
             "fillmode": "overlay",
             "size": 10,
             "solidity": 0.2
            },
            "type": "scatter"
           }
          ],
          "scatter3d": [
           {
            "line": {
             "colorbar": {
              "outlinewidth": 0,
              "ticks": ""
             }
            },
            "marker": {
             "colorbar": {
              "outlinewidth": 0,
              "ticks": ""
             }
            },
            "type": "scatter3d"
           }
          ],
          "scattercarpet": [
           {
            "marker": {
             "colorbar": {
              "outlinewidth": 0,
              "ticks": ""
             }
            },
            "type": "scattercarpet"
           }
          ],
          "scattergeo": [
           {
            "marker": {
             "colorbar": {
              "outlinewidth": 0,
              "ticks": ""
             }
            },
            "type": "scattergeo"
           }
          ],
          "scattergl": [
           {
            "marker": {
             "colorbar": {
              "outlinewidth": 0,
              "ticks": ""
             }
            },
            "type": "scattergl"
           }
          ],
          "scattermapbox": [
           {
            "marker": {
             "colorbar": {
              "outlinewidth": 0,
              "ticks": ""
             }
            },
            "type": "scattermapbox"
           }
          ],
          "scatterpolar": [
           {
            "marker": {
             "colorbar": {
              "outlinewidth": 0,
              "ticks": ""
             }
            },
            "type": "scatterpolar"
           }
          ],
          "scatterpolargl": [
           {
            "marker": {
             "colorbar": {
              "outlinewidth": 0,
              "ticks": ""
             }
            },
            "type": "scatterpolargl"
           }
          ],
          "scatterternary": [
           {
            "marker": {
             "colorbar": {
              "outlinewidth": 0,
              "ticks": ""
             }
            },
            "type": "scatterternary"
           }
          ],
          "surface": [
           {
            "colorbar": {
             "outlinewidth": 0,
             "ticks": ""
            },
            "colorscale": [
             [
              0,
              "#0d0887"
             ],
             [
              0.1111111111111111,
              "#46039f"
             ],
             [
              0.2222222222222222,
              "#7201a8"
             ],
             [
              0.3333333333333333,
              "#9c179e"
             ],
             [
              0.4444444444444444,
              "#bd3786"
             ],
             [
              0.5555555555555556,
              "#d8576b"
             ],
             [
              0.6666666666666666,
              "#ed7953"
             ],
             [
              0.7777777777777778,
              "#fb9f3a"
             ],
             [
              0.8888888888888888,
              "#fdca26"
             ],
             [
              1,
              "#f0f921"
             ]
            ],
            "type": "surface"
           }
          ],
          "table": [
           {
            "cells": {
             "fill": {
              "color": "#EBF0F8"
             },
             "line": {
              "color": "white"
             }
            },
            "header": {
             "fill": {
              "color": "#C8D4E3"
             },
             "line": {
              "color": "white"
             }
            },
            "type": "table"
           }
          ]
         },
         "layout": {
          "annotationdefaults": {
           "arrowcolor": "#2a3f5f",
           "arrowhead": 0,
           "arrowwidth": 1
          },
          "autotypenumbers": "strict",
          "coloraxis": {
           "colorbar": {
            "outlinewidth": 0,
            "ticks": ""
           }
          },
          "colorscale": {
           "diverging": [
            [
             0,
             "#8e0152"
            ],
            [
             0.1,
             "#c51b7d"
            ],
            [
             0.2,
             "#de77ae"
            ],
            [
             0.3,
             "#f1b6da"
            ],
            [
             0.4,
             "#fde0ef"
            ],
            [
             0.5,
             "#f7f7f7"
            ],
            [
             0.6,
             "#e6f5d0"
            ],
            [
             0.7,
             "#b8e186"
            ],
            [
             0.8,
             "#7fbc41"
            ],
            [
             0.9,
             "#4d9221"
            ],
            [
             1,
             "#276419"
            ]
           ],
           "sequential": [
            [
             0,
             "#0d0887"
            ],
            [
             0.1111111111111111,
             "#46039f"
            ],
            [
             0.2222222222222222,
             "#7201a8"
            ],
            [
             0.3333333333333333,
             "#9c179e"
            ],
            [
             0.4444444444444444,
             "#bd3786"
            ],
            [
             0.5555555555555556,
             "#d8576b"
            ],
            [
             0.6666666666666666,
             "#ed7953"
            ],
            [
             0.7777777777777778,
             "#fb9f3a"
            ],
            [
             0.8888888888888888,
             "#fdca26"
            ],
            [
             1,
             "#f0f921"
            ]
           ],
           "sequentialminus": [
            [
             0,
             "#0d0887"
            ],
            [
             0.1111111111111111,
             "#46039f"
            ],
            [
             0.2222222222222222,
             "#7201a8"
            ],
            [
             0.3333333333333333,
             "#9c179e"
            ],
            [
             0.4444444444444444,
             "#bd3786"
            ],
            [
             0.5555555555555556,
             "#d8576b"
            ],
            [
             0.6666666666666666,
             "#ed7953"
            ],
            [
             0.7777777777777778,
             "#fb9f3a"
            ],
            [
             0.8888888888888888,
             "#fdca26"
            ],
            [
             1,
             "#f0f921"
            ]
           ]
          },
          "colorway": [
           "#636efa",
           "#EF553B",
           "#00cc96",
           "#ab63fa",
           "#FFA15A",
           "#19d3f3",
           "#FF6692",
           "#B6E880",
           "#FF97FF",
           "#FECB52"
          ],
          "font": {
           "color": "#2a3f5f"
          },
          "geo": {
           "bgcolor": "white",
           "lakecolor": "white",
           "landcolor": "white",
           "showlakes": true,
           "showland": true,
           "subunitcolor": "#C8D4E3"
          },
          "hoverlabel": {
           "align": "left"
          },
          "hovermode": "closest",
          "mapbox": {
           "style": "light"
          },
          "paper_bgcolor": "white",
          "plot_bgcolor": "white",
          "polar": {
           "angularaxis": {
            "gridcolor": "#EBF0F8",
            "linecolor": "#EBF0F8",
            "ticks": ""
           },
           "bgcolor": "white",
           "radialaxis": {
            "gridcolor": "#EBF0F8",
            "linecolor": "#EBF0F8",
            "ticks": ""
           }
          },
          "scene": {
           "xaxis": {
            "backgroundcolor": "white",
            "gridcolor": "#DFE8F3",
            "gridwidth": 2,
            "linecolor": "#EBF0F8",
            "showbackground": true,
            "ticks": "",
            "zerolinecolor": "#EBF0F8"
           },
           "yaxis": {
            "backgroundcolor": "white",
            "gridcolor": "#DFE8F3",
            "gridwidth": 2,
            "linecolor": "#EBF0F8",
            "showbackground": true,
            "ticks": "",
            "zerolinecolor": "#EBF0F8"
           },
           "zaxis": {
            "backgroundcolor": "white",
            "gridcolor": "#DFE8F3",
            "gridwidth": 2,
            "linecolor": "#EBF0F8",
            "showbackground": true,
            "ticks": "",
            "zerolinecolor": "#EBF0F8"
           }
          },
          "shapedefaults": {
           "line": {
            "color": "#2a3f5f"
           }
          },
          "ternary": {
           "aaxis": {
            "gridcolor": "#DFE8F3",
            "linecolor": "#A2B1C6",
            "ticks": ""
           },
           "baxis": {
            "gridcolor": "#DFE8F3",
            "linecolor": "#A2B1C6",
            "ticks": ""
           },
           "bgcolor": "white",
           "caxis": {
            "gridcolor": "#DFE8F3",
            "linecolor": "#A2B1C6",
            "ticks": ""
           }
          },
          "title": {
           "x": 0.05
          },
          "xaxis": {
           "automargin": true,
           "gridcolor": "#EBF0F8",
           "linecolor": "#EBF0F8",
           "ticks": "",
           "title": {
            "standoff": 15
           },
           "zerolinecolor": "#EBF0F8",
           "zerolinewidth": 2
          },
          "yaxis": {
           "automargin": true,
           "gridcolor": "#EBF0F8",
           "linecolor": "#EBF0F8",
           "ticks": "",
           "title": {
            "standoff": 15
           },
           "zerolinecolor": "#EBF0F8",
           "zerolinewidth": 2
          }
         }
        },
        "title": {
         "font": {
          "color": "Black",
          "size": 22
         },
         "text": "Topic Word Scores",
         "x": 0.5,
         "xanchor": "center",
         "yanchor": "top"
        },
        "width": 1000,
        "xaxis": {
         "anchor": "y",
         "autorange": true,
         "domain": [
          0,
          0.175
         ],
         "range": [
          0,
          0.054012946439178894
         ],
         "showgrid": true,
         "type": "linear"
        },
        "xaxis10": {
         "anchor": "y10",
         "autorange": true,
         "domain": [
          0.275,
          0.45
         ],
         "range": [
          0,
          0.08665791313166037
         ],
         "showgrid": true,
         "type": "linear"
        },
        "xaxis11": {
         "anchor": "y11",
         "domain": [
          0.55,
          0.7250000000000001
         ],
         "showgrid": true
        },
        "xaxis12": {
         "anchor": "y12",
         "domain": [
          0.825,
          1
         ],
         "showgrid": true
        },
        "xaxis2": {
         "anchor": "y2",
         "autorange": true,
         "domain": [
          0.275,
          0.45
         ],
         "range": [
          0,
          0.15944124853144773
         ],
         "showgrid": true,
         "type": "linear"
        },
        "xaxis3": {
         "anchor": "y3",
         "autorange": true,
         "domain": [
          0.55,
          0.7250000000000001
         ],
         "range": [
          0,
          0.07721180323825162
         ],
         "showgrid": true,
         "type": "linear"
        },
        "xaxis4": {
         "anchor": "y4",
         "autorange": true,
         "domain": [
          0.825,
          1
         ],
         "range": [
          0,
          0.07040674856428641
         ],
         "showgrid": true,
         "type": "linear"
        },
        "xaxis5": {
         "anchor": "y5",
         "autorange": true,
         "domain": [
          0,
          0.175
         ],
         "range": [
          0,
          0.6269268353768538
         ],
         "showgrid": true,
         "type": "linear"
        },
        "xaxis6": {
         "anchor": "y6",
         "autorange": true,
         "domain": [
          0.275,
          0.45
         ],
         "range": [
          0,
          0.07355284835659781
         ],
         "showgrid": true,
         "type": "linear"
        },
        "xaxis7": {
         "anchor": "y7",
         "autorange": true,
         "domain": [
          0.55,
          0.7250000000000001
         ],
         "range": [
          0,
          0.16858744494935013
         ],
         "showgrid": true,
         "type": "linear"
        },
        "xaxis8": {
         "anchor": "y8",
         "autorange": true,
         "domain": [
          0.825,
          1
         ],
         "range": [
          0,
          0.11703516284328322
         ],
         "showgrid": true,
         "type": "linear"
        },
        "xaxis9": {
         "anchor": "y9",
         "autorange": true,
         "domain": [
          0,
          0.175
         ],
         "range": [
          0,
          0.18777644158425877
         ],
         "showgrid": true,
         "type": "linear"
        },
        "yaxis": {
         "anchor": "x",
         "autorange": true,
         "domain": [
          0.7555555555555555,
          1
         ],
         "range": [
          -0.5,
          4.5
         ],
         "showgrid": true,
         "type": "category"
        },
        "yaxis10": {
         "anchor": "x10",
         "autorange": true,
         "domain": [
          0,
          0.24444444444444446
         ],
         "range": [
          -0.5,
          4.5
         ],
         "showgrid": true,
         "type": "category"
        },
        "yaxis11": {
         "anchor": "x11",
         "domain": [
          0,
          0.24444444444444446
         ],
         "showgrid": true
        },
        "yaxis12": {
         "anchor": "x12",
         "domain": [
          0,
          0.24444444444444446
         ],
         "showgrid": true
        },
        "yaxis2": {
         "anchor": "x2",
         "autorange": true,
         "domain": [
          0.7555555555555555,
          1
         ],
         "range": [
          -0.5,
          4.5
         ],
         "showgrid": true,
         "type": "category"
        },
        "yaxis3": {
         "anchor": "x3",
         "autorange": true,
         "domain": [
          0.7555555555555555,
          1
         ],
         "range": [
          -0.5,
          4.5
         ],
         "showgrid": true,
         "type": "category"
        },
        "yaxis4": {
         "anchor": "x4",
         "autorange": true,
         "domain": [
          0.7555555555555555,
          1
         ],
         "range": [
          -0.5,
          4.5
         ],
         "showgrid": true,
         "type": "category"
        },
        "yaxis5": {
         "anchor": "x5",
         "autorange": true,
         "domain": [
          0.37777777777777777,
          0.6222222222222222
         ],
         "range": [
          -0.5,
          4.5
         ],
         "showgrid": true,
         "type": "category"
        },
        "yaxis6": {
         "anchor": "x6",
         "autorange": true,
         "domain": [
          0.37777777777777777,
          0.6222222222222222
         ],
         "range": [
          -0.5,
          4.5
         ],
         "showgrid": true,
         "type": "category"
        },
        "yaxis7": {
         "anchor": "x7",
         "autorange": true,
         "domain": [
          0.37777777777777777,
          0.6222222222222222
         ],
         "range": [
          -0.5,
          4.5
         ],
         "showgrid": true,
         "type": "category"
        },
        "yaxis8": {
         "anchor": "x8",
         "autorange": true,
         "domain": [
          0.37777777777777777,
          0.6222222222222222
         ],
         "range": [
          -0.5,
          4.5
         ],
         "showgrid": true,
         "type": "category"
        },
        "yaxis9": {
         "anchor": "x9",
         "autorange": true,
         "domain": [
          0,
          0.24444444444444446
         ],
         "range": [
          -0.5,
          4.5
         ],
         "showgrid": true,
         "type": "category"
        }
       }
      },
      "image/png": "[encoded data removed]",
      "text/html": [
       "<div>                            <div id=\"6e1b26ba-4169-4fb2-a209-022222f65802\" class=\"plotly-graph-div\" style=\"height:750px; width:1000px;\"></div>            <script type=\"text/javascript\">                require([\"plotly\"], function(Plotly) {                    window.PLOTLYENV=window.PLOTLYENV || {};                                    if (document.getElementById(\"6e1b26ba-4169-4fb2-a209-022222f65802\")) {                    Plotly.newPlot(                        \"6e1b26ba-4169-4fb2-a209-022222f65802\",                        [{\"marker\":{\"color\":\"#D55E00\"},\"orientation\":\"h\",\"x\":[0.018476615558038294,0.02167828315227405,0.022360478268870422,0.028467076203126385,0.05131229911721995],\"y\":[\"staff  \",\"delicious  \",\"pizza  \",\"service  \",\"food  \"],\"type\":\"bar\",\"xaxis\":\"x\",\"yaxis\":\"y\"},{\"marker\":{\"color\":\"#0072B2\"},\"orientation\":\"h\",\"x\":[0.03934013309402292,0.04688436988945883,0.059802590222245905,0.08124776294321776,0.15146918610487534],\"y\":[\"spot  \",\"experience  \",\"beautiful  \",\"nice  \",\"place  \"],\"type\":\"bar\",\"xaxis\":\"x2\",\"yaxis\":\"y2\"},{\"marker\":{\"color\":\"#CC79A7\"},\"orientation\":\"h\",\"x\":[0.032413313921156275,0.033847379042525716,0.033849642253435036,0.04309395644240361,0.07335121307633904],\"y\":[\"stores  \",\"clean  \",\"shop  \",\"mall  \",\"store  \"],\"type\":\"bar\",\"xaxis\":\"x3\",\"yaxis\":\"y3\"},{\"marker\":{\"color\":\"#E69F00\"},\"orientation\":\"h\",\"x\":[0.023452937917629285,0.02424337098725576,0.031065829736344246,0.04498752814486738,0.06688641113607209],\"y\":[\"truck  \",\"vehicle  \",\"customer  \",\"car  \",\"service  \"],\"type\":\"bar\",\"xaxis\":\"x4\",\"yaxis\":\"y4\"},{\"marker\":{\"color\":\"#56B4E9\"},\"orientation\":\"h\",\"x\":[0.13897153531474446,0.14240683560882206,0.19347744046158855,0.2509388143939565,0.5955804936080111],\"y\":[\"good  \",\"awesome  \",\"okay  \",\"nice  \",\"ok  \"],\"type\":\"bar\",\"xaxis\":\"x5\",\"yaxis\":\"y5\"},{\"marker\":{\"color\":\"#009E73\"},\"orientation\":\"h\",\"x\":[0.042479046928011,0.042816945168347005,0.06709778285415305,0.06798997298313887,0.06987520593876792],\"y\":[\"wine  \",\"selection  \",\"beer  \",\"drinks  \",\"bar  \"],\"type\":\"bar\",\"xaxis\":\"x6\",\"yaxis\":\"y6\"},{\"marker\":{\"color\":\"#F0E442\"},\"orientation\":\"h\",\"x\":[0.07417087961796967,0.0760136143558448,0.09599741689368345,0.10085734880101498,0.16015807270188262],\"y\":[\"need  \",\"find  \",\"always  \",\"everything  \",\"clean  \"],\"type\":\"bar\",\"xaxis\":\"x7\",\"yaxis\":\"y7\"},{\"marker\":{\"color\":\"#D55E00\"},\"orientation\":\"h\",\"x\":[0.04770465976121104,0.05078035470121738,0.05357417399779577,0.062107847915232606,0.11118340470111905],\"y\":[\"trail  \",\"parking  \",\"walk  \",\"trails  \",\"park  \"],\"type\":\"bar\",\"xaxis\":\"x8\",\"yaxis\":\"y8\"},{\"marker\":{\"color\":\"#0072B2\"},\"orientation\":\"h\",\"x\":[0.08587660470354065,0.08957723815013294,0.1008449781492572,0.11721572119290222,0.17838761950504584],\"y\":[\"price  \",\"sales  \",\"sale  \",\"expensive  \",\"prices  \"],\"type\":\"bar\",\"xaxis\":\"x9\",\"yaxis\":\"y9\"},{\"marker\":{\"color\":\"#CC79A7\"},\"orientation\":\"h\",\"x\":[0.03581117949805636,0.06746816873730949,0.07042185118696358,0.07778004748811213,0.08232501747507735],\"y\":[\"stage  \",\"movie  \",\"seats  \",\"venue  \",\"theater  \"],\"type\":\"bar\",\"xaxis\":\"x10\",\"yaxis\":\"y10\"}],                        {\"template\":{\"data\":{\"barpolar\":[{\"marker\":{\"line\":{\"color\":\"white\",\"width\":0.5},\"pattern\":{\"fillmode\":\"overlay\",\"size\":10,\"solidity\":0.2}},\"type\":\"barpolar\"}],\"bar\":[{\"error_x\":{\"color\":\"#2a3f5f\"},\"error_y\":{\"color\":\"#2a3f5f\"},\"marker\":{\"line\":{\"color\":\"white\",\"width\":0.5},\"pattern\":{\"fillmode\":\"overlay\",\"size\":10,\"solidity\":0.2}},\"type\":\"bar\"}],\"carpet\":[{\"aaxis\":{\"endlinecolor\":\"#2a3f5f\",\"gridcolor\":\"#C8D4E3\",\"linecolor\":\"#C8D4E3\",\"minorgridcolor\":\"#C8D4E3\",\"startlinecolor\":\"#2a3f5f\"},\"baxis\":{\"endlinecolor\":\"#2a3f5f\",\"gridcolor\":\"#C8D4E3\",\"linecolor\":\"#C8D4E3\",\"minorgridcolor\":\"#C8D4E3\",\"startlinecolor\":\"#2a3f5f\"},\"type\":\"carpet\"}],\"choropleth\":[{\"colorbar\":{\"outlinewidth\":0,\"ticks\":\"\"},\"type\":\"choropleth\"}],\"contourcarpet\":[{\"colorbar\":{\"outlinewidth\":0,\"ticks\":\"\"},\"type\":\"contourcarpet\"}],\"contour\":[{\"colorbar\":{\"outlinewidth\":0,\"ticks\":\"\"},\"colorscale\":[[0.0,\"#0d0887\"],[0.1111111111111111,\"#46039f\"],[0.2222222222222222,\"#7201a8\"],[0.3333333333333333,\"#9c179e\"],[0.4444444444444444,\"#bd3786\"],[0.5555555555555556,\"#d8576b\"],[0.6666666666666666,\"#ed7953\"],[0.7777777777777778,\"#fb9f3a\"],[0.8888888888888888,\"#fdca26\"],[1.0,\"#f0f921\"]],\"type\":\"contour\"}],\"heatmapgl\":[{\"colorbar\":{\"outlinewidth\":0,\"ticks\":\"\"},\"colorscale\":[[0.0,\"#0d0887\"],[0.1111111111111111,\"#46039f\"],[0.2222222222222222,\"#7201a8\"],[0.3333333333333333,\"#9c179e\"],[0.4444444444444444,\"#bd3786\"],[0.5555555555555556,\"#d8576b\"],[0.6666666666666666,\"#ed7953\"],[0.7777777777777778,\"#fb9f3a\"],[0.8888888888888888,\"#fdca26\"],[1.0,\"#f0f921\"]],\"type\":\"heatmapgl\"}],\"heatmap\":[{\"colorbar\":{\"outlinewidth\":0,\"ticks\":\"\"},\"colorscale\":[[0.0,\"#0d0887\"],[0.1111111111111111,\"#46039f\"],[0.2222222222222222,\"#7201a8\"],[0.3333333333333333,\"#9c179e\"],[0.4444444444444444,\"#bd3786\"],[0.5555555555555556,\"#d8576b\"],[0.6666666666666666,\"#ed7953\"],[0.7777777777777778,\"#fb9f3a\"],[0.8888888888888888,\"#fdca26\"],[1.0,\"#f0f921\"]],\"type\":\"heatmap\"}],\"histogram2dcontour\":[{\"colorbar\":{\"outlinewidth\":0,\"ticks\":\"\"},\"colorscale\":[[0.0,\"#0d0887\"],[0.1111111111111111,\"#46039f\"],[0.2222222222222222,\"#7201a8\"],[0.3333333333333333,\"#9c179e\"],[0.4444444444444444,\"#bd3786\"],[0.5555555555555556,\"#d8576b\"],[0.6666666666666666,\"#ed7953\"],[0.7777777777777778,\"#fb9f3a\"],[0.8888888888888888,\"#fdca26\"],[1.0,\"#f0f921\"]],\"type\":\"histogram2dcontour\"}],\"histogram2d\":[{\"colorbar\":{\"outlinewidth\":0,\"ticks\":\"\"},\"colorscale\":[[0.0,\"#0d0887\"],[0.1111111111111111,\"#46039f\"],[0.2222222222222222,\"#7201a8\"],[0.3333333333333333,\"#9c179e\"],[0.4444444444444444,\"#bd3786\"],[0.5555555555555556,\"#d8576b\"],[0.6666666666666666,\"#ed7953\"],[0.7777777777777778,\"#fb9f3a\"],[0.8888888888888888,\"#fdca26\"],[1.0,\"#f0f921\"]],\"type\":\"histogram2d\"}],\"histogram\":[{\"marker\":{\"pattern\":{\"fillmode\":\"overlay\",\"size\":10,\"solidity\":0.2}},\"type\":\"histogram\"}],\"mesh3d\":[{\"colorbar\":{\"outlinewidth\":0,\"ticks\":\"\"},\"type\":\"mesh3d\"}],\"parcoords\":[{\"line\":{\"colorbar\":{\"outlinewidth\":0,\"ticks\":\"\"}},\"type\":\"parcoords\"}],\"pie\":[{\"automargin\":true,\"type\":\"pie\"}],\"scatter3d\":[{\"line\":{\"colorbar\":{\"outlinewidth\":0,\"ticks\":\"\"}},\"marker\":{\"colorbar\":{\"outlinewidth\":0,\"ticks\":\"\"}},\"type\":\"scatter3d\"}],\"scattercarpet\":[{\"marker\":{\"colorbar\":{\"outlinewidth\":0,\"ticks\":\"\"}},\"type\":\"scattercarpet\"}],\"scattergeo\":[{\"marker\":{\"colorbar\":{\"outlinewidth\":0,\"ticks\":\"\"}},\"type\":\"scattergeo\"}],\"scattergl\":[{\"marker\":{\"colorbar\":{\"outlinewidth\":0,\"ticks\":\"\"}},\"type\":\"scattergl\"}],\"scattermapbox\":[{\"marker\":{\"colorbar\":{\"outlinewidth\":0,\"ticks\":\"\"}},\"type\":\"scattermapbox\"}],\"scatterpolargl\":[{\"marker\":{\"colorbar\":{\"outlinewidth\":0,\"ticks\":\"\"}},\"type\":\"scatterpolargl\"}],\"scatterpolar\":[{\"marker\":{\"colorbar\":{\"outlinewidth\":0,\"ticks\":\"\"}},\"type\":\"scatterpolar\"}],\"scatter\":[{\"fillpattern\":{\"fillmode\":\"overlay\",\"size\":10,\"solidity\":0.2},\"type\":\"scatter\"}],\"scatterternary\":[{\"marker\":{\"colorbar\":{\"outlinewidth\":0,\"ticks\":\"\"}},\"type\":\"scatterternary\"}],\"surface\":[{\"colorbar\":{\"outlinewidth\":0,\"ticks\":\"\"},\"colorscale\":[[0.0,\"#0d0887\"],[0.1111111111111111,\"#46039f\"],[0.2222222222222222,\"#7201a8\"],[0.3333333333333333,\"#9c179e\"],[0.4444444444444444,\"#bd3786\"],[0.5555555555555556,\"#d8576b\"],[0.6666666666666666,\"#ed7953\"],[0.7777777777777778,\"#fb9f3a\"],[0.8888888888888888,\"#fdca26\"],[1.0,\"#f0f921\"]],\"type\":\"surface\"}],\"table\":[{\"cells\":{\"fill\":{\"color\":\"#EBF0F8\"},\"line\":{\"color\":\"white\"}},\"header\":{\"fill\":{\"color\":\"#C8D4E3\"},\"line\":{\"color\":\"white\"}},\"type\":\"table\"}]},\"layout\":{\"annotationdefaults\":{\"arrowcolor\":\"#2a3f5f\",\"arrowhead\":0,\"arrowwidth\":1},\"autotypenumbers\":\"strict\",\"coloraxis\":{\"colorbar\":{\"outlinewidth\":0,\"ticks\":\"\"}},\"colorscale\":{\"diverging\":[[0,\"#8e0152\"],[0.1,\"#c51b7d\"],[0.2,\"#de77ae\"],[0.3,\"#f1b6da\"],[0.4,\"#fde0ef\"],[0.5,\"#f7f7f7\"],[0.6,\"#e6f5d0\"],[0.7,\"#b8e186\"],[0.8,\"#7fbc41\"],[0.9,\"#4d9221\"],[1,\"#276419\"]],\"sequential\":[[0.0,\"#0d0887\"],[0.1111111111111111,\"#46039f\"],[0.2222222222222222,\"#7201a8\"],[0.3333333333333333,\"#9c179e\"],[0.4444444444444444,\"#bd3786\"],[0.5555555555555556,\"#d8576b\"],[0.6666666666666666,\"#ed7953\"],[0.7777777777777778,\"#fb9f3a\"],[0.8888888888888888,\"#fdca26\"],[1.0,\"#f0f921\"]],\"sequentialminus\":[[0.0,\"#0d0887\"],[0.1111111111111111,\"#46039f\"],[0.2222222222222222,\"#7201a8\"],[0.3333333333333333,\"#9c179e\"],[0.4444444444444444,\"#bd3786\"],[0.5555555555555556,\"#d8576b\"],[0.6666666666666666,\"#ed7953\"],[0.7777777777777778,\"#fb9f3a\"],[0.8888888888888888,\"#fdca26\"],[1.0,\"#f0f921\"]]},\"colorway\":[\"#636efa\",\"#EF553B\",\"#00cc96\",\"#ab63fa\",\"#FFA15A\",\"#19d3f3\",\"#FF6692\",\"#B6E880\",\"#FF97FF\",\"#FECB52\"],\"font\":{\"color\":\"#2a3f5f\"},\"geo\":{\"bgcolor\":\"white\",\"lakecolor\":\"white\",\"landcolor\":\"white\",\"showlakes\":true,\"showland\":true,\"subunitcolor\":\"#C8D4E3\"},\"hoverlabel\":{\"align\":\"left\"},\"hovermode\":\"closest\",\"mapbox\":{\"style\":\"light\"},\"paper_bgcolor\":\"white\",\"plot_bgcolor\":\"white\",\"polar\":{\"angularaxis\":{\"gridcolor\":\"#EBF0F8\",\"linecolor\":\"#EBF0F8\",\"ticks\":\"\"},\"bgcolor\":\"white\",\"radialaxis\":{\"gridcolor\":\"#EBF0F8\",\"linecolor\":\"#EBF0F8\",\"ticks\":\"\"}},\"scene\":{\"xaxis\":{\"backgroundcolor\":\"white\",\"gridcolor\":\"#DFE8F3\",\"gridwidth\":2,\"linecolor\":\"#EBF0F8\",\"showbackground\":true,\"ticks\":\"\",\"zerolinecolor\":\"#EBF0F8\"},\"yaxis\":{\"backgroundcolor\":\"white\",\"gridcolor\":\"#DFE8F3\",\"gridwidth\":2,\"linecolor\":\"#EBF0F8\",\"showbackground\":true,\"ticks\":\"\",\"zerolinecolor\":\"#EBF0F8\"},\"zaxis\":{\"backgroundcolor\":\"white\",\"gridcolor\":\"#DFE8F3\",\"gridwidth\":2,\"linecolor\":\"#EBF0F8\",\"showbackground\":true,\"ticks\":\"\",\"zerolinecolor\":\"#EBF0F8\"}},\"shapedefaults\":{\"line\":{\"color\":\"#2a3f5f\"}},\"ternary\":{\"aaxis\":{\"gridcolor\":\"#DFE8F3\",\"linecolor\":\"#A2B1C6\",\"ticks\":\"\"},\"baxis\":{\"gridcolor\":\"#DFE8F3\",\"linecolor\":\"#A2B1C6\",\"ticks\":\"\"},\"bgcolor\":\"white\",\"caxis\":{\"gridcolor\":\"#DFE8F3\",\"linecolor\":\"#A2B1C6\",\"ticks\":\"\"}},\"title\":{\"x\":0.05},\"xaxis\":{\"automargin\":true,\"gridcolor\":\"#EBF0F8\",\"linecolor\":\"#EBF0F8\",\"ticks\":\"\",\"title\":{\"standoff\":15},\"zerolinecolor\":\"#EBF0F8\",\"zerolinewidth\":2},\"yaxis\":{\"automargin\":true,\"gridcolor\":\"#EBF0F8\",\"linecolor\":\"#EBF0F8\",\"ticks\":\"\",\"title\":{\"standoff\":15},\"zerolinecolor\":\"#EBF0F8\",\"zerolinewidth\":2}}},\"xaxis\":{\"anchor\":\"y\",\"domain\":[0.0,0.175],\"showgrid\":true},\"yaxis\":{\"anchor\":\"x\",\"domain\":[0.7555555555555555,1.0],\"showgrid\":true},\"xaxis2\":{\"anchor\":\"y2\",\"domain\":[0.275,0.45],\"showgrid\":true},\"yaxis2\":{\"anchor\":\"x2\",\"domain\":[0.7555555555555555,1.0],\"showgrid\":true},\"xaxis3\":{\"anchor\":\"y3\",\"domain\":[0.55,0.7250000000000001],\"showgrid\":true},\"yaxis3\":{\"anchor\":\"x3\",\"domain\":[0.7555555555555555,1.0],\"showgrid\":true},\"xaxis4\":{\"anchor\":\"y4\",\"domain\":[0.825,1.0],\"showgrid\":true},\"yaxis4\":{\"anchor\":\"x4\",\"domain\":[0.7555555555555555,1.0],\"showgrid\":true},\"xaxis5\":{\"anchor\":\"y5\",\"domain\":[0.0,0.175],\"showgrid\":true},\"yaxis5\":{\"anchor\":\"x5\",\"domain\":[0.37777777777777777,0.6222222222222222],\"showgrid\":true},\"xaxis6\":{\"anchor\":\"y6\",\"domain\":[0.275,0.45],\"showgrid\":true},\"yaxis6\":{\"anchor\":\"x6\",\"domain\":[0.37777777777777777,0.6222222222222222],\"showgrid\":true},\"xaxis7\":{\"anchor\":\"y7\",\"domain\":[0.55,0.7250000000000001],\"showgrid\":true},\"yaxis7\":{\"anchor\":\"x7\",\"domain\":[0.37777777777777777,0.6222222222222222],\"showgrid\":true},\"xaxis8\":{\"anchor\":\"y8\",\"domain\":[0.825,1.0],\"showgrid\":true},\"yaxis8\":{\"anchor\":\"x8\",\"domain\":[0.37777777777777777,0.6222222222222222],\"showgrid\":true},\"xaxis9\":{\"anchor\":\"y9\",\"domain\":[0.0,0.175],\"showgrid\":true},\"yaxis9\":{\"anchor\":\"x9\",\"domain\":[0.0,0.24444444444444446],\"showgrid\":true},\"xaxis10\":{\"anchor\":\"y10\",\"domain\":[0.275,0.45],\"showgrid\":true},\"yaxis10\":{\"anchor\":\"x10\",\"domain\":[0.0,0.24444444444444446],\"showgrid\":true},\"xaxis11\":{\"anchor\":\"y11\",\"domain\":[0.55,0.7250000000000001],\"showgrid\":true},\"yaxis11\":{\"anchor\":\"x11\",\"domain\":[0.0,0.24444444444444446],\"showgrid\":true},\"xaxis12\":{\"anchor\":\"y12\",\"domain\":[0.825,1.0],\"showgrid\":true},\"yaxis12\":{\"anchor\":\"x12\",\"domain\":[0.0,0.24444444444444446],\"showgrid\":true},\"annotations\":[{\"font\":{\"size\":16},\"showarrow\":false,\"text\":\"Topic 0\",\"x\":0.0875,\"xanchor\":\"center\",\"xref\":\"paper\",\"y\":1.0,\"yanchor\":\"bottom\",\"yref\":\"paper\"},{\"font\":{\"size\":16},\"showarrow\":false,\"text\":\"Topic 1\",\"x\":0.36250000000000004,\"xanchor\":\"center\",\"xref\":\"paper\",\"y\":1.0,\"yanchor\":\"bottom\",\"yref\":\"paper\"},{\"font\":{\"size\":16},\"showarrow\":false,\"text\":\"Topic 2\",\"x\":0.6375000000000001,\"xanchor\":\"center\",\"xref\":\"paper\",\"y\":1.0,\"yanchor\":\"bottom\",\"yref\":\"paper\"},{\"font\":{\"size\":16},\"showarrow\":false,\"text\":\"Topic 3\",\"x\":0.9125,\"xanchor\":\"center\",\"xref\":\"paper\",\"y\":1.0,\"yanchor\":\"bottom\",\"yref\":\"paper\"},{\"font\":{\"size\":16},\"showarrow\":false,\"text\":\"Topic 4\",\"x\":0.0875,\"xanchor\":\"center\",\"xref\":\"paper\",\"y\":0.6222222222222222,\"yanchor\":\"bottom\",\"yref\":\"paper\"},{\"font\":{\"size\":16},\"showarrow\":false,\"text\":\"Topic 5\",\"x\":0.36250000000000004,\"xanchor\":\"center\",\"xref\":\"paper\",\"y\":0.6222222222222222,\"yanchor\":\"bottom\",\"yref\":\"paper\"},{\"font\":{\"size\":16},\"showarrow\":false,\"text\":\"Topic 6\",\"x\":0.6375000000000001,\"xanchor\":\"center\",\"xref\":\"paper\",\"y\":0.6222222222222222,\"yanchor\":\"bottom\",\"yref\":\"paper\"},{\"font\":{\"size\":16},\"showarrow\":false,\"text\":\"Topic 7\",\"x\":0.9125,\"xanchor\":\"center\",\"xref\":\"paper\",\"y\":0.6222222222222222,\"yanchor\":\"bottom\",\"yref\":\"paper\"},{\"font\":{\"size\":16},\"showarrow\":false,\"text\":\"Topic 8\",\"x\":0.0875,\"xanchor\":\"center\",\"xref\":\"paper\",\"y\":0.24444444444444446,\"yanchor\":\"bottom\",\"yref\":\"paper\"},{\"font\":{\"size\":16},\"showarrow\":false,\"text\":\"Topic 9\",\"x\":0.36250000000000004,\"xanchor\":\"center\",\"xref\":\"paper\",\"y\":0.24444444444444446,\"yanchor\":\"bottom\",\"yref\":\"paper\"}],\"title\":{\"font\":{\"size\":22,\"color\":\"Black\"},\"text\":\"Topic Word Scores\",\"x\":0.5,\"xanchor\":\"center\",\"yanchor\":\"top\"},\"hoverlabel\":{\"font\":{\"size\":16,\"family\":\"Rockwell\"},\"bgcolor\":\"white\"},\"showlegend\":false,\"width\":1000,\"height\":750},                        {\"responsive\": true}                    ).then(function(){\n",
       "                            \n",
       "var gd = document.getElementById('6e1b26ba-4169-4fb2-a209-022222f65802');\n",
       "var x = new MutationObserver(function (mutations, observer) {{\n",
       "        var display = window.getComputedStyle(gd).display;\n",
       "        if (!display || display === 'none') {{\n",
       "            console.log([gd, 'removed!']);\n",
       "            Plotly.purge(gd);\n",
       "            observer.disconnect();\n",
       "        }}\n",
       "}});\n",
       "\n",
       "// Listen for the removal of the full notebook cells\n",
       "var notebookContainer = gd.closest('#notebook-container');\n",
       "if (notebookContainer) {{\n",
       "    x.observe(notebookContainer, {childList: true});\n",
       "}}\n",
       "\n",
       "// Listen for the clearing of the current output cell\n",
       "var outputEl = gd.closest('.output');\n",
       "if (outputEl) {{\n",
       "    x.observe(outputEl, {childList: true});\n",
       "}}\n",
       "\n",
       "                        })                };                });            </script>        </div>"
      ]
     },
     "metadata": {},
     "output_type": "display_data"
    }
   ],
   "source": [
    "topic_model.get_topic_info()\n",
    "\n",
    "# Visualize top topics\n",
    "topic_model.visualize_barchart(top_n_topics=10)"
   ]
  },
  {
   "cell_type": "code",
   "execution_count": 263,
   "id": "32f305dd-e261-4c31-a29a-3a29accf981a",
   "metadata": {},
   "outputs": [
    {
     "data": {
      "text/html": [
       "<div>\n",
       "<style scoped>\n",
       "    .dataframe tbody tr th:only-of-type {\n",
       "        vertical-align: middle;\n",
       "    }\n",
       "\n",
       "    .dataframe tbody tr th {\n",
       "        vertical-align: top;\n",
       "    }\n",
       "\n",
       "    .dataframe thead th {\n",
       "        text-align: right;\n",
       "    }\n",
       "</style>\n",
       "<table border=\"1\" class=\"dataframe\">\n",
       "  <thead>\n",
       "    <tr style=\"text-align: right;\">\n",
       "      <th></th>\n",
       "      <th>user_id</th>\n",
       "      <th>rating</th>\n",
       "      <th>text</th>\n",
       "      <th>gmap_id</th>\n",
       "      <th>clean_review</th>\n",
       "      <th>topic</th>\n",
       "    </tr>\n",
       "  </thead>\n",
       "  <tbody>\n",
       "    <tr>\n",
       "      <th>2363707</th>\n",
       "      <td>113564694643974223253</td>\n",
       "      <td>5</td>\n",
       "      <td>Great coffee &amp; donuts, plus!</td>\n",
       "      <td>0x89e82fcc44386585:0xf3d3b5ccf2c18501</td>\n",
       "      <td>coffee &amp; donuts, plus!</td>\n",
       "      <td>-1</td>\n",
       "    </tr>\n",
       "    <tr>\n",
       "      <th>16684439</th>\n",
       "      <td>102121998027632943441</td>\n",
       "      <td>5</td>\n",
       "      <td>👌👌</td>\n",
       "      <td>0x89c259a8ef657243:0x9185d801317e2d9d</td>\n",
       "      <td></td>\n",
       "      <td>4</td>\n",
       "    </tr>\n",
       "    <tr>\n",
       "      <th>7929264</th>\n",
       "      <td>101324914199828592760</td>\n",
       "      <td>5</td>\n",
       "      <td>Great coffee shop, better espresso (and espres...</td>\n",
       "      <td>0x89c2598b100f9865:0x6b41d5e7852d0cbd</td>\n",
       "      <td>coffee shop, better espresso (and espresso bev...</td>\n",
       "      <td>15</td>\n",
       "    </tr>\n",
       "    <tr>\n",
       "      <th>7853476</th>\n",
       "      <td>115689816368267601373</td>\n",
       "      <td>5</td>\n",
       "      <td>Fast check out</td>\n",
       "      <td>0x89c265da70342425:0x10448a1401930e6e</td>\n",
       "      <td>fast check</td>\n",
       "      <td>28</td>\n",
       "    </tr>\n",
       "    <tr>\n",
       "      <th>3278029</th>\n",
       "      <td>109205283840018891624</td>\n",
       "      <td>4</td>\n",
       "      <td>Updating and processing forward in Shopping Care.</td>\n",
       "      <td>0x89c26758d471c9d7:0x3ad64ce64657c5f5</td>\n",
       "      <td>updating processing forward shopping care.</td>\n",
       "      <td>-1</td>\n",
       "    </tr>\n",
       "    <tr>\n",
       "      <th>...</th>\n",
       "      <td>...</td>\n",
       "      <td>...</td>\n",
       "      <td>...</td>\n",
       "      <td>...</td>\n",
       "      <td>...</td>\n",
       "      <td>...</td>\n",
       "    </tr>\n",
       "    <tr>\n",
       "      <th>1995219</th>\n",
       "      <td>111478413726922858485</td>\n",
       "      <td>4</td>\n",
       "      <td>Good customer service</td>\n",
       "      <td>0x89c2dd4ef0038e4b:0xacf447643a82e5df</td>\n",
       "      <td>customer service</td>\n",
       "      <td>3</td>\n",
       "    </tr>\n",
       "    <tr>\n",
       "      <th>16203560</th>\n",
       "      <td>117071832739994162170</td>\n",
       "      <td>5</td>\n",
       "      <td>(Translated by Google) Bialiilcious\\n\\n(Origin...</td>\n",
       "      <td>0x89c259762e26a813:0xf37426d261b7d2db</td>\n",
       "      <td>bialiilcious</td>\n",
       "      <td>25</td>\n",
       "    </tr>\n",
       "    <tr>\n",
       "      <th>5051667</th>\n",
       "      <td>104181741037321372066</td>\n",
       "      <td>5</td>\n",
       "      <td>Quality, selection and more quality</td>\n",
       "      <td>0x89c25baa0865c299:0x13b7a51a508c3374</td>\n",
       "      <td>quality, selection quality</td>\n",
       "      <td>-1</td>\n",
       "    </tr>\n",
       "    <tr>\n",
       "      <th>11448741</th>\n",
       "      <td>101727937516316216390</td>\n",
       "      <td>5</td>\n",
       "      <td>Try the grandma's pie and the coconut sweet po...</td>\n",
       "      <td>0x89c292e84262eefb:0x2c8442f1b5613cee</td>\n",
       "      <td>try grandma's pie coconut sweet potato fries.....</td>\n",
       "      <td>-1</td>\n",
       "    </tr>\n",
       "    <tr>\n",
       "      <th>18558406</th>\n",
       "      <td>115130694494995675098</td>\n",
       "      <td>1</td>\n",
       "      <td>Rude</td>\n",
       "      <td>0x89c2f66d3282a545:0x1ccd9839e39cdc2d</td>\n",
       "      <td>rude</td>\n",
       "      <td>-1</td>\n",
       "    </tr>\n",
       "  </tbody>\n",
       "</table>\n",
       "<p>5316 rows × 6 columns</p>\n",
       "</div>"
      ],
      "text/plain": [
       "                        user_id  rating  \\\n",
       "2363707   113564694643974223253       5   \n",
       "16684439  102121998027632943441       5   \n",
       "7929264   101324914199828592760       5   \n",
       "7853476   115689816368267601373       5   \n",
       "3278029   109205283840018891624       4   \n",
       "...                         ...     ...   \n",
       "1995219   111478413726922858485       4   \n",
       "16203560  117071832739994162170       5   \n",
       "5051667   104181741037321372066       5   \n",
       "11448741  101727937516316216390       5   \n",
       "18558406  115130694494995675098       1   \n",
       "\n",
       "                                                       text  \\\n",
       "2363707                        Great coffee & donuts, plus!   \n",
       "16684439                                                 👌👌   \n",
       "7929264   Great coffee shop, better espresso (and espres...   \n",
       "7853476                                      Fast check out   \n",
       "3278029   Updating and processing forward in Shopping Care.   \n",
       "...                                                     ...   \n",
       "1995219                               Good customer service   \n",
       "16203560  (Translated by Google) Bialiilcious\\n\\n(Origin...   \n",
       "5051667                 Quality, selection and more quality   \n",
       "11448741  Try the grandma's pie and the coconut sweet po...   \n",
       "18558406                                               Rude   \n",
       "\n",
       "                                        gmap_id  \\\n",
       "2363707   0x89e82fcc44386585:0xf3d3b5ccf2c18501   \n",
       "16684439  0x89c259a8ef657243:0x9185d801317e2d9d   \n",
       "7929264   0x89c2598b100f9865:0x6b41d5e7852d0cbd   \n",
       "7853476   0x89c265da70342425:0x10448a1401930e6e   \n",
       "3278029   0x89c26758d471c9d7:0x3ad64ce64657c5f5   \n",
       "...                                         ...   \n",
       "1995219   0x89c2dd4ef0038e4b:0xacf447643a82e5df   \n",
       "16203560  0x89c259762e26a813:0xf37426d261b7d2db   \n",
       "5051667   0x89c25baa0865c299:0x13b7a51a508c3374   \n",
       "11448741  0x89c292e84262eefb:0x2c8442f1b5613cee   \n",
       "18558406  0x89c2f66d3282a545:0x1ccd9839e39cdc2d   \n",
       "\n",
       "                                               clean_review  topic  \n",
       "2363707                              coffee & donuts, plus!     -1  \n",
       "16684439                                                         4  \n",
       "7929264   coffee shop, better espresso (and espresso bev...     15  \n",
       "7853476                                          fast check     28  \n",
       "3278029          updating processing forward shopping care.     -1  \n",
       "...                                                     ...    ...  \n",
       "1995219                                    customer service      3  \n",
       "16203560                                       bialiilcious     25  \n",
       "5051667                          quality, selection quality     -1  \n",
       "11448741  try grandma's pie coconut sweet potato fries.....     -1  \n",
       "18558406                                               rude     -1  \n",
       "\n",
       "[5316 rows x 6 columns]"
      ]
     },
     "execution_count": 263,
     "metadata": {},
     "output_type": "execute_result"
    }
   ],
   "source": [
    "df_cleaned"
   ]
  },
  {
   "cell_type": "code",
   "execution_count": 265,
   "id": "d98f5d9e-6e94-4285-9a4e-d0f83235fefa",
   "metadata": {},
   "outputs": [
    {
     "data": {
      "text/html": [
       "<div>\n",
       "<style scoped>\n",
       "    .dataframe tbody tr th:only-of-type {\n",
       "        vertical-align: middle;\n",
       "    }\n",
       "\n",
       "    .dataframe tbody tr th {\n",
       "        vertical-align: top;\n",
       "    }\n",
       "\n",
       "    .dataframe thead th {\n",
       "        text-align: right;\n",
       "    }\n",
       "</style>\n",
       "<table border=\"1\" class=\"dataframe\">\n",
       "  <thead>\n",
       "    <tr style=\"text-align: right;\">\n",
       "      <th></th>\n",
       "      <th>topic</th>\n",
       "      <th>count</th>\n",
       "      <th>mean</th>\n",
       "    </tr>\n",
       "  </thead>\n",
       "  <tbody>\n",
       "    <tr>\n",
       "      <th>1</th>\n",
       "      <td>1</td>\n",
       "      <td>264</td>\n",
       "      <td>4.617424</td>\n",
       "    </tr>\n",
       "    <tr>\n",
       "      <th>7</th>\n",
       "      <td>7</td>\n",
       "      <td>117</td>\n",
       "      <td>4.418803</td>\n",
       "    </tr>\n",
       "    <tr>\n",
       "      <th>0</th>\n",
       "      <td>0</td>\n",
       "      <td>1194</td>\n",
       "      <td>4.331658</td>\n",
       "    </tr>\n",
       "    <tr>\n",
       "      <th>4</th>\n",
       "      <td>4</td>\n",
       "      <td>168</td>\n",
       "      <td>4.327381</td>\n",
       "    </tr>\n",
       "    <tr>\n",
       "      <th>5</th>\n",
       "      <td>5</td>\n",
       "      <td>159</td>\n",
       "      <td>4.301887</td>\n",
       "    </tr>\n",
       "    <tr>\n",
       "      <th>9</th>\n",
       "      <td>9</td>\n",
       "      <td>105</td>\n",
       "      <td>4.295238</td>\n",
       "    </tr>\n",
       "    <tr>\n",
       "      <th>6</th>\n",
       "      <td>6</td>\n",
       "      <td>151</td>\n",
       "      <td>4.264901</td>\n",
       "    </tr>\n",
       "    <tr>\n",
       "      <th>2</th>\n",
       "      <td>2</td>\n",
       "      <td>232</td>\n",
       "      <td>4.125000</td>\n",
       "    </tr>\n",
       "    <tr>\n",
       "      <th>3</th>\n",
       "      <td>3</td>\n",
       "      <td>223</td>\n",
       "      <td>4.103139</td>\n",
       "    </tr>\n",
       "    <tr>\n",
       "      <th>8</th>\n",
       "      <td>8</td>\n",
       "      <td>113</td>\n",
       "      <td>3.982301</td>\n",
       "    </tr>\n",
       "  </tbody>\n",
       "</table>\n",
       "</div>"
      ],
      "text/plain": [
       "   topic  count      mean\n",
       "1      1    264  4.617424\n",
       "7      7    117  4.418803\n",
       "0      0   1194  4.331658\n",
       "4      4    168  4.327381\n",
       "5      5    159  4.301887\n",
       "9      9    105  4.295238\n",
       "6      6    151  4.264901\n",
       "2      2    232  4.125000\n",
       "3      3    223  4.103139\n",
       "8      8    113  3.982301"
      ]
     },
     "execution_count": 265,
     "metadata": {},
     "output_type": "execute_result"
    }
   ],
   "source": [
    "# finding correlation between topics and star ratings:\n",
    "# Group by topic and calculate average rating\n",
    "df_top10 = df_cleaned[df_cleaned['topic'].isin(range(10))]\n",
    "topic_ratings = df_top10.groupby('topic')['rating'].agg(['count', 'mean']).reset_index()\n",
    "\n",
    "# Sort by highest-rated themes\n",
    "topic_ratings.sort_values('mean', ascending=False)"
   ]
  },
  {
   "cell_type": "code",
   "execution_count": 267,
   "id": "4b58f963-0792-4e35-9cb5-f7fe05971929",
   "metadata": {},
   "outputs": [
    {
     "data": {
      "image/png": "[encoded data removed]",
      "text/plain": [
       "<Figure size 1000x600 with 1 Axes>"
      ]
     },
     "metadata": {},
     "output_type": "display_data"
    }
   ],
   "source": [
    "plt.figure(figsize=(10,6))\n",
    "sns.barplot(data=topic_ratings, x='topic', y='mean')\n",
    "plt.title('Average Star Rating per Topic')\n",
    "plt.xlabel('Topic')\n",
    "plt.ylabel('Average Rating')\n",
    "plt.show()"
   ]
  },
  {
   "cell_type": "code",
   "execution_count": 253,
   "id": "fefcd6b8-4ec8-4add-aa00-37c8867e94eb",
   "metadata": {},
   "outputs": [
    {
     "name": "stdout",
     "output_type": "stream",
     "text": [
      "\n",
      "Topic 0:\n",
      "[('service', 0.06111164757885583), ('food', 0.04832879984079407), ('fast', 0.04473119148918114), ('great', 0.016258302531695454), ('slow', 0.014699030298344342), ('quick', 0.014187906792860347), ('delicious', 0.01365540902189408), ('fresh', 0.013505191099455327), ('wait', 0.013169463476193246), ('longest', 0.010288968374696615)]\n",
      "\n",
      "Topic 1:\n",
      "[('restaurant', 0.012608294382454852), ('food', 0.012367573523296087), ('definitely', 0.01226663302288101), ('dining', 0.012038972768134992), ('place', 0.011387607633455702), ('mac', 0.011017055856284525), ('eat', 0.009998001118956186), ('cheese', 0.00973484839305772), ('spot', 0.009500828345390747), ('great', 0.00899633798914676)]\n",
      "\n",
      "Topic 2:\n",
      "[('drinks', 0.04877116024530884), ('bar', 0.04841161405174642), ('beer', 0.048145224790984535), ('cocktails', 0.03656091654914187), ('beers', 0.032259632249242824), ('bartender', 0.02916561095159896), ('bartenders', 0.025932330511212343), ('selection', 0.01869097379320453), ('music', 0.015139893024911939), ('drink', 0.014781959005681482)]\n",
      "\n",
      "Topic 3:\n",
      "[('staff', 0.09764243462612036), ('friendly', 0.05926377342437456), ('helpful', 0.05371383327673577), ('professional', 0.027506438453753817), ('help', 0.026285075667301292), ('work', 0.025061200996241394), ('knowledgeable', 0.02243753786819202), ('employees', 0.01980815586049615), ('kind', 0.01672624828701431), ('ure', 0.015838074913858836)]\n",
      "\n",
      "Topic 4:\n",
      "[('subs', 0.7292639679390281), ('rico', 0.6329720905522697), ('koo', 0.6329720905522697), ('eh', 0.6329720905522697), ('eghhh', 0.6329720905522697), ('shul', 0.5638354669333746), ('trendy', 0.4727387818712341), ('yes', 0.394949393685764), ('miss', 0.3367295829986474), ('', 1e-05)]\n",
      "\n",
      "Topic 5:\n",
      "[('food', 0.20837481955640288), ('eats', 0.09005661712059117), ('plenty', 0.058753504241162914), ('attention', 0.044955593696905376), ('1986', 0.044575499334666875), ('serivce', 0.044575499334666875), ('inedible', 0.044575499334666875), ('foodstop', 0.044575499334666875), ('fir', 0.044575499334666875), ('holy', 0.03970672302347708)]\n",
      "\n",
      "Topic 6:\n",
      "[('chicken', 0.033308440648687605), ('shrimp', 0.030188117194350658), ('indian', 0.02495652287139133), ('fried', 0.020453664971626463), ('seafood', 0.01936798620622809), ('curry', 0.018573768527413142), ('fish', 0.017213040011207673), ('sauce', 0.014624307558991828), ('spicy', 0.013737411862151007), ('ordered', 0.012445996422580034)]\n",
      "\n",
      "Topic 7:\n",
      "[('staff', 0.0748679858858599), ('friendly', 0.031851901625329075), ('food', 0.02847112934819941), ('delicious', 0.015208137677061187), ('atmosphere', 0.015152522417284727), ('chipotle', 0.013830032600981718), ('alcoholic', 0.013830032600981718), ('trained', 0.013830032600981718), ('helpful', 0.0136017551596002), ('drinks', 0.013380294893768227)]\n",
      "\n",
      "Topic 8:\n",
      "[('pizza', 0.21277903196020925), ('crust', 0.0483023215528761), ('slice', 0.04292586752107403), ('die', 0.0258237948986908), ('pie', 0.022605149805101143), ('tomato', 0.02008805022115726), ('ny', 0.01987763263887564), ('pies', 0.018673296691242663), ('best', 0.01830930499550476), ('thin', 0.018113370582328536)]\n",
      "\n",
      "Topic 9:\n",
      "[('prices', 0.04546661353366056), ('bowl', 0.03904111107230695), ('price', 0.03536531488983476), ('food', 0.029647460460055744), ('expensive', 0.026903851800117885), ('soft', 0.024038584677044127), ('low', 0.023425311379864804), ('acai', 0.020553860081358004), ('cheap', 0.020530531478668235), ('bit', 0.020456761525657473)]\n"
     ]
    }
   ],
   "source": [
    "# interpret topic themes:\n",
    "for topic_num in topic_ratings['topic']:\n",
    "    print(f\"\\nTopic {topic_num}:\")\n",
    "    print(topic_model.get_topic(topic_num))"
   ]
  },
  {
   "cell_type": "code",
   "execution_count": 255,
   "id": "ad0d5ed4-1a58-47db-9402-f3d85bb8e7cc",
   "metadata": {},
   "outputs": [
    {
     "data": {
      "text/html": [
       "<div>\n",
       "<style scoped>\n",
       "    .dataframe tbody tr th:only-of-type {\n",
       "        vertical-align: middle;\n",
       "    }\n",
       "\n",
       "    .dataframe tbody tr th {\n",
       "        vertical-align: top;\n",
       "    }\n",
       "\n",
       "    .dataframe thead th {\n",
       "        text-align: right;\n",
       "    }\n",
       "</style>\n",
       "<table border=\"1\" class=\"dataframe\">\n",
       "  <thead>\n",
       "    <tr style=\"text-align: right;\">\n",
       "      <th></th>\n",
       "      <th>user_id</th>\n",
       "      <th>rating</th>\n",
       "      <th>text</th>\n",
       "      <th>gmap_id</th>\n",
       "      <th>clean_review</th>\n",
       "      <th>topic</th>\n",
       "    </tr>\n",
       "  </thead>\n",
       "  <tbody>\n",
       "    <tr>\n",
       "      <th>16684439</th>\n",
       "      <td>102121998027632943441</td>\n",
       "      <td>5</td>\n",
       "      <td>👌👌</td>\n",
       "      <td>0x89c259a8ef657243:0x9185d801317e2d9d</td>\n",
       "      <td></td>\n",
       "      <td>4</td>\n",
       "    </tr>\n",
       "    <tr>\n",
       "      <th>16075464</th>\n",
       "      <td>111559004182904926907</td>\n",
       "      <td>5</td>\n",
       "      <td>Great good food. This place stays packed</td>\n",
       "      <td>0x89c25b9cf8533e3d:0xe3a759bf82f08adc</td>\n",
       "      <td>food. place stays packed</td>\n",
       "      <td>5</td>\n",
       "    </tr>\n",
       "    <tr>\n",
       "      <th>4593886</th>\n",
       "      <td>104406450828479848959</td>\n",
       "      <td>5</td>\n",
       "      <td>The cocktails are very well curated, the staff...</td>\n",
       "      <td>0x89c25a506d00b9a3:0xb358b696be9f462a</td>\n",
       "      <td>cocktails well curated, staff friendly helpful...</td>\n",
       "      <td>2</td>\n",
       "    </tr>\n",
       "    <tr>\n",
       "      <th>16618392</th>\n",
       "      <td>107107630594526497976</td>\n",
       "      <td>5</td>\n",
       "      <td>I did NOT go there for gambling, rather to eat...</td>\n",
       "      <td>0x89d973dc14c2ffbd:0x7bf71dd02d72ba2</td>\n",
       "      <td>go gambling, rather eat restaurant food.</td>\n",
       "      <td>0</td>\n",
       "    </tr>\n",
       "    <tr>\n",
       "      <th>12912736</th>\n",
       "      <td>102769986766119831927</td>\n",
       "      <td>5</td>\n",
       "      <td>Good food at a hood price large selection clea...</td>\n",
       "      <td>0x89d08170adc3143f:0x19ea35893a55ec5d</td>\n",
       "      <td>food hood price large selection clean local place</td>\n",
       "      <td>9</td>\n",
       "    </tr>\n",
       "    <tr>\n",
       "      <th>...</th>\n",
       "      <td>...</td>\n",
       "      <td>...</td>\n",
       "      <td>...</td>\n",
       "      <td>...</td>\n",
       "      <td>...</td>\n",
       "      <td>...</td>\n",
       "    </tr>\n",
       "    <tr>\n",
       "      <th>2230054</th>\n",
       "      <td>115092315200669745765</td>\n",
       "      <td>4</td>\n",
       "      <td>Good food.</td>\n",
       "      <td>0x89c2c46da16ad57b:0x8bd8e68dbd041f1b</td>\n",
       "      <td>food.</td>\n",
       "      <td>5</td>\n",
       "    </tr>\n",
       "    <tr>\n",
       "      <th>11621726</th>\n",
       "      <td>104951010927349284549</td>\n",
       "      <td>5</td>\n",
       "      <td>We sit on the bar and the bartender was helpfu...</td>\n",
       "      <td>0x89c259be6aaf51c7:0xa94bda30596a5c6a</td>\n",
       "      <td>sit bar bartender helpful giving suggestions s...</td>\n",
       "      <td>2</td>\n",
       "    </tr>\n",
       "    <tr>\n",
       "      <th>4829391</th>\n",
       "      <td>104032262476417530138</td>\n",
       "      <td>5</td>\n",
       "      <td>Great service! Great food</td>\n",
       "      <td>0x89de0e606c11ab71:0xf994df28f6571085</td>\n",
       "      <td>service! food</td>\n",
       "      <td>0</td>\n",
       "    </tr>\n",
       "    <tr>\n",
       "      <th>12913886</th>\n",
       "      <td>112832528033070400981</td>\n",
       "      <td>5</td>\n",
       "      <td>Great food, fast service, and most importantly...</td>\n",
       "      <td>0x89daefbe78b6ad8f:0x3dfccbfc9ef18e16</td>\n",
       "      <td>food, fast service, importantly...friendly staff!</td>\n",
       "      <td>7</td>\n",
       "    </tr>\n",
       "    <tr>\n",
       "      <th>8110866</th>\n",
       "      <td>116780380610192517597</td>\n",
       "      <td>5</td>\n",
       "      <td>Always professional, friendly and stocked up. ...</td>\n",
       "      <td>0x89c25855f09dc471:0xf40f35d3bb330926</td>\n",
       "      <td>always professional, friendly stocked up. need...</td>\n",
       "      <td>3</td>\n",
       "    </tr>\n",
       "  </tbody>\n",
       "</table>\n",
       "<p>1065 rows × 6 columns</p>\n",
       "</div>"
      ],
      "text/plain": [
       "                        user_id  rating  \\\n",
       "16684439  102121998027632943441       5   \n",
       "16075464  111559004182904926907       5   \n",
       "4593886   104406450828479848959       5   \n",
       "16618392  107107630594526497976       5   \n",
       "12912736  102769986766119831927       5   \n",
       "...                         ...     ...   \n",
       "2230054   115092315200669745765       4   \n",
       "11621726  104951010927349284549       5   \n",
       "4829391   104032262476417530138       5   \n",
       "12913886  112832528033070400981       5   \n",
       "8110866   116780380610192517597       5   \n",
       "\n",
       "                                                       text  \\\n",
       "16684439                                                 👌👌   \n",
       "16075464           Great good food. This place stays packed   \n",
       "4593886   The cocktails are very well curated, the staff...   \n",
       "16618392  I did NOT go there for gambling, rather to eat...   \n",
       "12912736  Good food at a hood price large selection clea...   \n",
       "...                                                     ...   \n",
       "2230054                                          Good food.   \n",
       "11621726  We sit on the bar and the bartender was helpfu...   \n",
       "4829391                           Great service! Great food   \n",
       "12913886  Great food, fast service, and most importantly...   \n",
       "8110866   Always professional, friendly and stocked up. ...   \n",
       "\n",
       "                                        gmap_id  \\\n",
       "16684439  0x89c259a8ef657243:0x9185d801317e2d9d   \n",
       "16075464  0x89c25b9cf8533e3d:0xe3a759bf82f08adc   \n",
       "4593886   0x89c25a506d00b9a3:0xb358b696be9f462a   \n",
       "16618392   0x89d973dc14c2ffbd:0x7bf71dd02d72ba2   \n",
       "12912736  0x89d08170adc3143f:0x19ea35893a55ec5d   \n",
       "...                                         ...   \n",
       "2230054   0x89c2c46da16ad57b:0x8bd8e68dbd041f1b   \n",
       "11621726  0x89c259be6aaf51c7:0xa94bda30596a5c6a   \n",
       "4829391   0x89de0e606c11ab71:0xf994df28f6571085   \n",
       "12913886  0x89daefbe78b6ad8f:0x3dfccbfc9ef18e16   \n",
       "8110866   0x89c25855f09dc471:0xf40f35d3bb330926   \n",
       "\n",
       "                                               clean_review  topic  \n",
       "16684439                                                         4  \n",
       "16075464                           food. place stays packed      5  \n",
       "4593886   cocktails well curated, staff friendly helpful...      2  \n",
       "16618392           go gambling, rather eat restaurant food.      0  \n",
       "12912736  food hood price large selection clean local place      9  \n",
       "...                                                     ...    ...  \n",
       "2230054                                               food.      5  \n",
       "11621726  sit bar bartender helpful giving suggestions s...      2  \n",
       "4829391                                       service! food      0  \n",
       "12913886  food, fast service, importantly...friendly staff!      7  \n",
       "8110866   always professional, friendly stocked up. need...      3  \n",
       "\n",
       "[1065 rows x 6 columns]"
      ]
     },
     "execution_count": 255,
     "metadata": {},
     "output_type": "execute_result"
    }
   ],
   "source": [
    "df_top10"
   ]
  },
  {
   "cell_type": "code",
   "execution_count": 269,
   "id": "a35c5e62-46bb-416f-8033-d47bd6325d82",
   "metadata": {},
   "outputs": [
    {
     "name": "stdout",
     "output_type": "stream",
     "text": [
      "Pearson's correlation coefficient: -0.04449685816394583\n",
      "P-value: 0.020162207534895202\n"
     ]
    },
    {
     "data": {
      "text/html": [
       "<div>\n",
       "<style scoped>\n",
       "    .dataframe tbody tr th:only-of-type {\n",
       "        vertical-align: middle;\n",
       "    }\n",
       "\n",
       "    .dataframe tbody tr th {\n",
       "        vertical-align: top;\n",
       "    }\n",
       "\n",
       "    .dataframe thead th {\n",
       "        text-align: right;\n",
       "    }\n",
       "</style>\n",
       "<table border=\"1\" class=\"dataframe\">\n",
       "  <thead>\n",
       "    <tr style=\"text-align: right;\">\n",
       "      <th></th>\n",
       "      <th>user_id</th>\n",
       "      <th>rating</th>\n",
       "      <th>text</th>\n",
       "      <th>gmap_id</th>\n",
       "      <th>clean_review</th>\n",
       "      <th>topic</th>\n",
       "    </tr>\n",
       "  </thead>\n",
       "  <tbody>\n",
       "    <tr>\n",
       "      <th>16684439</th>\n",
       "      <td>102121998027632943441</td>\n",
       "      <td>5</td>\n",
       "      <td>👌👌</td>\n",
       "      <td>0x89c259a8ef657243:0x9185d801317e2d9d</td>\n",
       "      <td></td>\n",
       "      <td>4</td>\n",
       "    </tr>\n",
       "    <tr>\n",
       "      <th>522627</th>\n",
       "      <td>110336735997181504156</td>\n",
       "      <td>5</td>\n",
       "      <td>Great service...ALWAYS!</td>\n",
       "      <td>0x89c25cc2c9225e97:0xcb2e217314e53c71</td>\n",
       "      <td>service...always!</td>\n",
       "      <td>3</td>\n",
       "    </tr>\n",
       "    <tr>\n",
       "      <th>17892686</th>\n",
       "      <td>117165663802951898294</td>\n",
       "      <td>5</td>\n",
       "      <td>Good store</td>\n",
       "      <td>0x89d041bb3623d86f:0x1a43ab540afdd1</td>\n",
       "      <td>store</td>\n",
       "      <td>2</td>\n",
       "    </tr>\n",
       "    <tr>\n",
       "      <th>15174858</th>\n",
       "      <td>116646756467695883317</td>\n",
       "      <td>5</td>\n",
       "      <td>(Translated by Google) Nice parke\\n\\n(Original...</td>\n",
       "      <td>0x89c2c6d5cc79de03:0x7c9ba5b5f5a6591f</td>\n",
       "      <td>nice parke</td>\n",
       "      <td>7</td>\n",
       "    </tr>\n",
       "    <tr>\n",
       "      <th>15552862</th>\n",
       "      <td>106899057835677777819</td>\n",
       "      <td>4</td>\n",
       "      <td>Delicious food!</td>\n",
       "      <td>0x89c25992279cb0a7:0x47c6705638de9109</td>\n",
       "      <td>delicious food!</td>\n",
       "      <td>0</td>\n",
       "    </tr>\n",
       "    <tr>\n",
       "      <th>...</th>\n",
       "      <td>...</td>\n",
       "      <td>...</td>\n",
       "      <td>...</td>\n",
       "      <td>...</td>\n",
       "      <td>...</td>\n",
       "      <td>...</td>\n",
       "    </tr>\n",
       "    <tr>\n",
       "      <th>9958858</th>\n",
       "      <td>107480341400651201994</td>\n",
       "      <td>5</td>\n",
       "      <td>One of my favorite places. Got a little lost, ...</td>\n",
       "      <td>0x89ddafe4f7bfddf9:0xd172e8e25297582a</td>\n",
       "      <td>one favorite places. got little lost, though, ...</td>\n",
       "      <td>7</td>\n",
       "    </tr>\n",
       "    <tr>\n",
       "      <th>16128975</th>\n",
       "      <td>115491679610897128510</td>\n",
       "      <td>5</td>\n",
       "      <td>Great Museum for any age, lots of interactive ...</td>\n",
       "      <td>0x89c25f2550f21f03:0x58db958504446c43</td>\n",
       "      <td>museum age, lots interactive activities. follo...</td>\n",
       "      <td>1</td>\n",
       "    </tr>\n",
       "    <tr>\n",
       "      <th>99195</th>\n",
       "      <td>115345078317616155026</td>\n",
       "      <td>5</td>\n",
       "      <td>Very helpful, knowledgeable, and friendly.</td>\n",
       "      <td>0x89c25f67e567c265:0x456da02ecc16c551</td>\n",
       "      <td>helpful, knowledgeable, friendly.</td>\n",
       "      <td>6</td>\n",
       "    </tr>\n",
       "    <tr>\n",
       "      <th>18532063</th>\n",
       "      <td>106502085318785025232</td>\n",
       "      <td>5</td>\n",
       "      <td>Great customer service, great food for a good ...</td>\n",
       "      <td>0x89c25f22934808e3:0x59e87e56e1cf3ef7</td>\n",
       "      <td>customer service, food price clean environment...</td>\n",
       "      <td>0</td>\n",
       "    </tr>\n",
       "    <tr>\n",
       "      <th>1995219</th>\n",
       "      <td>111478413726922858485</td>\n",
       "      <td>4</td>\n",
       "      <td>Good customer service</td>\n",
       "      <td>0x89c2dd4ef0038e4b:0xacf447643a82e5df</td>\n",
       "      <td>customer service</td>\n",
       "      <td>3</td>\n",
       "    </tr>\n",
       "  </tbody>\n",
       "</table>\n",
       "<p>2726 rows × 6 columns</p>\n",
       "</div>"
      ],
      "text/plain": [
       "                        user_id  rating  \\\n",
       "16684439  102121998027632943441       5   \n",
       "522627    110336735997181504156       5   \n",
       "17892686  117165663802951898294       5   \n",
       "15174858  116646756467695883317       5   \n",
       "15552862  106899057835677777819       4   \n",
       "...                         ...     ...   \n",
       "9958858   107480341400651201994       5   \n",
       "16128975  115491679610897128510       5   \n",
       "99195     115345078317616155026       5   \n",
       "18532063  106502085318785025232       5   \n",
       "1995219   111478413726922858485       4   \n",
       "\n",
       "                                                       text  \\\n",
       "16684439                                                 👌👌   \n",
       "522627                              Great service...ALWAYS!   \n",
       "17892686                                         Good store   \n",
       "15174858  (Translated by Google) Nice parke\\n\\n(Original...   \n",
       "15552862                                    Delicious food!   \n",
       "...                                                     ...   \n",
       "9958858   One of my favorite places. Got a little lost, ...   \n",
       "16128975  Great Museum for any age, lots of interactive ...   \n",
       "99195            Very helpful, knowledgeable, and friendly.   \n",
       "18532063  Great customer service, great food for a good ...   \n",
       "1995219                               Good customer service   \n",
       "\n",
       "                                        gmap_id  \\\n",
       "16684439  0x89c259a8ef657243:0x9185d801317e2d9d   \n",
       "522627    0x89c25cc2c9225e97:0xcb2e217314e53c71   \n",
       "17892686    0x89d041bb3623d86f:0x1a43ab540afdd1   \n",
       "15174858  0x89c2c6d5cc79de03:0x7c9ba5b5f5a6591f   \n",
       "15552862  0x89c25992279cb0a7:0x47c6705638de9109   \n",
       "...                                         ...   \n",
       "9958858   0x89ddafe4f7bfddf9:0xd172e8e25297582a   \n",
       "16128975  0x89c25f2550f21f03:0x58db958504446c43   \n",
       "99195     0x89c25f67e567c265:0x456da02ecc16c551   \n",
       "18532063  0x89c25f22934808e3:0x59e87e56e1cf3ef7   \n",
       "1995219   0x89c2dd4ef0038e4b:0xacf447643a82e5df   \n",
       "\n",
       "                                               clean_review  topic  \n",
       "16684439                                                         4  \n",
       "522627                                    service...always!      3  \n",
       "17892686                                              store      2  \n",
       "15174858                                         nice parke      7  \n",
       "15552862                                    delicious food!      0  \n",
       "...                                                     ...    ...  \n",
       "9958858   one favorite places. got little lost, though, ...      7  \n",
       "16128975  museum age, lots interactive activities. follo...      1  \n",
       "99195                     helpful, knowledgeable, friendly.      6  \n",
       "18532063  customer service, food price clean environment...      0  \n",
       "1995219                                    customer service      3  \n",
       "\n",
       "[2726 rows x 6 columns]"
      ]
     },
     "execution_count": 269,
     "metadata": {},
     "output_type": "execute_result"
    }
   ],
   "source": [
    "# finding correlation between topics and ratings\n",
    "from scipy.stats import pearsonr\n",
    "#df_top10 = df_top10[df_top10['topic']!=3][df_top10['topic']!=4]\n",
    "\n",
    "# Assuming you have two lists/arrays: one for topic vectors or labels (X) and one for ratings (y)\n",
    "correlation_coefficient, p_value = pearsonr(df_top10['topic'], df_top10['rating'])\n",
    "\n",
    "print(\"Pearson's correlation coefficient:\", correlation_coefficient)\n",
    "print(\"P-value:\", p_value)\n",
    "df_top10"
   ]
  },
  {
   "cell_type": "code",
   "execution_count": null,
   "id": "7a69e43e-2abe-4d7d-a9ce-0945e8365af8",
   "metadata": {},
   "outputs": [],
   "source": []
  }
 ],
 "metadata": {
  "kernelspec": {
   "display_name": "Python 3 (ipykernel)",
   "language": "python",
   "name": "python3"
  },
  "language_info": {
   "codemirror_mode": {
    "name": "ipython",
    "version": 3
   },
   "file_extension": ".py",
   "mimetype": "text/x-python",
   "name": "python",
   "nbconvert_exporter": "python",
   "pygments_lexer": "ipython3",
   "version": "3.12.4"
  }
 },
 "nbformat": 4,
 "nbformat_minor": 5
}
