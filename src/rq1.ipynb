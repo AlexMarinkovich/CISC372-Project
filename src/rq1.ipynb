{
 "cells": [
  {
   "cell_type": "code",
   "execution_count": 1,
   "id": "1412d085-4ed8-4c34-822e-f8c2af182abb",
   "metadata": {},
   "outputs": [
    {
     "name": "stderr",
     "output_type": "stream",
     "text": [
      "[nltk_data] Downloading package punkt_tab to\n",
      "[nltk_data]     C:\\Users\\madel\\AppData\\Roaming\\nltk_data...\n",
      "[nltk_data]   Package punkt_tab is already up-to-date!\n",
      "[nltk_data] Downloading package punkt to\n",
      "[nltk_data]     C:\\Users\\madel\\AppData\\Roaming\\nltk_data...\n",
      "[nltk_data]   Package punkt is already up-to-date!\n",
      "[nltk_data] Downloading package stopwords to\n",
      "[nltk_data]     C:\\Users\\madel\\AppData\\Roaming\\nltk_data...\n",
      "[nltk_data]   Package stopwords is already up-to-date!\n",
      "[nltk_data] Downloading package wordnet to\n",
      "[nltk_data]     C:\\Users\\madel\\AppData\\Roaming\\nltk_data...\n",
      "[nltk_data]   Package wordnet is already up-to-date!\n"
     ]
    },
    {
     "data": {
      "text/plain": [
       "True"
      ]
     },
     "execution_count": 1,
     "metadata": {},
     "output_type": "execute_result"
    }
   ],
   "source": [
    "import numpy as np\n",
    "import pandas as pd\n",
    "import torch\n",
    "import torch.nn as nn\n",
    "import torch.optim as optim\n",
    "from torch.utils.data import Dataset, DataLoader\n",
    "from sklearn.model_selection import train_test_split\n",
    "from sklearn.feature_extraction.text import TfidfVectorizer\n",
    "from sklearn.preprocessing import LabelEncoder\n",
    "from transformers import BertTokenizer, BertModel\n",
    "import nltk\n",
    "from nltk.tokenize import word_tokenize\n",
    "from nltk.corpus import stopwords\n",
    "from nltk.stem import WordNetLemmatizer\n",
    "import re\n",
    "import string\n",
    "import seaborn as sns\n",
    "import matplotlib.pyplot as plt\n",
    "from textblob import TextBlob\n",
    "\n",
    "import nltk\n",
    "nltk.download('punkt_tab')\n",
    "\n",
    "# Ensure required nltk resources are available\n",
    "nltk.download('punkt')\n",
    "nltk.download('stopwords')\n",
    "nltk.download('wordnet')"
   ]
  },
  {
   "cell_type": "code",
   "execution_count": 3,
   "id": "d2524bf8-c6ac-4306-a4f4-bf5500e60e44",
   "metadata": {},
   "outputs": [],
   "source": [
    "def parse(path):\n",
    "  g = gzip.open(path, 'r')\n",
    "  for l in g:\n",
    "    yield json.loads(l)"
   ]
  },
  {
   "cell_type": "code",
   "execution_count": 5,
   "id": "fcd8b83c-6981-4fb2-b445-3ac563796c44",
   "metadata": {},
   "outputs": [
    {
     "name": "stderr",
     "output_type": "stream",
     "text": [
      "18661975it [03:16, 94940.88it/s] \n"
     ]
    }
   ],
   "source": [
    "import gzip\n",
    "from tqdm import tqdm\n",
    "path_to_file = \"review-New_York_10.json.gz\"\n",
    "\n",
    "# Let's load all data\n",
    "data = []\n",
    "for i, d in tqdm(enumerate(parse(path_to_file))):  \n",
    "    data.append(d)"
   ]
  },
  {
   "cell_type": "code",
   "execution_count": 7,
   "id": "b5ef0fec-2628-4ad6-b787-6f66d15e3531",
   "metadata": {},
   "outputs": [],
   "source": [
    "df = pd.DataFrame(data)"
   ]
  },
  {
   "cell_type": "code",
   "execution_count": 9,
   "id": "5a0a242a-c58e-4f10-bce8-f3d6095d39b4",
   "metadata": {},
   "outputs": [],
   "source": [
    "import re\n",
    "\n",
    "def remove_translated_reviews(text):\n",
    "    if isinstance(text, str) and re.search(r'\\(Translated by Google\\)', text, re.IGNORECASE):\n",
    "        return np.nan  # Mark for drop\n",
    "    return text"
   ]
  },
  {
   "cell_type": "code",
   "execution_count": 11,
   "id": "b3b2d110-e3c1-43a6-aca9-43cea78ed8eb",
   "metadata": {},
   "outputs": [],
   "source": [
    "def remove_emojis(text):\n",
    "    emoji_pattern = re.compile(\n",
    "        \"[\" \n",
    "        u\"\\U0001F600-\\U0001F64F\"\n",
    "        u\"\\U0001F300-\\U0001F5FF\"\n",
    "        u\"\\U0001F680-\\U0001F6FF\"\n",
    "        u\"\\U0001F1E0-\\U0001F1FF\"\n",
    "        \"]+\", flags=re.UNICODE)\n",
    "    return emoji_pattern.sub(r'', text)"
   ]
  },
  {
   "cell_type": "code",
   "execution_count": 13,
   "id": "1b4ae4e4-aca7-42c2-99cf-55555fcabeb4",
   "metadata": {},
   "outputs": [],
   "source": [
    "df_initclean=df.drop(columns=['name', 'time', 'pics', 'resp'])\n",
    "df_initclean['text']=df_initclean['text'].apply(remove_translated_reviews)\n",
    "df_initclean = df_initclean.dropna()\n",
    "df_initclean['text']=df_initclean['text'].apply(remove_emojis)\n",
    "df_initclean.drop_duplicates(inplace=True)"
   ]
  },
  {
   "cell_type": "code",
   "execution_count": 59,
   "id": "4afe7ac2-e030-4ab9-bde7-d5e90e080fad",
   "metadata": {},
   "outputs": [
    {
     "name": "stderr",
     "output_type": "stream",
     "text": [
      "C:\\Users\\madel\\AppData\\Local\\Temp\\ipykernel_12224\\1276981019.py:3: DeprecationWarning:\n",
      "\n",
      "DataFrameGroupBy.apply operated on the grouping columns. This behavior is deprecated, and in a future version of pandas the grouping columns will be excluded from the operation. Either pass `include_groups=False` to exclude the groupings or explicitly select the grouping columns after groupby to silence this warning.\n",
      "\n"
     ]
    },
    {
     "data": {
      "text/html": [
       "<div>\n",
       "<style scoped>\n",
       "    .dataframe tbody tr th:only-of-type {\n",
       "        vertical-align: middle;\n",
       "    }\n",
       "\n",
       "    .dataframe tbody tr th {\n",
       "        vertical-align: top;\n",
       "    }\n",
       "\n",
       "    .dataframe thead th {\n",
       "        text-align: right;\n",
       "    }\n",
       "</style>\n",
       "<table border=\"1\" class=\"dataframe\">\n",
       "  <thead>\n",
       "    <tr style=\"text-align: right;\">\n",
       "      <th></th>\n",
       "      <th>user_id</th>\n",
       "      <th>rating</th>\n",
       "      <th>text</th>\n",
       "      <th>gmap_id</th>\n",
       "    </tr>\n",
       "  </thead>\n",
       "  <tbody>\n",
       "    <tr>\n",
       "      <th>1030933</th>\n",
       "      <td>108754496617711878337</td>\n",
       "      <td>1</td>\n",
       "      <td>Took us long to sit. Only one person that work...</td>\n",
       "      <td>0x89dc072685f8db8d:0x472c97602ebb781d</td>\n",
       "    </tr>\n",
       "    <tr>\n",
       "      <th>607821</th>\n",
       "      <td>110913657411615367606</td>\n",
       "      <td>1</td>\n",
       "      <td>I walked in ready to get my tattoo here based ...</td>\n",
       "      <td>0x89c24e6e75ae6bdb:0x62e6927a6eb3310d</td>\n",
       "    </tr>\n",
       "    <tr>\n",
       "      <th>2528995</th>\n",
       "      <td>101525478558822638524</td>\n",
       "      <td>1</td>\n",
       "      <td>Really bad customer service, plus over price.</td>\n",
       "      <td>0x89c2f3f66d608019:0x134316ff67a75ae3</td>\n",
       "    </tr>\n",
       "    <tr>\n",
       "      <th>863351</th>\n",
       "      <td>100700392448875044171</td>\n",
       "      <td>1</td>\n",
       "      <td>They have a youg lady that works there and she...</td>\n",
       "      <td>0x89c2599e515bf4dd:0x4f079e048a26869d</td>\n",
       "    </tr>\n",
       "    <tr>\n",
       "      <th>347529</th>\n",
       "      <td>106010706783677566665</td>\n",
       "      <td>1</td>\n",
       "      <td>Disgusting, came wait for 15 minutes, while th...</td>\n",
       "      <td>0x89c3291acfa48871:0x3434bc5ee5656c46</td>\n",
       "    </tr>\n",
       "    <tr>\n",
       "      <th>...</th>\n",
       "      <td>...</td>\n",
       "      <td>...</td>\n",
       "      <td>...</td>\n",
       "      <td>...</td>\n",
       "    </tr>\n",
       "    <tr>\n",
       "      <th>15127484</th>\n",
       "      <td>102217410848262083193</td>\n",
       "      <td>5</td>\n",
       "      <td>Bobby,'s is the best go to for reasonable pric...</td>\n",
       "      <td>0x89c25b3eac517413:0x8294213d52523b1f</td>\n",
       "    </tr>\n",
       "    <tr>\n",
       "      <th>16440475</th>\n",
       "      <td>108879028250115321635</td>\n",
       "      <td>5</td>\n",
       "      <td>This Arby was good</td>\n",
       "      <td>0x89c261f71414037d:0xbc8c70b3359c3428</td>\n",
       "    </tr>\n",
       "    <tr>\n",
       "      <th>14221436</th>\n",
       "      <td>113187475746250248467</td>\n",
       "      <td>5</td>\n",
       "      <td>I've always enjoy shopping here, clean and fas...</td>\n",
       "      <td>0x89c2589d18cdf6d7:0x944cb15bd440e1f4</td>\n",
       "    </tr>\n",
       "    <tr>\n",
       "      <th>7116054</th>\n",
       "      <td>116671577511763781855</td>\n",
       "      <td>5</td>\n",
       "      <td>Had one of those meals where everything was ex...</td>\n",
       "      <td>0x89c259d6e1ed322b:0x8d06611d6f84ff6e</td>\n",
       "    </tr>\n",
       "    <tr>\n",
       "      <th>16969635</th>\n",
       "      <td>104801318424481403191</td>\n",
       "      <td>5</td>\n",
       "      <td>A court house staple</td>\n",
       "      <td>0x89c25a2746a1fd0b:0xd7d51e573e1d55c3</td>\n",
       "    </tr>\n",
       "  </tbody>\n",
       "</table>\n",
       "<p>50000 rows × 4 columns</p>\n",
       "</div>"
      ],
      "text/plain": [
       "                        user_id  rating  \\\n",
       "1030933   108754496617711878337       1   \n",
       "607821    110913657411615367606       1   \n",
       "2528995   101525478558822638524       1   \n",
       "863351    100700392448875044171       1   \n",
       "347529    106010706783677566665       1   \n",
       "...                         ...     ...   \n",
       "15127484  102217410848262083193       5   \n",
       "16440475  108879028250115321635       5   \n",
       "14221436  113187475746250248467       5   \n",
       "7116054   116671577511763781855       5   \n",
       "16969635  104801318424481403191       5   \n",
       "\n",
       "                                                       text  \\\n",
       "1030933   Took us long to sit. Only one person that work...   \n",
       "607821    I walked in ready to get my tattoo here based ...   \n",
       "2528995       Really bad customer service, plus over price.   \n",
       "863351    They have a youg lady that works there and she...   \n",
       "347529    Disgusting, came wait for 15 minutes, while th...   \n",
       "...                                                     ...   \n",
       "15127484  Bobby,'s is the best go to for reasonable pric...   \n",
       "16440475                                 This Arby was good   \n",
       "14221436  I've always enjoy shopping here, clean and fas...   \n",
       "7116054   Had one of those meals where everything was ex...   \n",
       "16969635                               A court house staple   \n",
       "\n",
       "                                        gmap_id  \n",
       "1030933   0x89dc072685f8db8d:0x472c97602ebb781d  \n",
       "607821    0x89c24e6e75ae6bdb:0x62e6927a6eb3310d  \n",
       "2528995   0x89c2f3f66d608019:0x134316ff67a75ae3  \n",
       "863351    0x89c2599e515bf4dd:0x4f079e048a26869d  \n",
       "347529    0x89c3291acfa48871:0x3434bc5ee5656c46  \n",
       "...                                         ...  \n",
       "15127484  0x89c25b3eac517413:0x8294213d52523b1f  \n",
       "16440475  0x89c261f71414037d:0xbc8c70b3359c3428  \n",
       "14221436  0x89c2589d18cdf6d7:0x944cb15bd440e1f4  \n",
       "7116054   0x89c259d6e1ed322b:0x8d06611d6f84ff6e  \n",
       "16969635  0x89c25a2746a1fd0b:0xd7d51e573e1d55c3  \n",
       "\n",
       "[50000 rows x 4 columns]"
      ]
     },
     "execution_count": 59,
     "metadata": {},
     "output_type": "execute_result"
    }
   ],
   "source": [
    "n_per_class = 10000\n",
    "# Sample equal instances per rating\n",
    "df_sampled = df_initclean.groupby('rating', group_keys=False).apply(lambda x: x.sample(n=min(len(x), n_per_class), random_state=42))\n",
    "df_sampled.reset_index()\n",
    "df_sampled"
   ]
  },
  {
   "cell_type": "code",
   "execution_count": 61,
   "id": "d5b4ec38-3eef-4f18-8028-e16695dab604",
   "metadata": {},
   "outputs": [
    {
     "data": {
      "image/png": "[encoded data removed]",
      "text/plain": [
       "<Figure size 800x400 with 1 Axes>"
      ]
     },
     "metadata": {},
     "output_type": "display_data"
    }
   ],
   "source": [
    "# EDA - double check distribution of ratings in dataset\n",
    "import matplotlib.pyplot as plt\n",
    "import seaborn as sns\n",
    "\n",
    "# Distribution of ratings\n",
    "plt.figure(figsize=(8,4))\n",
    "sns.countplot(data=df_sampled, x='rating', order=sorted(df_sampled['rating'].unique()))\n",
    "plt.title(\"Distribution of Star Ratings\")\n",
    "plt.show()"
   ]
  },
  {
   "cell_type": "code",
   "execution_count": 63,
   "id": "ab2942d6-b6e5-4589-9a5f-35b250b9af56",
   "metadata": {},
   "outputs": [],
   "source": [
    "def preprocess_text(text):\n",
    "    text = text.lower()\n",
    "    text = re.sub(f\"[{string.punctuation}]\", \"\", text)\n",
    "    text = re.sub(r'\\d+', '', text)\n",
    "    text = re.sub(r'[^\\w\\s]', '', text)  # Remove punctuation\n",
    "    text = re.sub(r'\\s+', ' ', text)     # Remove extra whitespace\n",
    "    tokens = word_tokenize(text)\n",
    "    stop_words = set(stopwords.words('english'))\n",
    "    lemmatizer = WordNetLemmatizer()\n",
    "    tokens = [lemmatizer.lemmatize(word) for word in tokens if word not in stop_words]\n",
    "    return \" \".join(tokens)"
   ]
  },
  {
   "cell_type": "code",
   "execution_count": 65,
   "id": "461cfd74-49a7-4c47-9d78-ec45ac8697d5",
   "metadata": {},
   "outputs": [
    {
     "data": {
      "text/html": [
       "<div>\n",
       "<style scoped>\n",
       "    .dataframe tbody tr th:only-of-type {\n",
       "        vertical-align: middle;\n",
       "    }\n",
       "\n",
       "    .dataframe tbody tr th {\n",
       "        vertical-align: top;\n",
       "    }\n",
       "\n",
       "    .dataframe thead th {\n",
       "        text-align: right;\n",
       "    }\n",
       "</style>\n",
       "<table border=\"1\" class=\"dataframe\">\n",
       "  <thead>\n",
       "    <tr style=\"text-align: right;\">\n",
       "      <th></th>\n",
       "      <th>user_id</th>\n",
       "      <th>rating</th>\n",
       "      <th>text</th>\n",
       "      <th>gmap_id</th>\n",
       "      <th>clean_review</th>\n",
       "    </tr>\n",
       "  </thead>\n",
       "  <tbody>\n",
       "    <tr>\n",
       "      <th>1030933</th>\n",
       "      <td>108754496617711878337</td>\n",
       "      <td>1</td>\n",
       "      <td>Took us long to sit. Only one person that work...</td>\n",
       "      <td>0x89dc072685f8db8d:0x472c97602ebb781d</td>\n",
       "      <td>took u long sit one person worked want go like...</td>\n",
       "    </tr>\n",
       "    <tr>\n",
       "      <th>607821</th>\n",
       "      <td>110913657411615367606</td>\n",
       "      <td>1</td>\n",
       "      <td>I walked in ready to get my tattoo here based ...</td>\n",
       "      <td>0x89c24e6e75ae6bdb:0x62e6927a6eb3310d</td>\n",
       "      <td>walked ready get tattoo based good review reco...</td>\n",
       "    </tr>\n",
       "    <tr>\n",
       "      <th>2528995</th>\n",
       "      <td>101525478558822638524</td>\n",
       "      <td>1</td>\n",
       "      <td>Really bad customer service, plus over price.</td>\n",
       "      <td>0x89c2f3f66d608019:0x134316ff67a75ae3</td>\n",
       "      <td>really bad customer service plus price</td>\n",
       "    </tr>\n",
       "    <tr>\n",
       "      <th>863351</th>\n",
       "      <td>100700392448875044171</td>\n",
       "      <td>1</td>\n",
       "      <td>They have a youg lady that works there and she...</td>\n",
       "      <td>0x89c2599e515bf4dd:0x4f079e048a26869d</td>\n",
       "      <td>youg lady work steal card info order phone use...</td>\n",
       "    </tr>\n",
       "    <tr>\n",
       "      <th>347529</th>\n",
       "      <td>106010706783677566665</td>\n",
       "      <td>1</td>\n",
       "      <td>Disgusting, came wait for 15 minutes, while th...</td>\n",
       "      <td>0x89c3291acfa48871:0x3434bc5ee5656c46</td>\n",
       "      <td>disgusting came wait minute talk b even apolog...</td>\n",
       "    </tr>\n",
       "    <tr>\n",
       "      <th>...</th>\n",
       "      <td>...</td>\n",
       "      <td>...</td>\n",
       "      <td>...</td>\n",
       "      <td>...</td>\n",
       "      <td>...</td>\n",
       "    </tr>\n",
       "    <tr>\n",
       "      <th>15127484</th>\n",
       "      <td>102217410848262083193</td>\n",
       "      <td>5</td>\n",
       "      <td>Bobby,'s is the best go to for reasonable pric...</td>\n",
       "      <td>0x89c25b3eac517413:0x8294213d52523b1f</td>\n",
       "      <td>bobby best go reasonable priced house hold item</td>\n",
       "    </tr>\n",
       "    <tr>\n",
       "      <th>16440475</th>\n",
       "      <td>108879028250115321635</td>\n",
       "      <td>5</td>\n",
       "      <td>This Arby was good</td>\n",
       "      <td>0x89c261f71414037d:0xbc8c70b3359c3428</td>\n",
       "      <td>arby good</td>\n",
       "    </tr>\n",
       "    <tr>\n",
       "      <th>14221436</th>\n",
       "      <td>113187475746250248467</td>\n",
       "      <td>5</td>\n",
       "      <td>I've always enjoy shopping here, clean and fas...</td>\n",
       "      <td>0x89c2589d18cdf6d7:0x944cb15bd440e1f4</td>\n",
       "      <td>ive always enjoy shopping clean fast service w...</td>\n",
       "    </tr>\n",
       "    <tr>\n",
       "      <th>7116054</th>\n",
       "      <td>116671577511763781855</td>\n",
       "      <td>5</td>\n",
       "      <td>Had one of those meals where everything was ex...</td>\n",
       "      <td>0x89c259d6e1ed322b:0x8d06611d6f84ff6e</td>\n",
       "      <td>one meal everything excellent green salad grea...</td>\n",
       "    </tr>\n",
       "    <tr>\n",
       "      <th>16969635</th>\n",
       "      <td>104801318424481403191</td>\n",
       "      <td>5</td>\n",
       "      <td>A court house staple</td>\n",
       "      <td>0x89c25a2746a1fd0b:0xd7d51e573e1d55c3</td>\n",
       "      <td>court house staple</td>\n",
       "    </tr>\n",
       "  </tbody>\n",
       "</table>\n",
       "<p>50000 rows × 5 columns</p>\n",
       "</div>"
      ],
      "text/plain": [
       "                        user_id  rating  \\\n",
       "1030933   108754496617711878337       1   \n",
       "607821    110913657411615367606       1   \n",
       "2528995   101525478558822638524       1   \n",
       "863351    100700392448875044171       1   \n",
       "347529    106010706783677566665       1   \n",
       "...                         ...     ...   \n",
       "15127484  102217410848262083193       5   \n",
       "16440475  108879028250115321635       5   \n",
       "14221436  113187475746250248467       5   \n",
       "7116054   116671577511763781855       5   \n",
       "16969635  104801318424481403191       5   \n",
       "\n",
       "                                                       text  \\\n",
       "1030933   Took us long to sit. Only one person that work...   \n",
       "607821    I walked in ready to get my tattoo here based ...   \n",
       "2528995       Really bad customer service, plus over price.   \n",
       "863351    They have a youg lady that works there and she...   \n",
       "347529    Disgusting, came wait for 15 minutes, while th...   \n",
       "...                                                     ...   \n",
       "15127484  Bobby,'s is the best go to for reasonable pric...   \n",
       "16440475                                 This Arby was good   \n",
       "14221436  I've always enjoy shopping here, clean and fas...   \n",
       "7116054   Had one of those meals where everything was ex...   \n",
       "16969635                               A court house staple   \n",
       "\n",
       "                                        gmap_id  \\\n",
       "1030933   0x89dc072685f8db8d:0x472c97602ebb781d   \n",
       "607821    0x89c24e6e75ae6bdb:0x62e6927a6eb3310d   \n",
       "2528995   0x89c2f3f66d608019:0x134316ff67a75ae3   \n",
       "863351    0x89c2599e515bf4dd:0x4f079e048a26869d   \n",
       "347529    0x89c3291acfa48871:0x3434bc5ee5656c46   \n",
       "...                                         ...   \n",
       "15127484  0x89c25b3eac517413:0x8294213d52523b1f   \n",
       "16440475  0x89c261f71414037d:0xbc8c70b3359c3428   \n",
       "14221436  0x89c2589d18cdf6d7:0x944cb15bd440e1f4   \n",
       "7116054   0x89c259d6e1ed322b:0x8d06611d6f84ff6e   \n",
       "16969635  0x89c25a2746a1fd0b:0xd7d51e573e1d55c3   \n",
       "\n",
       "                                               clean_review  \n",
       "1030933   took u long sit one person worked want go like...  \n",
       "607821    walked ready get tattoo based good review reco...  \n",
       "2528995              really bad customer service plus price  \n",
       "863351    youg lady work steal card info order phone use...  \n",
       "347529    disgusting came wait minute talk b even apolog...  \n",
       "...                                                     ...  \n",
       "15127484    bobby best go reasonable priced house hold item  \n",
       "16440475                                          arby good  \n",
       "14221436  ive always enjoy shopping clean fast service w...  \n",
       "7116054   one meal everything excellent green salad grea...  \n",
       "16969635                                 court house staple  \n",
       "\n",
       "[50000 rows x 5 columns]"
      ]
     },
     "execution_count": 65,
     "metadata": {},
     "output_type": "execute_result"
    }
   ],
   "source": [
    "df_cleaned = df_sampled.copy()\n",
    "df_cleaned['clean_review']=df_cleaned['text'].apply(preprocess_text)\n",
    "df_cleaned"
   ]
  },
  {
   "cell_type": "code",
   "execution_count": 25,
   "id": "513492b8-274e-49c3-a4be-4353703c7784",
   "metadata": {
    "scrolled": true
   },
   "outputs": [
    {
     "name": "stdout",
     "output_type": "stream",
     "text": [
      "Requirement already satisfied: bertopic in c:\\users\\madel\\anaconda3\\lib\\site-packages (0.16.4)\n",
      "Requirement already satisfied: hdbscan>=0.8.29 in c:\\users\\madel\\anaconda3\\lib\\site-packages (from bertopic) (0.8.40)\n",
      "Requirement already satisfied: numpy>=1.20.0 in c:\\users\\madel\\appdata\\roaming\\python\\python312\\site-packages (from bertopic) (1.26.4)\n",
      "Requirement already satisfied: pandas>=1.1.5 in c:\\users\\madel\\anaconda3\\lib\\site-packages (from bertopic) (2.2.2)\n",
      "Requirement already satisfied: plotly>=4.7.0 in c:\\users\\madel\\anaconda3\\lib\\site-packages (from bertopic) (5.22.0)\n",
      "Requirement already satisfied: scikit-learn>=0.22.2.post1 in c:\\users\\madel\\anaconda3\\lib\\site-packages (from bertopic) (1.4.2)\n",
      "Requirement already satisfied: sentence-transformers>=0.4.1 in c:\\users\\madel\\anaconda3\\lib\\site-packages (from bertopic) (3.4.1)\n",
      "Requirement already satisfied: tqdm>=4.41.1 in c:\\users\\madel\\anaconda3\\lib\\site-packages (from bertopic) (4.66.4)\n",
      "Requirement already satisfied: umap-learn>=0.5.0 in c:\\users\\madel\\anaconda3\\lib\\site-packages (from bertopic) (0.5.7)\n",
      "Requirement already satisfied: scipy>=1.0 in c:\\users\\madel\\appdata\\roaming\\python\\python312\\site-packages (from hdbscan>=0.8.29->bertopic) (1.13.1)\n",
      "Requirement already satisfied: joblib>=1.0 in c:\\users\\madel\\anaconda3\\lib\\site-packages (from hdbscan>=0.8.29->bertopic) (1.4.2)\n",
      "Requirement already satisfied: python-dateutil>=2.8.2 in c:\\users\\madel\\anaconda3\\lib\\site-packages (from pandas>=1.1.5->bertopic) (2.9.0.post0)\n",
      "Requirement already satisfied: pytz>=2020.1 in c:\\users\\madel\\anaconda3\\lib\\site-packages (from pandas>=1.1.5->bertopic) (2024.1)\n",
      "Requirement already satisfied: tzdata>=2022.7 in c:\\users\\madel\\anaconda3\\lib\\site-packages (from pandas>=1.1.5->bertopic) (2023.3)\n",
      "Requirement already satisfied: tenacity>=6.2.0 in c:\\users\\madel\\anaconda3\\lib\\site-packages (from plotly>=4.7.0->bertopic) (8.2.2)\n",
      "Requirement already satisfied: packaging in c:\\users\\madel\\anaconda3\\lib\\site-packages (from plotly>=4.7.0->bertopic) (23.2)\n",
      "Requirement already satisfied: threadpoolctl>=2.0.0 in c:\\users\\madel\\anaconda3\\lib\\site-packages (from scikit-learn>=0.22.2.post1->bertopic) (2.2.0)\n",
      "Requirement already satisfied: transformers<5.0.0,>=4.41.0 in c:\\users\\madel\\anaconda3\\lib\\site-packages (from sentence-transformers>=0.4.1->bertopic) (4.49.0)\n",
      "Requirement already satisfied: torch>=1.11.0 in c:\\users\\madel\\anaconda3\\lib\\site-packages (from sentence-transformers>=0.4.1->bertopic) (2.5.1)\n",
      "Requirement already satisfied: huggingface-hub>=0.20.0 in c:\\users\\madel\\anaconda3\\lib\\site-packages (from sentence-transformers>=0.4.1->bertopic) (0.29.3)\n",
      "Requirement already satisfied: Pillow in c:\\users\\madel\\anaconda3\\lib\\site-packages (from sentence-transformers>=0.4.1->bertopic) (10.3.0)\n",
      "Requirement already satisfied: colorama in c:\\users\\madel\\anaconda3\\lib\\site-packages (from tqdm>=4.41.1->bertopic) (0.4.6)\n",
      "Requirement already satisfied: numba>=0.51.2 in c:\\users\\madel\\anaconda3\\lib\\site-packages (from umap-learn>=0.5.0->bertopic) (0.59.1)\n",
      "Requirement already satisfied: pynndescent>=0.5 in c:\\users\\madel\\anaconda3\\lib\\site-packages (from umap-learn>=0.5.0->bertopic) (0.5.13)\n",
      "Requirement already satisfied: filelock in c:\\users\\madel\\anaconda3\\lib\\site-packages (from huggingface-hub>=0.20.0->sentence-transformers>=0.4.1->bertopic) (3.13.1)\n",
      "Requirement already satisfied: fsspec>=2023.5.0 in c:\\users\\madel\\anaconda3\\lib\\site-packages (from huggingface-hub>=0.20.0->sentence-transformers>=0.4.1->bertopic) (2024.3.1)\n",
      "Requirement already satisfied: pyyaml>=5.1 in c:\\users\\madel\\anaconda3\\lib\\site-packages (from huggingface-hub>=0.20.0->sentence-transformers>=0.4.1->bertopic) (6.0.1)\n",
      "Requirement already satisfied: requests in c:\\users\\madel\\anaconda3\\lib\\site-packages (from huggingface-hub>=0.20.0->sentence-transformers>=0.4.1->bertopic) (2.32.2)\n",
      "Requirement already satisfied: typing-extensions>=3.7.4.3 in c:\\users\\madel\\anaconda3\\lib\\site-packages (from huggingface-hub>=0.20.0->sentence-transformers>=0.4.1->bertopic) (4.11.0)\n",
      "Requirement already satisfied: llvmlite<0.43,>=0.42.0dev0 in c:\\users\\madel\\anaconda3\\lib\\site-packages (from numba>=0.51.2->umap-learn>=0.5.0->bertopic) (0.42.0)\n",
      "Requirement already satisfied: six>=1.5 in c:\\users\\madel\\anaconda3\\lib\\site-packages (from python-dateutil>=2.8.2->pandas>=1.1.5->bertopic) (1.16.0)\n",
      "Requirement already satisfied: networkx in c:\\users\\madel\\anaconda3\\lib\\site-packages (from torch>=1.11.0->sentence-transformers>=0.4.1->bertopic) (3.2.1)\n",
      "Requirement already satisfied: jinja2 in c:\\users\\madel\\anaconda3\\lib\\site-packages (from torch>=1.11.0->sentence-transformers>=0.4.1->bertopic) (3.1.4)\n",
      "Requirement already satisfied: setuptools in c:\\users\\madel\\anaconda3\\lib\\site-packages (from torch>=1.11.0->sentence-transformers>=0.4.1->bertopic) (69.5.1)\n",
      "Requirement already satisfied: sympy==1.13.1 in c:\\users\\madel\\anaconda3\\lib\\site-packages (from torch>=1.11.0->sentence-transformers>=0.4.1->bertopic) (1.13.1)\n",
      "Requirement already satisfied: mpmath<1.4,>=1.1.0 in c:\\users\\madel\\anaconda3\\lib\\site-packages (from sympy==1.13.1->torch>=1.11.0->sentence-transformers>=0.4.1->bertopic) (1.3.0)\n",
      "Requirement already satisfied: regex!=2019.12.17 in c:\\users\\madel\\anaconda3\\lib\\site-packages (from transformers<5.0.0,>=4.41.0->sentence-transformers>=0.4.1->bertopic) (2023.10.3)\n",
      "Requirement already satisfied: tokenizers<0.22,>=0.21 in c:\\users\\madel\\anaconda3\\lib\\site-packages (from transformers<5.0.0,>=4.41.0->sentence-transformers>=0.4.1->bertopic) (0.21.1)\n",
      "Requirement already satisfied: safetensors>=0.4.1 in c:\\users\\madel\\anaconda3\\lib\\site-packages (from transformers<5.0.0,>=4.41.0->sentence-transformers>=0.4.1->bertopic) (0.5.3)\n",
      "Requirement already satisfied: MarkupSafe>=2.0 in c:\\users\\madel\\anaconda3\\lib\\site-packages (from jinja2->torch>=1.11.0->sentence-transformers>=0.4.1->bertopic) (2.1.3)\n",
      "Requirement already satisfied: charset-normalizer<4,>=2 in c:\\users\\madel\\anaconda3\\lib\\site-packages (from requests->huggingface-hub>=0.20.0->sentence-transformers>=0.4.1->bertopic) (2.0.4)\n",
      "Requirement already satisfied: idna<4,>=2.5 in c:\\users\\madel\\anaconda3\\lib\\site-packages (from requests->huggingface-hub>=0.20.0->sentence-transformers>=0.4.1->bertopic) (3.7)\n",
      "Requirement already satisfied: urllib3<3,>=1.21.1 in c:\\users\\madel\\anaconda3\\lib\\site-packages (from requests->huggingface-hub>=0.20.0->sentence-transformers>=0.4.1->bertopic) (2.2.2)\n",
      "Requirement already satisfied: certifi>=2017.4.17 in c:\\users\\madel\\anaconda3\\lib\\site-packages (from requests->huggingface-hub>=0.20.0->sentence-transformers>=0.4.1->bertopic) (2024.8.30)\n",
      "Requirement already satisfied: umap-learn in c:\\users\\madel\\anaconda3\\lib\\site-packages (0.5.7)\n",
      "Requirement already satisfied: numpy>=1.17 in c:\\users\\madel\\appdata\\roaming\\python\\python312\\site-packages (from umap-learn) (1.26.4)\n",
      "Requirement already satisfied: scipy>=1.3.1 in c:\\users\\madel\\appdata\\roaming\\python\\python312\\site-packages (from umap-learn) (1.13.1)\n",
      "Requirement already satisfied: scikit-learn>=0.22 in c:\\users\\madel\\anaconda3\\lib\\site-packages (from umap-learn) (1.4.2)\n",
      "Requirement already satisfied: numba>=0.51.2 in c:\\users\\madel\\anaconda3\\lib\\site-packages (from umap-learn) (0.59.1)\n",
      "Requirement already satisfied: pynndescent>=0.5 in c:\\users\\madel\\anaconda3\\lib\\site-packages (from umap-learn) (0.5.13)\n",
      "Requirement already satisfied: tqdm in c:\\users\\madel\\anaconda3\\lib\\site-packages (from umap-learn) (4.66.4)\n",
      "Requirement already satisfied: llvmlite<0.43,>=0.42.0dev0 in c:\\users\\madel\\anaconda3\\lib\\site-packages (from numba>=0.51.2->umap-learn) (0.42.0)\n",
      "Requirement already satisfied: joblib>=0.11 in c:\\users\\madel\\anaconda3\\lib\\site-packages (from pynndescent>=0.5->umap-learn) (1.4.2)\n",
      "Requirement already satisfied: threadpoolctl>=2.0.0 in c:\\users\\madel\\anaconda3\\lib\\site-packages (from scikit-learn>=0.22->umap-learn) (2.2.0)\n",
      "Requirement already satisfied: colorama in c:\\users\\madel\\anaconda3\\lib\\site-packages (from tqdm->umap-learn) (0.4.6)\n"
     ]
    }
   ],
   "source": [
    "# theme extraction (topic modelling)\n",
    "!pip install bertopic\n",
    "!pip install umap-learn"
   ]
  },
  {
   "cell_type": "code",
   "execution_count": 164,
   "id": "3a3b75ce-315b-40a6-a483-0d8bb3637090",
   "metadata": {},
   "outputs": [
    {
     "name": "stderr",
     "output_type": "stream",
     "text": [
      "2025-04-14 14:10:40,074 - BERTopic - Embedding - Transforming documents to embeddings.\n"
     ]
    },
    {
     "data": {
      "application/vnd.jupyter.widget-view+json": {
       "model_id": "57ef90247fa145099d0975faff2fee78",
       "version_major": 2,
       "version_minor": 0
      },
      "text/plain": [
       "Batches:   0%|          | 0/1064 [00:00<?, ?it/s]"
      ]
     },
     "metadata": {},
     "output_type": "display_data"
    },
    {
     "name": "stderr",
     "output_type": "stream",
     "text": [
      "2025-04-14 14:21:43,976 - BERTopic - Embedding - Completed ✓\n",
      "2025-04-14 14:21:43,980 - BERTopic - Dimensionality - Fitting the dimensionality reduction algorithm\n",
      "2025-04-14 14:22:08,385 - BERTopic - Dimensionality - Completed ✓\n",
      "2025-04-14 14:22:08,386 - BERTopic - Cluster - Start clustering the reduced embeddings\n",
      "2025-04-14 14:22:13,315 - BERTopic - Cluster - Completed ✓\n",
      "2025-04-14 14:22:13,315 - BERTopic - Representation - Extracting topics from clusters using representation models.\n",
      "2025-04-14 14:22:14,275 - BERTopic - Representation - Completed ✓\n",
      "2025-04-14 14:22:14,275 - BERTopic - Topic reduction - Reducing number of topics\n",
      "2025-04-14 14:22:15,478 - BERTopic - Topic reduction - Reduced number of topics from 271 to 47\n"
     ]
    }
   ],
   "source": [
    "# filter out reviews that are shorter than 5 words to improve topic modelling\n",
    "df_longreviews = df_cleaned[df_cleaned['clean_review'].str.split().str.len() >= 5].copy()\n",
    "\n",
    "from bertopic import BERTopic\n",
    "\n",
    "# Extract the reviews for modeling\n",
    "docs_new = df_longreviews['clean_review'].tolist()\n",
    "\n",
    "# Create BERTopic model\n",
    "topic_model_new = BERTopic(language=\"english\", verbose=True, nr_topics=\"auto\")\n",
    "\n",
    "# Extract topics and probabilities\n",
    "topics_new, probs_new = topic_model_new.fit_transform(docs_new)\n",
    "\n",
    "# Add topics back to DataFrame\n",
    "df_longreviews['topic'] = topics_new"
   ]
  },
  {
   "cell_type": "code",
   "execution_count": 188,
   "id": "521aa5af-4894-4aea-af14-6781d51cc1fb",
   "metadata": {},
   "outputs": [
    {
     "data": {
      "application/vnd.plotly.v1+json": {
       "config": {
        "plotlyServerURL": "https://plot.ly"
       },
       "data": [
        {
         "marker": {
          "color": "#D55E00"
         },
         "orientation": "h",
         "type": "bar",
         "x": [
          0.030692793581220235,
          0.03699246529637168,
          0.054634655004795495,
          0.060135743356850145,
          0.1460291356233576
         ],
         "xaxis": "x",
         "y": [
          "salon  ",
          "barber  ",
          "cut  ",
          "haircut  ",
          "hair  "
         ],
         "yaxis": "y"
        },
        {
         "marker": {
          "color": "#0072B2"
         },
         "orientation": "h",
         "type": "bar",
         "x": [
          0.04893884189238611,
          0.057230155606638994,
          0.08630729429268355,
          0.12711662538873422,
          0.13325855379752932
         ],
         "xaxis": "x2",
         "y": [
          "close  ",
          "hour  ",
          "pm  ",
          "open  ",
          "closed  "
         ],
         "yaxis": "y2"
        },
        {
         "marker": {
          "color": "#CC79A7"
         },
         "orientation": "h",
         "type": "bar",
         "x": [
          0.04936310151252859,
          0.05641497315717552,
          0.05662207952998666,
          0.05839769455882966,
          0.21920057697314368
         ],
         "xaxis": "x3",
         "y": [
          "polish  ",
          "manicure  ",
          "pedicure  ",
          "gel  ",
          "nail  "
         ],
         "yaxis": "y3"
        },
        {
         "marker": {
          "color": "#E69F00"
         },
         "orientation": "h",
         "type": "bar",
         "x": [
          0.026399922290980683,
          0.028708843054162117,
          0.05143958832121078,
          0.053446324155793055,
          0.36364977793818865
         ],
         "xaxis": "x4",
         "y": [
          "fresh  ",
          "butter  ",
          "cream  ",
          "cheese  ",
          "bagel  "
         ],
         "yaxis": "y4"
        },
        {
         "marker": {
          "color": "#56B4E9"
         },
         "orientation": "h",
         "type": "bar",
         "x": [
          0.033193181976347935,
          0.04018171367705794,
          0.05712997904899631,
          0.08891698780976431,
          0.2549270226831319
         ],
         "xaxis": "x5",
         "y": [
          "covid  ",
          "employee  ",
          "wear  ",
          "wearing  ",
          "mask  "
         ],
         "yaxis": "y5"
        },
        {
         "marker": {
          "color": "#009E73"
         },
         "orientation": "h",
         "type": "bar",
         "x": [
          0.025258596395822196,
          0.028328032495156516,
          0.02946836246179256,
          0.029496283215538474,
          0.25137503699765334
         ],
         "xaxis": "x6",
         "y": [
          "brake  ",
          "car  ",
          "wheel  ",
          "mavis  ",
          "tire  "
         ],
         "yaxis": "y6"
        },
        {
         "marker": {
          "color": "#F0E442"
         },
         "orientation": "h",
         "type": "bar",
         "x": [
          0.02795469682312695,
          0.029044995461075616,
          0.040061919881629555,
          0.050645803309691276,
          0.22384996037096225
         ],
         "xaxis": "x7",
         "y": [
          "class  ",
          "equipment  ",
          "fitness  ",
          "weight  ",
          "gym  "
         ],
         "yaxis": "y7"
        },
        {
         "marker": {
          "color": "#D55E00"
         },
         "orientation": "h",
         "type": "bar",
         "x": [
          0.03238463996549207,
          0.03405186560435892,
          0.037715944948692466,
          0.06400095929912593,
          0.13621090123208157
         ],
         "xaxis": "x8",
         "y": [
          "customer  ",
          "could  ",
          "would  ",
          "give  ",
          "star  "
         ],
         "yaxis": "y8"
        },
        {
         "marker": {
          "color": "#0072B2"
         },
         "orientation": "h",
         "type": "bar",
         "x": [
          0.05007602104705114,
          0.07309957835736251,
          0.08366760311513693,
          0.16830289443071972,
          0.35892078197391075
         ],
         "xaxis": "x9",
         "y": [
          "long  ",
          "enough  ",
          "line  ",
          "open  ",
          "register  "
         ],
         "yaxis": "y9"
        },
        {
         "marker": {
          "color": "#CC79A7"
         },
         "orientation": "h",
         "type": "bar",
         "x": [
          0.03551553845231561,
          0.04460274541356954,
          0.06534663884258539,
          0.15489656669968385,
          0.26278342586257863
         ],
         "xaxis": "x10",
         "y": [
          "inspection  ",
          "car  ",
          "filter  ",
          "change  ",
          "oil  "
         ],
         "yaxis": "y10"
        }
       ],
       "layout": {
        "annotations": [
         {
          "font": {
           "size": 16
          },
          "showarrow": false,
          "text": "Topic 1",
          "x": 0.0875,
          "xanchor": "center",
          "xref": "paper",
          "y": 1,
          "yanchor": "bottom",
          "yref": "paper"
         },
         {
          "font": {
           "size": 16
          },
          "showarrow": false,
          "text": "Topic 2",
          "x": 0.36250000000000004,
          "xanchor": "center",
          "xref": "paper",
          "y": 1,
          "yanchor": "bottom",
          "yref": "paper"
         },
         {
          "font": {
           "size": 16
          },
          "showarrow": false,
          "text": "Topic 3",
          "x": 0.6375000000000001,
          "xanchor": "center",
          "xref": "paper",
          "y": 1,
          "yanchor": "bottom",
          "yref": "paper"
         },
         {
          "font": {
           "size": 16
          },
          "showarrow": false,
          "text": "Topic 4",
          "x": 0.9125,
          "xanchor": "center",
          "xref": "paper",
          "y": 1,
          "yanchor": "bottom",
          "yref": "paper"
         },
         {
          "font": {
           "size": 16
          },
          "showarrow": false,
          "text": "Topic 5",
          "x": 0.0875,
          "xanchor": "center",
          "xref": "paper",
          "y": 0.6222222222222222,
          "yanchor": "bottom",
          "yref": "paper"
         },
         {
          "font": {
           "size": 16
          },
          "showarrow": false,
          "text": "Topic 6",
          "x": 0.36250000000000004,
          "xanchor": "center",
          "xref": "paper",
          "y": 0.6222222222222222,
          "yanchor": "bottom",
          "yref": "paper"
         },
         {
          "font": {
           "size": 16
          },
          "showarrow": false,
          "text": "Topic 7",
          "x": 0.6375000000000001,
          "xanchor": "center",
          "xref": "paper",
          "y": 0.6222222222222222,
          "yanchor": "bottom",
          "yref": "paper"
         },
         {
          "font": {
           "size": 16
          },
          "showarrow": false,
          "text": "Topic 8",
          "x": 0.9125,
          "xanchor": "center",
          "xref": "paper",
          "y": 0.6222222222222222,
          "yanchor": "bottom",
          "yref": "paper"
         },
         {
          "font": {
           "size": 16
          },
          "showarrow": false,
          "text": "Topic 9",
          "x": 0.0875,
          "xanchor": "center",
          "xref": "paper",
          "y": 0.24444444444444446,
          "yanchor": "bottom",
          "yref": "paper"
         },
         {
          "font": {
           "size": 16
          },
          "showarrow": false,
          "text": "Topic 10",
          "x": 0.36250000000000004,
          "xanchor": "center",
          "xref": "paper",
          "y": 0.24444444444444446,
          "yanchor": "bottom",
          "yref": "paper"
         }
        ],
        "height": 750,
        "hoverlabel": {
         "bgcolor": "white",
         "font": {
          "family": "Rockwell",
          "size": 16
         }
        },
        "showlegend": false,
        "template": {
         "data": {
          "bar": [
           {
            "error_x": {
             "color": "#2a3f5f"
            },
            "error_y": {
             "color": "#2a3f5f"
            },
            "marker": {
             "line": {
              "color": "white",
              "width": 0.5
             },
             "pattern": {
              "fillmode": "overlay",
              "size": 10,
              "solidity": 0.2
             }
            },
            "type": "bar"
           }
          ],
          "barpolar": [
           {
            "marker": {
             "line": {
              "color": "white",
              "width": 0.5
             },
             "pattern": {
              "fillmode": "overlay",
              "size": 10,
              "solidity": 0.2
             }
            },
            "type": "barpolar"
           }
          ],
          "carpet": [
           {
            "aaxis": {
             "endlinecolor": "#2a3f5f",
             "gridcolor": "#C8D4E3",
             "linecolor": "#C8D4E3",
             "minorgridcolor": "#C8D4E3",
             "startlinecolor": "#2a3f5f"
            },
            "baxis": {
             "endlinecolor": "#2a3f5f",
             "gridcolor": "#C8D4E3",
             "linecolor": "#C8D4E3",
             "minorgridcolor": "#C8D4E3",
             "startlinecolor": "#2a3f5f"
            },
            "type": "carpet"
           }
          ],
          "choropleth": [
           {
            "colorbar": {
             "outlinewidth": 0,
             "ticks": ""
            },
            "type": "choropleth"
           }
          ],
          "contour": [
           {
            "colorbar": {
             "outlinewidth": 0,
             "ticks": ""
            },
            "colorscale": [
             [
              0,
              "#0d0887"
             ],
             [
              0.1111111111111111,
              "#46039f"
             ],
             [
              0.2222222222222222,
              "#7201a8"
             ],
             [
              0.3333333333333333,
              "#9c179e"
             ],
             [
              0.4444444444444444,
              "#bd3786"
             ],
             [
              0.5555555555555556,
              "#d8576b"
             ],
             [
              0.6666666666666666,
              "#ed7953"
             ],
             [
              0.7777777777777778,
              "#fb9f3a"
             ],
             [
              0.8888888888888888,
              "#fdca26"
             ],
             [
              1,
              "#f0f921"
             ]
            ],
            "type": "contour"
           }
          ],
          "contourcarpet": [
           {
            "colorbar": {
             "outlinewidth": 0,
             "ticks": ""
            },
            "type": "contourcarpet"
           }
          ],
          "heatmap": [
           {
            "colorbar": {
             "outlinewidth": 0,
             "ticks": ""
            },
            "colorscale": [
             [
              0,
              "#0d0887"
             ],
             [
              0.1111111111111111,
              "#46039f"
             ],
             [
              0.2222222222222222,
              "#7201a8"
             ],
             [
              0.3333333333333333,
              "#9c179e"
             ],
             [
              0.4444444444444444,
              "#bd3786"
             ],
             [
              0.5555555555555556,
              "#d8576b"
             ],
             [
              0.6666666666666666,
              "#ed7953"
             ],
             [
              0.7777777777777778,
              "#fb9f3a"
             ],
             [
              0.8888888888888888,
              "#fdca26"
             ],
             [
              1,
              "#f0f921"
             ]
            ],
            "type": "heatmap"
           }
          ],
          "heatmapgl": [
           {
            "colorbar": {
             "outlinewidth": 0,
             "ticks": ""
            },
            "colorscale": [
             [
              0,
              "#0d0887"
             ],
             [
              0.1111111111111111,
              "#46039f"
             ],
             [
              0.2222222222222222,
              "#7201a8"
             ],
             [
              0.3333333333333333,
              "#9c179e"
             ],
             [
              0.4444444444444444,
              "#bd3786"
             ],
             [
              0.5555555555555556,
              "#d8576b"
             ],
             [
              0.6666666666666666,
              "#ed7953"
             ],
             [
              0.7777777777777778,
              "#fb9f3a"
             ],
             [
              0.8888888888888888,
              "#fdca26"
             ],
             [
              1,
              "#f0f921"
             ]
            ],
            "type": "heatmapgl"
           }
          ],
          "histogram": [
           {
            "marker": {
             "pattern": {
              "fillmode": "overlay",
              "size": 10,
              "solidity": 0.2
             }
            },
            "type": "histogram"
           }
          ],
          "histogram2d": [
           {
            "colorbar": {
             "outlinewidth": 0,
             "ticks": ""
            },
            "colorscale": [
             [
              0,
              "#0d0887"
             ],
             [
              0.1111111111111111,
              "#46039f"
             ],
             [
              0.2222222222222222,
              "#7201a8"
             ],
             [
              0.3333333333333333,
              "#9c179e"
             ],
             [
              0.4444444444444444,
              "#bd3786"
             ],
             [
              0.5555555555555556,
              "#d8576b"
             ],
             [
              0.6666666666666666,
              "#ed7953"
             ],
             [
              0.7777777777777778,
              "#fb9f3a"
             ],
             [
              0.8888888888888888,
              "#fdca26"
             ],
             [
              1,
              "#f0f921"
             ]
            ],
            "type": "histogram2d"
           }
          ],
          "histogram2dcontour": [
           {
            "colorbar": {
             "outlinewidth": 0,
             "ticks": ""
            },
            "colorscale": [
             [
              0,
              "#0d0887"
             ],
             [
              0.1111111111111111,
              "#46039f"
             ],
             [
              0.2222222222222222,
              "#7201a8"
             ],
             [
              0.3333333333333333,
              "#9c179e"
             ],
             [
              0.4444444444444444,
              "#bd3786"
             ],
             [
              0.5555555555555556,
              "#d8576b"
             ],
             [
              0.6666666666666666,
              "#ed7953"
             ],
             [
              0.7777777777777778,
              "#fb9f3a"
             ],
             [
              0.8888888888888888,
              "#fdca26"
             ],
             [
              1,
              "#f0f921"
             ]
            ],
            "type": "histogram2dcontour"
           }
          ],
          "mesh3d": [
           {
            "colorbar": {
             "outlinewidth": 0,
             "ticks": ""
            },
            "type": "mesh3d"
           }
          ],
          "parcoords": [
           {
            "line": {
             "colorbar": {
              "outlinewidth": 0,
              "ticks": ""
             }
            },
            "type": "parcoords"
           }
          ],
          "pie": [
           {
            "automargin": true,
            "type": "pie"
           }
          ],
          "scatter": [
           {
            "fillpattern": {
             "fillmode": "overlay",
             "size": 10,
             "solidity": 0.2
            },
            "type": "scatter"
           }
          ],
          "scatter3d": [
           {
            "line": {
             "colorbar": {
              "outlinewidth": 0,
              "ticks": ""
             }
            },
            "marker": {
             "colorbar": {
              "outlinewidth": 0,
              "ticks": ""
             }
            },
            "type": "scatter3d"
           }
          ],
          "scattercarpet": [
           {
            "marker": {
             "colorbar": {
              "outlinewidth": 0,
              "ticks": ""
             }
            },
            "type": "scattercarpet"
           }
          ],
          "scattergeo": [
           {
            "marker": {
             "colorbar": {
              "outlinewidth": 0,
              "ticks": ""
             }
            },
            "type": "scattergeo"
           }
          ],
          "scattergl": [
           {
            "marker": {
             "colorbar": {
              "outlinewidth": 0,
              "ticks": ""
             }
            },
            "type": "scattergl"
           }
          ],
          "scattermapbox": [
           {
            "marker": {
             "colorbar": {
              "outlinewidth": 0,
              "ticks": ""
             }
            },
            "type": "scattermapbox"
           }
          ],
          "scatterpolar": [
           {
            "marker": {
             "colorbar": {
              "outlinewidth": 0,
              "ticks": ""
             }
            },
            "type": "scatterpolar"
           }
          ],
          "scatterpolargl": [
           {
            "marker": {
             "colorbar": {
              "outlinewidth": 0,
              "ticks": ""
             }
            },
            "type": "scatterpolargl"
           }
          ],
          "scatterternary": [
           {
            "marker": {
             "colorbar": {
              "outlinewidth": 0,
              "ticks": ""
             }
            },
            "type": "scatterternary"
           }
          ],
          "surface": [
           {
            "colorbar": {
             "outlinewidth": 0,
             "ticks": ""
            },
            "colorscale": [
             [
              0,
              "#0d0887"
             ],
             [
              0.1111111111111111,
              "#46039f"
             ],
             [
              0.2222222222222222,
              "#7201a8"
             ],
             [
              0.3333333333333333,
              "#9c179e"
             ],
             [
              0.4444444444444444,
              "#bd3786"
             ],
             [
              0.5555555555555556,
              "#d8576b"
             ],
             [
              0.6666666666666666,
              "#ed7953"
             ],
             [
              0.7777777777777778,
              "#fb9f3a"
             ],
             [
              0.8888888888888888,
              "#fdca26"
             ],
             [
              1,
              "#f0f921"
             ]
            ],
            "type": "surface"
           }
          ],
          "table": [
           {
            "cells": {
             "fill": {
              "color": "#EBF0F8"
             },
             "line": {
              "color": "white"
             }
            },
            "header": {
             "fill": {
              "color": "#C8D4E3"
             },
             "line": {
              "color": "white"
             }
            },
            "type": "table"
           }
          ]
         },
         "layout": {
          "annotationdefaults": {
           "arrowcolor": "#2a3f5f",
           "arrowhead": 0,
           "arrowwidth": 1
          },
          "autotypenumbers": "strict",
          "coloraxis": {
           "colorbar": {
            "outlinewidth": 0,
            "ticks": ""
           }
          },
          "colorscale": {
           "diverging": [
            [
             0,
             "#8e0152"
            ],
            [
             0.1,
             "#c51b7d"
            ],
            [
             0.2,
             "#de77ae"
            ],
            [
             0.3,
             "#f1b6da"
            ],
            [
             0.4,
             "#fde0ef"
            ],
            [
             0.5,
             "#f7f7f7"
            ],
            [
             0.6,
             "#e6f5d0"
            ],
            [
             0.7,
             "#b8e186"
            ],
            [
             0.8,
             "#7fbc41"
            ],
            [
             0.9,
             "#4d9221"
            ],
            [
             1,
             "#276419"
            ]
           ],
           "sequential": [
            [
             0,
             "#0d0887"
            ],
            [
             0.1111111111111111,
             "#46039f"
            ],
            [
             0.2222222222222222,
             "#7201a8"
            ],
            [
             0.3333333333333333,
             "#9c179e"
            ],
            [
             0.4444444444444444,
             "#bd3786"
            ],
            [
             0.5555555555555556,
             "#d8576b"
            ],
            [
             0.6666666666666666,
             "#ed7953"
            ],
            [
             0.7777777777777778,
             "#fb9f3a"
            ],
            [
             0.8888888888888888,
             "#fdca26"
            ],
            [
             1,
             "#f0f921"
            ]
           ],
           "sequentialminus": [
            [
             0,
             "#0d0887"
            ],
            [
             0.1111111111111111,
             "#46039f"
            ],
            [
             0.2222222222222222,
             "#7201a8"
            ],
            [
             0.3333333333333333,
             "#9c179e"
            ],
            [
             0.4444444444444444,
             "#bd3786"
            ],
            [
             0.5555555555555556,
             "#d8576b"
            ],
            [
             0.6666666666666666,
             "#ed7953"
            ],
            [
             0.7777777777777778,
             "#fb9f3a"
            ],
            [
             0.8888888888888888,
             "#fdca26"
            ],
            [
             1,
             "#f0f921"
            ]
           ]
          },
          "colorway": [
           "#636efa",
           "#EF553B",
           "#00cc96",
           "#ab63fa",
           "#FFA15A",
           "#19d3f3",
           "#FF6692",
           "#B6E880",
           "#FF97FF",
           "#FECB52"
          ],
          "font": {
           "color": "#2a3f5f"
          },
          "geo": {
           "bgcolor": "white",
           "lakecolor": "white",
           "landcolor": "white",
           "showlakes": true,
           "showland": true,
           "subunitcolor": "#C8D4E3"
          },
          "hoverlabel": {
           "align": "left"
          },
          "hovermode": "closest",
          "mapbox": {
           "style": "light"
          },
          "paper_bgcolor": "white",
          "plot_bgcolor": "white",
          "polar": {
           "angularaxis": {
            "gridcolor": "#EBF0F8",
            "linecolor": "#EBF0F8",
            "ticks": ""
           },
           "bgcolor": "white",
           "radialaxis": {
            "gridcolor": "#EBF0F8",
            "linecolor": "#EBF0F8",
            "ticks": ""
           }
          },
          "scene": {
           "xaxis": {
            "backgroundcolor": "white",
            "gridcolor": "#DFE8F3",
            "gridwidth": 2,
            "linecolor": "#EBF0F8",
            "showbackground": true,
            "ticks": "",
            "zerolinecolor": "#EBF0F8"
           },
           "yaxis": {
            "backgroundcolor": "white",
            "gridcolor": "#DFE8F3",
            "gridwidth": 2,
            "linecolor": "#EBF0F8",
            "showbackground": true,
            "ticks": "",
            "zerolinecolor": "#EBF0F8"
           },
           "zaxis": {
            "backgroundcolor": "white",
            "gridcolor": "#DFE8F3",
            "gridwidth": 2,
            "linecolor": "#EBF0F8",
            "showbackground": true,
            "ticks": "",
            "zerolinecolor": "#EBF0F8"
           }
          },
          "shapedefaults": {
           "line": {
            "color": "#2a3f5f"
           }
          },
          "ternary": {
           "aaxis": {
            "gridcolor": "#DFE8F3",
            "linecolor": "#A2B1C6",
            "ticks": ""
           },
           "baxis": {
            "gridcolor": "#DFE8F3",
            "linecolor": "#A2B1C6",
            "ticks": ""
           },
           "bgcolor": "white",
           "caxis": {
            "gridcolor": "#DFE8F3",
            "linecolor": "#A2B1C6",
            "ticks": ""
           }
          },
          "title": {
           "x": 0.05
          },
          "xaxis": {
           "automargin": true,
           "gridcolor": "#EBF0F8",
           "linecolor": "#EBF0F8",
           "ticks": "",
           "title": {
            "standoff": 15
           },
           "zerolinecolor": "#EBF0F8",
           "zerolinewidth": 2
          },
          "yaxis": {
           "automargin": true,
           "gridcolor": "#EBF0F8",
           "linecolor": "#EBF0F8",
           "ticks": "",
           "title": {
            "standoff": 15
           },
           "zerolinecolor": "#EBF0F8",
           "zerolinewidth": 2
          }
         }
        },
        "title": {
         "font": {
          "color": "Black",
          "size": 22
         },
         "text": "Topic Word Scores",
         "x": 0.5,
         "xanchor": "center",
         "yanchor": "top"
        },
        "width": 1000,
        "xaxis": {
         "anchor": "y",
         "autorange": true,
         "domain": [
          0,
          0.175
         ],
         "range": [
          0,
          0.1537148796035343
         ],
         "showgrid": true,
         "type": "linear"
        },
        "xaxis10": {
         "anchor": "y10",
         "autorange": true,
         "domain": [
          0.275,
          0.45
         ],
         "range": [
          0,
          0.2766141324869249
         ],
         "showgrid": true,
         "type": "linear"
        },
        "xaxis11": {
         "anchor": "y11",
         "domain": [
          0.55,
          0.7250000000000001
         ],
         "showgrid": true
        },
        "xaxis12": {
         "anchor": "y12",
         "domain": [
          0.825,
          1
         ],
         "showgrid": true
        },
        "xaxis2": {
         "anchor": "y2",
         "autorange": true,
         "domain": [
          0.275,
          0.45
         ],
         "range": [
          0,
          0.14027216189213612
         ],
         "showgrid": true,
         "type": "linear"
        },
        "xaxis3": {
         "anchor": "y3",
         "autorange": true,
         "domain": [
          0.55,
          0.7250000000000001
         ],
         "range": [
          0,
          0.2307374494454144
         ],
         "showgrid": true,
         "type": "linear"
        },
        "xaxis4": {
         "anchor": "y4",
         "autorange": true,
         "domain": [
          0.825,
          1
         ],
         "range": [
          0,
          0.3827892399349354
         ],
         "showgrid": true,
         "type": "linear"
        },
        "xaxis5": {
         "anchor": "y5",
         "autorange": true,
         "domain": [
          0,
          0.175
         ],
         "range": [
          0,
          0.26834423440329674
         ],
         "showgrid": true,
         "type": "linear"
        },
        "xaxis6": {
         "anchor": "y6",
         "autorange": true,
         "domain": [
          0.275,
          0.45
         ],
         "range": [
          0,
          0.264605302102793
         ],
         "showgrid": true,
         "type": "linear"
        },
        "xaxis7": {
         "anchor": "y7",
         "autorange": true,
         "domain": [
          0.55,
          0.7250000000000001
         ],
         "range": [
          0,
          0.23563153723259184
         ],
         "showgrid": true,
         "type": "linear"
        },
        "xaxis8": {
         "anchor": "y8",
         "autorange": true,
         "domain": [
          0.825,
          1
         ],
         "range": [
          0,
          0.14337989603377008
         ],
         "showgrid": true,
         "type": "linear"
        },
        "xaxis9": {
         "anchor": "y9",
         "autorange": true,
         "domain": [
          0,
          0.175
         ],
         "range": [
          0,
          0.37781134944622186
         ],
         "showgrid": true,
         "type": "linear"
        },
        "yaxis": {
         "anchor": "x",
         "autorange": true,
         "domain": [
          0.7555555555555555,
          1
         ],
         "range": [
          -0.5,
          4.5
         ],
         "showgrid": true,
         "type": "category"
        },
        "yaxis10": {
         "anchor": "x10",
         "autorange": true,
         "domain": [
          0,
          0.24444444444444446
         ],
         "range": [
          -0.5,
          4.5
         ],
         "showgrid": true,
         "type": "category"
        },
        "yaxis11": {
         "anchor": "x11",
         "domain": [
          0,
          0.24444444444444446
         ],
         "showgrid": true
        },
        "yaxis12": {
         "anchor": "x12",
         "domain": [
          0,
          0.24444444444444446
         ],
         "showgrid": true
        },
        "yaxis2": {
         "anchor": "x2",
         "autorange": true,
         "domain": [
          0.7555555555555555,
          1
         ],
         "range": [
          -0.5,
          4.5
         ],
         "showgrid": true,
         "type": "category"
        },
        "yaxis3": {
         "anchor": "x3",
         "autorange": true,
         "domain": [
          0.7555555555555555,
          1
         ],
         "range": [
          -0.5,
          4.5
         ],
         "showgrid": true,
         "type": "category"
        },
        "yaxis4": {
         "anchor": "x4",
         "autorange": true,
         "domain": [
          0.7555555555555555,
          1
         ],
         "range": [
          -0.5,
          4.5
         ],
         "showgrid": true,
         "type": "category"
        },
        "yaxis5": {
         "anchor": "x5",
         "autorange": true,
         "domain": [
          0.37777777777777777,
          0.6222222222222222
         ],
         "range": [
          -0.5,
          4.5
         ],
         "showgrid": true,
         "type": "category"
        },
        "yaxis6": {
         "anchor": "x6",
         "autorange": true,
         "domain": [
          0.37777777777777777,
          0.6222222222222222
         ],
         "range": [
          -0.5,
          4.5
         ],
         "showgrid": true,
         "type": "category"
        },
        "yaxis7": {
         "anchor": "x7",
         "autorange": true,
         "domain": [
          0.37777777777777777,
          0.6222222222222222
         ],
         "range": [
          -0.5,
          4.5
         ],
         "showgrid": true,
         "type": "category"
        },
        "yaxis8": {
         "anchor": "x8",
         "autorange": true,
         "domain": [
          0.37777777777777777,
          0.6222222222222222
         ],
         "range": [
          -0.5,
          4.5
         ],
         "showgrid": true,
         "type": "category"
        },
        "yaxis9": {
         "anchor": "x9",
         "autorange": true,
         "domain": [
          0,
          0.24444444444444446
         ],
         "range": [
          -0.5,
          4.5
         ],
         "showgrid": true,
         "type": "category"
        }
       }
      },
      "image/png": "[encoded data removed]",
      "text/html": [
       "<div>                            <div id=\"a7627e14-f374-43c7-ac43-2e7972c33f10\" class=\"plotly-graph-div\" style=\"height:750px; width:1000px;\"></div>            <script type=\"text/javascript\">                require([\"plotly\"], function(Plotly) {                    window.PLOTLYENV=window.PLOTLYENV || {};                                    if (document.getElementById(\"a7627e14-f374-43c7-ac43-2e7972c33f10\")) {                    Plotly.newPlot(                        \"a7627e14-f374-43c7-ac43-2e7972c33f10\",                        [{\"marker\":{\"color\":\"#D55E00\"},\"orientation\":\"h\",\"x\":[0.030692793581220235,0.03699246529637168,0.054634655004795495,0.060135743356850145,0.1460291356233576],\"y\":[\"salon  \",\"barber  \",\"cut  \",\"haircut  \",\"hair  \"],\"type\":\"bar\",\"xaxis\":\"x\",\"yaxis\":\"y\"},{\"marker\":{\"color\":\"#0072B2\"},\"orientation\":\"h\",\"x\":[0.04893884189238611,0.057230155606638994,0.08630729429268355,0.12711662538873422,0.13325855379752932],\"y\":[\"close  \",\"hour  \",\"pm  \",\"open  \",\"closed  \"],\"type\":\"bar\",\"xaxis\":\"x2\",\"yaxis\":\"y2\"},{\"marker\":{\"color\":\"#CC79A7\"},\"orientation\":\"h\",\"x\":[0.04936310151252859,0.05641497315717552,0.05662207952998666,0.05839769455882966,0.21920057697314368],\"y\":[\"polish  \",\"manicure  \",\"pedicure  \",\"gel  \",\"nail  \"],\"type\":\"bar\",\"xaxis\":\"x3\",\"yaxis\":\"y3\"},{\"marker\":{\"color\":\"#E69F00\"},\"orientation\":\"h\",\"x\":[0.026399922290980683,0.028708843054162117,0.05143958832121078,0.053446324155793055,0.36364977793818865],\"y\":[\"fresh  \",\"butter  \",\"cream  \",\"cheese  \",\"bagel  \"],\"type\":\"bar\",\"xaxis\":\"x4\",\"yaxis\":\"y4\"},{\"marker\":{\"color\":\"#56B4E9\"},\"orientation\":\"h\",\"x\":[0.033193181976347935,0.04018171367705794,0.05712997904899631,0.08891698780976431,0.2549270226831319],\"y\":[\"covid  \",\"employee  \",\"wear  \",\"wearing  \",\"mask  \"],\"type\":\"bar\",\"xaxis\":\"x5\",\"yaxis\":\"y5\"},{\"marker\":{\"color\":\"#009E73\"},\"orientation\":\"h\",\"x\":[0.025258596395822196,0.028328032495156516,0.02946836246179256,0.029496283215538474,0.25137503699765334],\"y\":[\"brake  \",\"car  \",\"wheel  \",\"mavis  \",\"tire  \"],\"type\":\"bar\",\"xaxis\":\"x6\",\"yaxis\":\"y6\"},{\"marker\":{\"color\":\"#F0E442\"},\"orientation\":\"h\",\"x\":[0.02795469682312695,0.029044995461075616,0.040061919881629555,0.050645803309691276,0.22384996037096225],\"y\":[\"class  \",\"equipment  \",\"fitness  \",\"weight  \",\"gym  \"],\"type\":\"bar\",\"xaxis\":\"x7\",\"yaxis\":\"y7\"},{\"marker\":{\"color\":\"#D55E00\"},\"orientation\":\"h\",\"x\":[0.03238463996549207,0.03405186560435892,0.037715944948692466,0.06400095929912593,0.13621090123208157],\"y\":[\"customer  \",\"could  \",\"would  \",\"give  \",\"star  \"],\"type\":\"bar\",\"xaxis\":\"x8\",\"yaxis\":\"y8\"},{\"marker\":{\"color\":\"#0072B2\"},\"orientation\":\"h\",\"x\":[0.05007602104705114,0.07309957835736251,0.08366760311513693,0.16830289443071972,0.35892078197391075],\"y\":[\"long  \",\"enough  \",\"line  \",\"open  \",\"register  \"],\"type\":\"bar\",\"xaxis\":\"x9\",\"yaxis\":\"y9\"},{\"marker\":{\"color\":\"#CC79A7\"},\"orientation\":\"h\",\"x\":[0.03551553845231561,0.04460274541356954,0.06534663884258539,0.15489656669968385,0.26278342586257863],\"y\":[\"inspection  \",\"car  \",\"filter  \",\"change  \",\"oil  \"],\"type\":\"bar\",\"xaxis\":\"x10\",\"yaxis\":\"y10\"}],                        {\"template\":{\"data\":{\"barpolar\":[{\"marker\":{\"line\":{\"color\":\"white\",\"width\":0.5},\"pattern\":{\"fillmode\":\"overlay\",\"size\":10,\"solidity\":0.2}},\"type\":\"barpolar\"}],\"bar\":[{\"error_x\":{\"color\":\"#2a3f5f\"},\"error_y\":{\"color\":\"#2a3f5f\"},\"marker\":{\"line\":{\"color\":\"white\",\"width\":0.5},\"pattern\":{\"fillmode\":\"overlay\",\"size\":10,\"solidity\":0.2}},\"type\":\"bar\"}],\"carpet\":[{\"aaxis\":{\"endlinecolor\":\"#2a3f5f\",\"gridcolor\":\"#C8D4E3\",\"linecolor\":\"#C8D4E3\",\"minorgridcolor\":\"#C8D4E3\",\"startlinecolor\":\"#2a3f5f\"},\"baxis\":{\"endlinecolor\":\"#2a3f5f\",\"gridcolor\":\"#C8D4E3\",\"linecolor\":\"#C8D4E3\",\"minorgridcolor\":\"#C8D4E3\",\"startlinecolor\":\"#2a3f5f\"},\"type\":\"carpet\"}],\"choropleth\":[{\"colorbar\":{\"outlinewidth\":0,\"ticks\":\"\"},\"type\":\"choropleth\"}],\"contourcarpet\":[{\"colorbar\":{\"outlinewidth\":0,\"ticks\":\"\"},\"type\":\"contourcarpet\"}],\"contour\":[{\"colorbar\":{\"outlinewidth\":0,\"ticks\":\"\"},\"colorscale\":[[0.0,\"#0d0887\"],[0.1111111111111111,\"#46039f\"],[0.2222222222222222,\"#7201a8\"],[0.3333333333333333,\"#9c179e\"],[0.4444444444444444,\"#bd3786\"],[0.5555555555555556,\"#d8576b\"],[0.6666666666666666,\"#ed7953\"],[0.7777777777777778,\"#fb9f3a\"],[0.8888888888888888,\"#fdca26\"],[1.0,\"#f0f921\"]],\"type\":\"contour\"}],\"heatmapgl\":[{\"colorbar\":{\"outlinewidth\":0,\"ticks\":\"\"},\"colorscale\":[[0.0,\"#0d0887\"],[0.1111111111111111,\"#46039f\"],[0.2222222222222222,\"#7201a8\"],[0.3333333333333333,\"#9c179e\"],[0.4444444444444444,\"#bd3786\"],[0.5555555555555556,\"#d8576b\"],[0.6666666666666666,\"#ed7953\"],[0.7777777777777778,\"#fb9f3a\"],[0.8888888888888888,\"#fdca26\"],[1.0,\"#f0f921\"]],\"type\":\"heatmapgl\"}],\"heatmap\":[{\"colorbar\":{\"outlinewidth\":0,\"ticks\":\"\"},\"colorscale\":[[0.0,\"#0d0887\"],[0.1111111111111111,\"#46039f\"],[0.2222222222222222,\"#7201a8\"],[0.3333333333333333,\"#9c179e\"],[0.4444444444444444,\"#bd3786\"],[0.5555555555555556,\"#d8576b\"],[0.6666666666666666,\"#ed7953\"],[0.7777777777777778,\"#fb9f3a\"],[0.8888888888888888,\"#fdca26\"],[1.0,\"#f0f921\"]],\"type\":\"heatmap\"}],\"histogram2dcontour\":[{\"colorbar\":{\"outlinewidth\":0,\"ticks\":\"\"},\"colorscale\":[[0.0,\"#0d0887\"],[0.1111111111111111,\"#46039f\"],[0.2222222222222222,\"#7201a8\"],[0.3333333333333333,\"#9c179e\"],[0.4444444444444444,\"#bd3786\"],[0.5555555555555556,\"#d8576b\"],[0.6666666666666666,\"#ed7953\"],[0.7777777777777778,\"#fb9f3a\"],[0.8888888888888888,\"#fdca26\"],[1.0,\"#f0f921\"]],\"type\":\"histogram2dcontour\"}],\"histogram2d\":[{\"colorbar\":{\"outlinewidth\":0,\"ticks\":\"\"},\"colorscale\":[[0.0,\"#0d0887\"],[0.1111111111111111,\"#46039f\"],[0.2222222222222222,\"#7201a8\"],[0.3333333333333333,\"#9c179e\"],[0.4444444444444444,\"#bd3786\"],[0.5555555555555556,\"#d8576b\"],[0.6666666666666666,\"#ed7953\"],[0.7777777777777778,\"#fb9f3a\"],[0.8888888888888888,\"#fdca26\"],[1.0,\"#f0f921\"]],\"type\":\"histogram2d\"}],\"histogram\":[{\"marker\":{\"pattern\":{\"fillmode\":\"overlay\",\"size\":10,\"solidity\":0.2}},\"type\":\"histogram\"}],\"mesh3d\":[{\"colorbar\":{\"outlinewidth\":0,\"ticks\":\"\"},\"type\":\"mesh3d\"}],\"parcoords\":[{\"line\":{\"colorbar\":{\"outlinewidth\":0,\"ticks\":\"\"}},\"type\":\"parcoords\"}],\"pie\":[{\"automargin\":true,\"type\":\"pie\"}],\"scatter3d\":[{\"line\":{\"colorbar\":{\"outlinewidth\":0,\"ticks\":\"\"}},\"marker\":{\"colorbar\":{\"outlinewidth\":0,\"ticks\":\"\"}},\"type\":\"scatter3d\"}],\"scattercarpet\":[{\"marker\":{\"colorbar\":{\"outlinewidth\":0,\"ticks\":\"\"}},\"type\":\"scattercarpet\"}],\"scattergeo\":[{\"marker\":{\"colorbar\":{\"outlinewidth\":0,\"ticks\":\"\"}},\"type\":\"scattergeo\"}],\"scattergl\":[{\"marker\":{\"colorbar\":{\"outlinewidth\":0,\"ticks\":\"\"}},\"type\":\"scattergl\"}],\"scattermapbox\":[{\"marker\":{\"colorbar\":{\"outlinewidth\":0,\"ticks\":\"\"}},\"type\":\"scattermapbox\"}],\"scatterpolargl\":[{\"marker\":{\"colorbar\":{\"outlinewidth\":0,\"ticks\":\"\"}},\"type\":\"scatterpolargl\"}],\"scatterpolar\":[{\"marker\":{\"colorbar\":{\"outlinewidth\":0,\"ticks\":\"\"}},\"type\":\"scatterpolar\"}],\"scatter\":[{\"fillpattern\":{\"fillmode\":\"overlay\",\"size\":10,\"solidity\":0.2},\"type\":\"scatter\"}],\"scatterternary\":[{\"marker\":{\"colorbar\":{\"outlinewidth\":0,\"ticks\":\"\"}},\"type\":\"scatterternary\"}],\"surface\":[{\"colorbar\":{\"outlinewidth\":0,\"ticks\":\"\"},\"colorscale\":[[0.0,\"#0d0887\"],[0.1111111111111111,\"#46039f\"],[0.2222222222222222,\"#7201a8\"],[0.3333333333333333,\"#9c179e\"],[0.4444444444444444,\"#bd3786\"],[0.5555555555555556,\"#d8576b\"],[0.6666666666666666,\"#ed7953\"],[0.7777777777777778,\"#fb9f3a\"],[0.8888888888888888,\"#fdca26\"],[1.0,\"#f0f921\"]],\"type\":\"surface\"}],\"table\":[{\"cells\":{\"fill\":{\"color\":\"#EBF0F8\"},\"line\":{\"color\":\"white\"}},\"header\":{\"fill\":{\"color\":\"#C8D4E3\"},\"line\":{\"color\":\"white\"}},\"type\":\"table\"}]},\"layout\":{\"annotationdefaults\":{\"arrowcolor\":\"#2a3f5f\",\"arrowhead\":0,\"arrowwidth\":1},\"autotypenumbers\":\"strict\",\"coloraxis\":{\"colorbar\":{\"outlinewidth\":0,\"ticks\":\"\"}},\"colorscale\":{\"diverging\":[[0,\"#8e0152\"],[0.1,\"#c51b7d\"],[0.2,\"#de77ae\"],[0.3,\"#f1b6da\"],[0.4,\"#fde0ef\"],[0.5,\"#f7f7f7\"],[0.6,\"#e6f5d0\"],[0.7,\"#b8e186\"],[0.8,\"#7fbc41\"],[0.9,\"#4d9221\"],[1,\"#276419\"]],\"sequential\":[[0.0,\"#0d0887\"],[0.1111111111111111,\"#46039f\"],[0.2222222222222222,\"#7201a8\"],[0.3333333333333333,\"#9c179e\"],[0.4444444444444444,\"#bd3786\"],[0.5555555555555556,\"#d8576b\"],[0.6666666666666666,\"#ed7953\"],[0.7777777777777778,\"#fb9f3a\"],[0.8888888888888888,\"#fdca26\"],[1.0,\"#f0f921\"]],\"sequentialminus\":[[0.0,\"#0d0887\"],[0.1111111111111111,\"#46039f\"],[0.2222222222222222,\"#7201a8\"],[0.3333333333333333,\"#9c179e\"],[0.4444444444444444,\"#bd3786\"],[0.5555555555555556,\"#d8576b\"],[0.6666666666666666,\"#ed7953\"],[0.7777777777777778,\"#fb9f3a\"],[0.8888888888888888,\"#fdca26\"],[1.0,\"#f0f921\"]]},\"colorway\":[\"#636efa\",\"#EF553B\",\"#00cc96\",\"#ab63fa\",\"#FFA15A\",\"#19d3f3\",\"#FF6692\",\"#B6E880\",\"#FF97FF\",\"#FECB52\"],\"font\":{\"color\":\"#2a3f5f\"},\"geo\":{\"bgcolor\":\"white\",\"lakecolor\":\"white\",\"landcolor\":\"white\",\"showlakes\":true,\"showland\":true,\"subunitcolor\":\"#C8D4E3\"},\"hoverlabel\":{\"align\":\"left\"},\"hovermode\":\"closest\",\"mapbox\":{\"style\":\"light\"},\"paper_bgcolor\":\"white\",\"plot_bgcolor\":\"white\",\"polar\":{\"angularaxis\":{\"gridcolor\":\"#EBF0F8\",\"linecolor\":\"#EBF0F8\",\"ticks\":\"\"},\"bgcolor\":\"white\",\"radialaxis\":{\"gridcolor\":\"#EBF0F8\",\"linecolor\":\"#EBF0F8\",\"ticks\":\"\"}},\"scene\":{\"xaxis\":{\"backgroundcolor\":\"white\",\"gridcolor\":\"#DFE8F3\",\"gridwidth\":2,\"linecolor\":\"#EBF0F8\",\"showbackground\":true,\"ticks\":\"\",\"zerolinecolor\":\"#EBF0F8\"},\"yaxis\":{\"backgroundcolor\":\"white\",\"gridcolor\":\"#DFE8F3\",\"gridwidth\":2,\"linecolor\":\"#EBF0F8\",\"showbackground\":true,\"ticks\":\"\",\"zerolinecolor\":\"#EBF0F8\"},\"zaxis\":{\"backgroundcolor\":\"white\",\"gridcolor\":\"#DFE8F3\",\"gridwidth\":2,\"linecolor\":\"#EBF0F8\",\"showbackground\":true,\"ticks\":\"\",\"zerolinecolor\":\"#EBF0F8\"}},\"shapedefaults\":{\"line\":{\"color\":\"#2a3f5f\"}},\"ternary\":{\"aaxis\":{\"gridcolor\":\"#DFE8F3\",\"linecolor\":\"#A2B1C6\",\"ticks\":\"\"},\"baxis\":{\"gridcolor\":\"#DFE8F3\",\"linecolor\":\"#A2B1C6\",\"ticks\":\"\"},\"bgcolor\":\"white\",\"caxis\":{\"gridcolor\":\"#DFE8F3\",\"linecolor\":\"#A2B1C6\",\"ticks\":\"\"}},\"title\":{\"x\":0.05},\"xaxis\":{\"automargin\":true,\"gridcolor\":\"#EBF0F8\",\"linecolor\":\"#EBF0F8\",\"ticks\":\"\",\"title\":{\"standoff\":15},\"zerolinecolor\":\"#EBF0F8\",\"zerolinewidth\":2},\"yaxis\":{\"automargin\":true,\"gridcolor\":\"#EBF0F8\",\"linecolor\":\"#EBF0F8\",\"ticks\":\"\",\"title\":{\"standoff\":15},\"zerolinecolor\":\"#EBF0F8\",\"zerolinewidth\":2}}},\"xaxis\":{\"anchor\":\"y\",\"domain\":[0.0,0.175],\"showgrid\":true},\"yaxis\":{\"anchor\":\"x\",\"domain\":[0.7555555555555555,1.0],\"showgrid\":true},\"xaxis2\":{\"anchor\":\"y2\",\"domain\":[0.275,0.45],\"showgrid\":true},\"yaxis2\":{\"anchor\":\"x2\",\"domain\":[0.7555555555555555,1.0],\"showgrid\":true},\"xaxis3\":{\"anchor\":\"y3\",\"domain\":[0.55,0.7250000000000001],\"showgrid\":true},\"yaxis3\":{\"anchor\":\"x3\",\"domain\":[0.7555555555555555,1.0],\"showgrid\":true},\"xaxis4\":{\"anchor\":\"y4\",\"domain\":[0.825,1.0],\"showgrid\":true},\"yaxis4\":{\"anchor\":\"x4\",\"domain\":[0.7555555555555555,1.0],\"showgrid\":true},\"xaxis5\":{\"anchor\":\"y5\",\"domain\":[0.0,0.175],\"showgrid\":true},\"yaxis5\":{\"anchor\":\"x5\",\"domain\":[0.37777777777777777,0.6222222222222222],\"showgrid\":true},\"xaxis6\":{\"anchor\":\"y6\",\"domain\":[0.275,0.45],\"showgrid\":true},\"yaxis6\":{\"anchor\":\"x6\",\"domain\":[0.37777777777777777,0.6222222222222222],\"showgrid\":true},\"xaxis7\":{\"anchor\":\"y7\",\"domain\":[0.55,0.7250000000000001],\"showgrid\":true},\"yaxis7\":{\"anchor\":\"x7\",\"domain\":[0.37777777777777777,0.6222222222222222],\"showgrid\":true},\"xaxis8\":{\"anchor\":\"y8\",\"domain\":[0.825,1.0],\"showgrid\":true},\"yaxis8\":{\"anchor\":\"x8\",\"domain\":[0.37777777777777777,0.6222222222222222],\"showgrid\":true},\"xaxis9\":{\"anchor\":\"y9\",\"domain\":[0.0,0.175],\"showgrid\":true},\"yaxis9\":{\"anchor\":\"x9\",\"domain\":[0.0,0.24444444444444446],\"showgrid\":true},\"xaxis10\":{\"anchor\":\"y10\",\"domain\":[0.275,0.45],\"showgrid\":true},\"yaxis10\":{\"anchor\":\"x10\",\"domain\":[0.0,0.24444444444444446],\"showgrid\":true},\"xaxis11\":{\"anchor\":\"y11\",\"domain\":[0.55,0.7250000000000001],\"showgrid\":true},\"yaxis11\":{\"anchor\":\"x11\",\"domain\":[0.0,0.24444444444444446],\"showgrid\":true},\"xaxis12\":{\"anchor\":\"y12\",\"domain\":[0.825,1.0],\"showgrid\":true},\"yaxis12\":{\"anchor\":\"x12\",\"domain\":[0.0,0.24444444444444446],\"showgrid\":true},\"annotations\":[{\"font\":{\"size\":16},\"showarrow\":false,\"text\":\"Topic 1\",\"x\":0.0875,\"xanchor\":\"center\",\"xref\":\"paper\",\"y\":1.0,\"yanchor\":\"bottom\",\"yref\":\"paper\"},{\"font\":{\"size\":16},\"showarrow\":false,\"text\":\"Topic 2\",\"x\":0.36250000000000004,\"xanchor\":\"center\",\"xref\":\"paper\",\"y\":1.0,\"yanchor\":\"bottom\",\"yref\":\"paper\"},{\"font\":{\"size\":16},\"showarrow\":false,\"text\":\"Topic 3\",\"x\":0.6375000000000001,\"xanchor\":\"center\",\"xref\":\"paper\",\"y\":1.0,\"yanchor\":\"bottom\",\"yref\":\"paper\"},{\"font\":{\"size\":16},\"showarrow\":false,\"text\":\"Topic 4\",\"x\":0.9125,\"xanchor\":\"center\",\"xref\":\"paper\",\"y\":1.0,\"yanchor\":\"bottom\",\"yref\":\"paper\"},{\"font\":{\"size\":16},\"showarrow\":false,\"text\":\"Topic 5\",\"x\":0.0875,\"xanchor\":\"center\",\"xref\":\"paper\",\"y\":0.6222222222222222,\"yanchor\":\"bottom\",\"yref\":\"paper\"},{\"font\":{\"size\":16},\"showarrow\":false,\"text\":\"Topic 6\",\"x\":0.36250000000000004,\"xanchor\":\"center\",\"xref\":\"paper\",\"y\":0.6222222222222222,\"yanchor\":\"bottom\",\"yref\":\"paper\"},{\"font\":{\"size\":16},\"showarrow\":false,\"text\":\"Topic 7\",\"x\":0.6375000000000001,\"xanchor\":\"center\",\"xref\":\"paper\",\"y\":0.6222222222222222,\"yanchor\":\"bottom\",\"yref\":\"paper\"},{\"font\":{\"size\":16},\"showarrow\":false,\"text\":\"Topic 8\",\"x\":0.9125,\"xanchor\":\"center\",\"xref\":\"paper\",\"y\":0.6222222222222222,\"yanchor\":\"bottom\",\"yref\":\"paper\"},{\"font\":{\"size\":16},\"showarrow\":false,\"text\":\"Topic 9\",\"x\":0.0875,\"xanchor\":\"center\",\"xref\":\"paper\",\"y\":0.24444444444444446,\"yanchor\":\"bottom\",\"yref\":\"paper\"},{\"font\":{\"size\":16},\"showarrow\":false,\"text\":\"Topic 10\",\"x\":0.36250000000000004,\"xanchor\":\"center\",\"xref\":\"paper\",\"y\":0.24444444444444446,\"yanchor\":\"bottom\",\"yref\":\"paper\"}],\"title\":{\"font\":{\"size\":22,\"color\":\"Black\"},\"text\":\"Topic Word Scores\",\"x\":0.5,\"xanchor\":\"center\",\"yanchor\":\"top\"},\"hoverlabel\":{\"font\":{\"size\":16,\"family\":\"Rockwell\"},\"bgcolor\":\"white\"},\"showlegend\":false,\"width\":1000,\"height\":750},                        {\"responsive\": true}                    ).then(function(){\n",
       "                            \n",
       "var gd = document.getElementById('a7627e14-f374-43c7-ac43-2e7972c33f10');\n",
       "var x = new MutationObserver(function (mutations, observer) {{\n",
       "        var display = window.getComputedStyle(gd).display;\n",
       "        if (!display || display === 'none') {{\n",
       "            console.log([gd, 'removed!']);\n",
       "            Plotly.purge(gd);\n",
       "            observer.disconnect();\n",
       "        }}\n",
       "}});\n",
       "\n",
       "// Listen for the removal of the full notebook cells\n",
       "var notebookContainer = gd.closest('#notebook-container');\n",
       "if (notebookContainer) {{\n",
       "    x.observe(notebookContainer, {childList: true});\n",
       "}}\n",
       "\n",
       "// Listen for the clearing of the current output cell\n",
       "var outputEl = gd.closest('.output');\n",
       "if (outputEl) {{\n",
       "    x.observe(outputEl, {childList: true});\n",
       "}}\n",
       "\n",
       "                        })                };                });            </script>        </div>"
      ]
     },
     "metadata": {},
     "output_type": "display_data"
    }
   ],
   "source": [
    "topic_model_new.get_topic_info()\n",
    "\n",
    "# Visualize top topics\n",
    "topic_ids = topic_info[(topic_info['Topic'] > 0) & (topic_info['Topic'] <= 10)]['Topic'].tolist()\n",
    "topic_model_new.visualize_barchart(top_n_topics=None, topics=topic_ids)"
   ]
  },
  {
   "cell_type": "code",
   "execution_count": 184,
   "id": "116450dc-ed9b-4c94-a448-f8be9be654f6",
   "metadata": {},
   "outputs": [
    {
     "name": "stdout",
     "output_type": "stream",
     "text": [
      "Coherence Score: 0.6115632859237221\n"
     ]
    }
   ],
   "source": [
    "from gensim.models.coherencemodel import CoherenceModel\n",
    "from gensim.corpora.dictionary import Dictionary\n",
    "\n",
    "# Extract tokenized versions of documents\n",
    "df_top10_new = df_longreviews[df_longreviews['topic'].isin(range(1, 11))]\n",
    "docs = df_top10_new['clean_review'].tolist()\n",
    "tokenized_docs = [doc.split() for doc in docs]\n",
    "\n",
    "# Get only the top 10 topic IDs used in df_top10\n",
    "top_10_topic_ids = set(df_top10_new['topic'].unique())\n",
    "\n",
    "# Get BERTopic's topic word lists\n",
    "all_topics = topic_model_new.get_topics()\n",
    "\n",
    "# Select only those topic word lists that correspond to top 10 topics\n",
    "topic_words = [\n",
    "    [word for word, _ in all_topics[topic_id]]\n",
    "    for topic_id in top_10_topic_ids\n",
    "    if topic_id in all_topics\n",
    "]\n",
    "\n",
    "# Create dictionary and corpus for coherence calculation\n",
    "dictionary = Dictionary(tokenized_docs)\n",
    "corpus = [dictionary.doc2bow(doc) for doc in tokenized_docs]\n",
    "\n",
    "# Calculate coherence\n",
    "coherence_model = CoherenceModel(\n",
    "    topics=topic_words, \n",
    "    texts=tokenized_docs, \n",
    "    dictionary=dictionary, \n",
    "    coherence='c_v'  # You can also try 'u_mass', 'c_uci', 'c_npmi'\n",
    ")\n",
    "\n",
    "coherence_score = coherence_model.get_coherence()\n",
    "print(f\"Coherence Score: {coherence_score}\")"
   ]
  },
  {
   "cell_type": "code",
   "execution_count": 190,
   "id": "f9283d0b-85fb-45a3-87ea-aa3faba653aa",
   "metadata": {},
   "outputs": [
    {
     "data": {
      "image/png": "[encoded data removed]",
      "text/plain": [
       "<Figure size 1000x500 with 1 Axes>"
      ]
     },
     "metadata": {},
     "output_type": "display_data"
    }
   ],
   "source": [
    "topic_sizes = topic_model_new.get_topic_info()\n",
    "topic_sizes = topic_sizes[topic_sizes.Topic > 0]  # Remove outlier topic\n",
    "\n",
    "# Sort by count and keep only top 10\n",
    "top10_topics = topic_sizes.sort_values(\"Count\", ascending=False).head(10)\n",
    "\n",
    "# Plot\n",
    "plt.figure(figsize=(10, 5))\n",
    "plt.bar(top10_topics[\"Topic\"].astype(str), top10_topics[\"Count\"])\n",
    "plt.title(\"Top 10 Most Frequent Topics\")\n",
    "plt.ylabel(\"Document Count\")\n",
    "plt.xlabel(\"Topic\")\n",
    "plt.tight_layout()\n",
    "plt.show()"
   ]
  },
  {
   "cell_type": "code",
   "execution_count": 196,
   "id": "9527748a-b1a9-48cb-8684-1b8f93cb4928",
   "metadata": {},
   "outputs": [
    {
     "name": "stdout",
     "output_type": "stream",
     "text": [
      "Topic Distribution Entropy (Top 10): 2.2027\n"
     ]
    }
   ],
   "source": [
    "from scipy.stats import entropy\n",
    "\n",
    "# Get topic info and exclude outlier\n",
    "topic_info = topic_model_new.get_topic_info()\n",
    "topic_info = topic_info[topic_info.Topic > 0]\n",
    "\n",
    "# Get top 10 topics by count\n",
    "top10_info = topic_info.sort_values(\"Count\", ascending=False).head(10)\n",
    "\n",
    "# Normalize counts into a probability distribution\n",
    "topic_counts = top10_info[\"Count\"].values\n",
    "topic_probs = topic_counts / topic_counts.sum()\n",
    "\n",
    "# Compute entropy\n",
    "distribution_entropy = entropy(topic_probs)\n",
    "\n",
    "print(f\"Topic Distribution Entropy (Top 10): {distribution_entropy:.4f}\")"
   ]
  },
  {
   "cell_type": "code",
   "execution_count": null,
   "id": "784bffbe-c26c-4674-98b7-08d98d42ba4a",
   "metadata": {},
   "outputs": [
    {
     "name": "stdout",
     "output_type": "stream",
     "text": [
      "Spearman's correlation coefficient: -0.03737864663764101\n",
      "P-value: 0.005611857924715768\n"
     ]
    }
   ],
   "source": [
    "from scipy.stats import spearmanr\n",
    "correlation_coefficient, p_value = spearmanr(df_top10_new['topic'], df_top10_new['rating'])\n",
    "\n",
    "print(\"Spearman's correlation coefficient:\", correlation_coefficient)\n",
    "print(\"P-value:\", p_value)"
   ]
  }
 ],
 "metadata": {
  "kernelspec": {
   "display_name": "Python 3 (ipykernel)",
   "language": "python",
   "name": "python3"
  },
  "language_info": {
   "codemirror_mode": {
    "name": "ipython",
    "version": 3
   },
   "file_extension": ".py",
   "mimetype": "text/x-python",
   "name": "python",
   "nbconvert_exporter": "python",
   "pygments_lexer": "ipython3",
   "version": "3.12.4"
  }
 },
 "nbformat": 4,
 "nbformat_minor": 5
}
